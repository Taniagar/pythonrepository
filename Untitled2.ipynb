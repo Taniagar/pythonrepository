{
 "cells": [
  {
   "cell_type": "code",
   "execution_count": 93,
   "id": "ed26413a-ef2b-447c-8267-aa26a6a36b58",
   "metadata": {},
   "outputs": [],
   "source": [
    "L=[1,2,3,4,5]\n",
    "def recorrer(L,j):\n",
    "  for i in range (0,j):\n",
    "    L += [L.pop(0)]\n",
    "  return L"
   ]
  },
  {
   "cell_type": "code",
   "execution_count": 116,
   "id": "3711d975-617d-42eb-89bb-0d30f7a258e7",
   "metadata": {},
   "outputs": [
    {
     "data": {
      "text/plain": [
       "[2, 3, 4, 5, 1]"
      ]
     },
     "execution_count": 116,
     "metadata": {},
     "output_type": "execute_result"
    }
   ],
   "source": [
    "recorrer(L,6)"
   ]
  },
  {
   "cell_type": "code",
   "execution_count": 2,
   "id": "0b2801e3-7991-4b20-924b-7fd3af000cb4",
   "metadata": {},
   "outputs": [
    {
     "name": "stdin",
     "output_type": "stream",
     "text": [
      " 3\n",
      " 1\n",
      " 2\n",
      " 3\n",
      " 2\n",
      " 3\n",
      " 1\n"
     ]
    },
    {
     "name": "stdout",
     "output_type": "stream",
     "text": [
      "SE PUEDE\n"
     ]
    }
   ],
   "source": [
    "def recorrer(L,j):\n",
    "  for i in range (0,j):\n",
    "    L += [L.pop(0)]\n",
    "  return L\n",
    " \n",
    "#Input\n",
    "n=int(input())\n",
    "L1=[]\n",
    "for i in range (0,n):\n",
    "  i=int(input())\n",
    "  L1.append(i)\n",
    "\n",
    "L2=[]\n",
    "for i in range (0,n):\n",
    "  i=int(input())\n",
    "  L2.append(i)\n",
    "  \n",
    "x='NO SE PUEDE'\n",
    "for k in range (0,n):\n",
    "  while  L1[0]==L2[k]:\n",
    "      L3=recorrer(L2,k) \n",
    "      if L1==L3:\n",
    "        x='SE PUEDE'\n",
    "        break\n",
    "print(x)"
   ]
  }
 ],
 "metadata": {
  "kernelspec": {
   "display_name": "Python 3",
   "language": "python",
   "name": "python3"
  },
  "language_info": {
   "codemirror_mode": {
    "name": "ipython",
    "version": 3
   },
   "file_extension": ".py",
   "mimetype": "text/x-python",
   "name": "python",
   "nbconvert_exporter": "python",
   "pygments_lexer": "ipython3",
   "version": "3.8.8"
  }
 },
 "nbformat": 4,
 "nbformat_minor": 5
}
