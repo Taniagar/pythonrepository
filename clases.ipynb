{
 "cells": [
  {
   "cell_type": "code",
   "execution_count": 1,
   "id": "c9828018-4866-4b9a-bbc1-f0cf3841be96",
   "metadata": {},
   "outputs": [],
   "source": [
    "class complejo:\n",
    "    real=0.0\n",
    "    imaginario=0.0"
   ]
  },
  {
   "cell_type": "code",
   "execution_count": 3,
   "id": "bb979d49-dd11-4683-aac9-ce79c51777fc",
   "metadata": {},
   "outputs": [
    {
     "name": "stdout",
     "output_type": "stream",
     "text": [
      "<__main__.complejo object at 0x000002AEE1E969D0>\n"
     ]
    }
   ],
   "source": [
    "z=complejo()"
   ]
  },
  {
   "cell_type": "code",
   "execution_count": 4,
   "id": "272eb979-1287-4e89-87b8-c4b8df3526da",
   "metadata": {},
   "outputs": [
    {
     "data": {
      "text/plain": [
       "0.0"
      ]
     },
     "execution_count": 4,
     "metadata": {},
     "output_type": "execute_result"
    }
   ],
   "source": [
    "z.real"
   ]
  },
  {
   "cell_type": "code",
   "execution_count": 5,
   "id": "a166033f-d356-4f35-b56d-2a60f0a03b0f",
   "metadata": {},
   "outputs": [
    {
     "data": {
      "text/plain": [
       "0.0"
      ]
     },
     "execution_count": 5,
     "metadata": {},
     "output_type": "execute_result"
    }
   ],
   "source": [
    "z.imaginario"
   ]
  },
  {
   "cell_type": "code",
   "execution_count": 6,
   "id": "f54f9dee-a199-40a3-8462-5f031c115f8c",
   "metadata": {},
   "outputs": [],
   "source": [
    "z.real=5.0"
   ]
  },
  {
   "cell_type": "code",
   "execution_count": 7,
   "id": "2bcd4b1a-8a67-4bad-b9e9-9efe088365dc",
   "metadata": {},
   "outputs": [
    {
     "data": {
      "text/plain": [
       "5.0"
      ]
     },
     "execution_count": 7,
     "metadata": {},
     "output_type": "execute_result"
    }
   ],
   "source": [
    "z.real"
   ]
  },
  {
   "cell_type": "code",
   "execution_count": 8,
   "id": "9e13b59b-2c88-44f1-a6b2-7fb9699ed288",
   "metadata": {},
   "outputs": [],
   "source": [
    "import math\n",
    "\n",
    "class complejo:\n",
    "    def __init__(self,r=0.0,i=0.0):\n",
    "        self.r = r\n",
    "        self.i = i\n",
    "    def norma(self):\n",
    "        return math.sqrt(self.r*self.r + self.i*self.r)\n",
    "    def imprime(self):\n",
    "        if self.i >= 0.0:\n",
    "            print(f'{self.r} + i {self.i}')\n",
    "        else:\n",
    "            print(f'{self.r} - i {-self.i}')\n",
    "    def conjuga(self):\n",
    "        self.i = -self.i\n",
    "    def __add__(self,z):\n",
    "        res = complejo(self.r+z.r,self.i+z.i)\n",
    "        return res\n",
    "    def __mul__(self,z):\n",
    "        return complejo(self.r*z.r-self.i*z.i,self.r*z.i+self.i*z.r)"
   ]
  },
  {
   "cell_type": "code",
   "execution_count": 9,
   "id": "69454c1d-99fa-48a3-aba1-f1c0bd847ce9",
   "metadata": {},
   "outputs": [],
   "source": [
    "z=complejo(2.0,-1.0)"
   ]
  },
  {
   "cell_type": "code",
   "execution_count": 10,
   "id": "903ed849-2b16-4dd5-a007-e2fcee667e13",
   "metadata": {},
   "outputs": [
    {
     "data": {
      "text/plain": [
       "2.0"
      ]
     },
     "execution_count": 10,
     "metadata": {},
     "output_type": "execute_result"
    }
   ],
   "source": [
    "z.r"
   ]
  },
  {
   "cell_type": "code",
   "execution_count": 11,
   "id": "17ff8ead-9750-474c-9114-1a5383a84ea2",
   "metadata": {},
   "outputs": [
    {
     "data": {
      "text/plain": [
       "1.4142135623730951"
      ]
     },
     "execution_count": 11,
     "metadata": {},
     "output_type": "execute_result"
    }
   ],
   "source": [
    "z.norma()"
   ]
  },
  {
   "cell_type": "code",
   "execution_count": 12,
   "id": "a4b4565c-6913-4bc2-8ea5-5f793ab6161c",
   "metadata": {},
   "outputs": [
    {
     "name": "stdout",
     "output_type": "stream",
     "text": [
      "2.0 - i 1.0\n"
     ]
    }
   ],
   "source": [
    "z.imprime()"
   ]
  },
  {
   "cell_type": "code",
   "execution_count": 13,
   "id": "1030dd71-12c9-44b8-a4f6-8f2b00ff1703",
   "metadata": {},
   "outputs": [],
   "source": [
    "z.conjuga()"
   ]
  },
  {
   "cell_type": "code",
   "execution_count": 14,
   "id": "a3a2e8f7-bca6-4f9d-83cd-baa9714dc69d",
   "metadata": {},
   "outputs": [
    {
     "name": "stdout",
     "output_type": "stream",
     "text": [
      "2.0 + i 1.0\n"
     ]
    }
   ],
   "source": [
    "z.imprime()"
   ]
  },
  {
   "cell_type": "code",
   "execution_count": null,
   "id": "2aa9421d-5480-47d6-897a-059b6c70a9a6",
   "metadata": {},
   "outputs": [],
   "source": [
    "import math\n",
    "\n",
    "class complejo:\n",
    "    def __init__(self,r=0.0,i=0.0):\n",
    "        self.r = r\n",
    "        self.i = i\n",
    "    def norma(self):\n",
    "        return math.sqrt(self.r*self.r + self.i*self.r)\n",
    "    def imprime(self):\n",
    "        if self.i >= 0.0:\n",
    "            print(f'{self.r} + i {self.i}')\n",
    "        else:\n",
    "            print(f'{self.r} - i {-self.i}')\n",
    "    def conjuga(self):\n",
    "        self.i = -self.i\n",
    "    def __add__(self,z):\n",
    "        res = complejo(self.r+z.r,self.i+z.i)\n",
    "        return res\n",
    "    def __mul__(self,z):\n",
    "        return complejo(self.r*z.r-self.i*z.i,self.r*z.i+self.i*z.r)"
   ]
  }
 ],
 "metadata": {
  "kernelspec": {
   "display_name": "Python 3",
   "language": "python",
   "name": "python3"
  },
  "language_info": {
   "codemirror_mode": {
    "name": "ipython",
    "version": 3
   },
   "file_extension": ".py",
   "mimetype": "text/x-python",
   "name": "python",
   "nbconvert_exporter": "python",
   "pygments_lexer": "ipython3",
   "version": "3.8.8"
  }
 },
 "nbformat": 4,
 "nbformat_minor": 5
}
