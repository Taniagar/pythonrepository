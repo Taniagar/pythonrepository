{
 "cells": [
  {
   "cell_type": "markdown",
   "id": "1fdb7f6b-8cbb-4dd0-8d47-ab04adfe8702",
   "metadata": {},
   "source": [
    "## Conjuntos y Diccionarios"
   ]
  },
  {
   "cell_type": "markdown",
   "id": "539fc5c8-3bfd-499c-aa04-122262fa1657",
   "metadata": {},
   "source": [
    "### Conjuntos (sets)\n",
    "Un conjunto es una estructura de datos en donde no se vale repetir elementos. Se escribe con {}."
   ]
  },
  {
   "cell_type": "code",
   "execution_count": 309,
   "id": "1161ad47-93b8-49ad-8925-71c6023536f0",
   "metadata": {},
   "outputs": [],
   "source": [
    "T=(1,2,3)"
   ]
  },
  {
   "cell_type": "code",
   "execution_count": 310,
   "id": "ba0392c2-1dfd-4381-94c7-30427992270b",
   "metadata": {},
   "outputs": [
    {
     "data": {
      "text/plain": [
       "(1, 2, 3)"
      ]
     },
     "execution_count": 310,
     "metadata": {},
     "output_type": "execute_result"
    }
   ],
   "source": [
    "T"
   ]
  },
  {
   "cell_type": "code",
   "execution_count": 312,
   "id": "b29963d2-5c61-44dc-89fa-4d646e68ad40",
   "metadata": {},
   "outputs": [
    {
     "ename": "TypeError",
     "evalue": "'tuple' object does not support item assignment",
     "output_type": "error",
     "traceback": [
      "\u001b[1;31m---------------------------------------------------------------------------\u001b[0m",
      "\u001b[1;31mTypeError\u001b[0m                                 Traceback (most recent call last)",
      "\u001b[1;32m<ipython-input-312-725ee8fd081e>\u001b[0m in \u001b[0;36m<module>\u001b[1;34m\u001b[0m\n\u001b[1;32m----> 1\u001b[1;33m \u001b[0mT\u001b[0m\u001b[1;33m[\u001b[0m\u001b[1;36m0\u001b[0m\u001b[1;33m]\u001b[0m\u001b[1;33m=\u001b[0m\u001b[1;36m6\u001b[0m\u001b[1;33m\u001b[0m\u001b[1;33m\u001b[0m\u001b[0m\n\u001b[0m",
      "\u001b[1;31mTypeError\u001b[0m: 'tuple' object does not support item assignment"
     ]
    }
   ],
   "source": [
    "T[0]=6"
   ]
  },
  {
   "cell_type": "code",
   "execution_count": 6,
   "id": "e6f99993-a12e-4e0f-ac78-92ae0e43c413",
   "metadata": {},
   "outputs": [],
   "source": [
    "L=[1,2,3]"
   ]
  },
  {
   "cell_type": "code",
   "execution_count": 7,
   "id": "375a938e-b1e1-4a16-8de6-d7d28b41d482",
   "metadata": {},
   "outputs": [
    {
     "data": {
      "text/plain": [
       "[1, 2, 3]"
      ]
     },
     "execution_count": 7,
     "metadata": {},
     "output_type": "execute_result"
    }
   ],
   "source": [
    "L"
   ]
  },
  {
   "cell_type": "code",
   "execution_count": 306,
   "id": "94d3910a-574e-4eae-99ac-5dae47607679",
   "metadata": {},
   "outputs": [],
   "source": [
    "A = {1,2,3,4,1}"
   ]
  },
  {
   "cell_type": "code",
   "execution_count": 9,
   "id": "44ffed28-edc1-4896-ab6d-8caae2e8d1f9",
   "metadata": {},
   "outputs": [
    {
     "data": {
      "text/plain": [
       "{1, 2, 3, 4}"
      ]
     },
     "execution_count": 9,
     "metadata": {},
     "output_type": "execute_result"
    }
   ],
   "source": [
    "A"
   ]
  },
  {
   "cell_type": "code",
   "execution_count": 307,
   "id": "dee2fa62-d554-49f8-be9d-f70e2324aa2b",
   "metadata": {},
   "outputs": [
    {
     "ename": "TypeError",
     "evalue": "'set' object does not support item assignment",
     "output_type": "error",
     "traceback": [
      "\u001b[1;31m---------------------------------------------------------------------------\u001b[0m",
      "\u001b[1;31mTypeError\u001b[0m                                 Traceback (most recent call last)",
      "\u001b[1;32m<ipython-input-307-bbf1d5e29984>\u001b[0m in \u001b[0;36m<module>\u001b[1;34m\u001b[0m\n\u001b[1;32m----> 1\u001b[1;33m \u001b[0mA\u001b[0m\u001b[1;33m[\u001b[0m\u001b[1;36m0\u001b[0m\u001b[1;33m]\u001b[0m\u001b[1;33m=\u001b[0m\u001b[1;36m9\u001b[0m\u001b[1;33m\u001b[0m\u001b[1;33m\u001b[0m\u001b[0m\n\u001b[0m",
      "\u001b[1;31mTypeError\u001b[0m: 'set' object does not support item assignment"
     ]
    }
   ],
   "source": [
    "A[0]=9"
   ]
  },
  {
   "cell_type": "code",
   "execution_count": 12,
   "id": "3166d4b3-79f8-4a46-94a7-abe23471ed9e",
   "metadata": {},
   "outputs": [
    {
     "data": {
      "text/plain": [
       "1"
      ]
     },
     "execution_count": 12,
     "metadata": {},
     "output_type": "execute_result"
    }
   ],
   "source": [
    "L[0]"
   ]
  },
  {
   "cell_type": "code",
   "execution_count": 13,
   "id": "24cea56d-9c75-4b25-8c63-55ff3e17f7cf",
   "metadata": {},
   "outputs": [
    {
     "data": {
      "text/plain": [
       "2"
      ]
     },
     "execution_count": 13,
     "metadata": {},
     "output_type": "execute_result"
    }
   ],
   "source": [
    "T[1]"
   ]
  },
  {
   "cell_type": "code",
   "execution_count": 11,
   "id": "6a13039b-b961-406c-adc9-51bfd653a494",
   "metadata": {},
   "outputs": [],
   "source": [
    "A.add(8)"
   ]
  },
  {
   "cell_type": "code",
   "execution_count": 14,
   "id": "c09ac64d-f964-4e6d-8324-e781c6d847c1",
   "metadata": {},
   "outputs": [
    {
     "data": {
      "text/plain": [
       "{1, 2, 3, 4, 8}"
      ]
     },
     "execution_count": 14,
     "metadata": {},
     "output_type": "execute_result"
    }
   ],
   "source": [
    "A"
   ]
  },
  {
   "cell_type": "code",
   "execution_count": 15,
   "id": "fa5fa302-adef-46d2-aa94-d955cbb50af7",
   "metadata": {},
   "outputs": [
    {
     "data": {
      "text/plain": [
       "True"
      ]
     },
     "execution_count": 15,
     "metadata": {},
     "output_type": "execute_result"
    }
   ],
   "source": [
    "8 in A"
   ]
  },
  {
   "cell_type": "code",
   "execution_count": 16,
   "id": "ba121fd9-c1b5-4181-bf13-62e1ddd20363",
   "metadata": {},
   "outputs": [],
   "source": [
    "A.add(8)"
   ]
  },
  {
   "cell_type": "code",
   "execution_count": 17,
   "id": "5f87e43e-84aa-49d0-af96-2bf369443851",
   "metadata": {},
   "outputs": [
    {
     "data": {
      "text/plain": [
       "{1, 2, 3, 4, 8}"
      ]
     },
     "execution_count": 17,
     "metadata": {},
     "output_type": "execute_result"
    }
   ],
   "source": [
    "A"
   ]
  },
  {
   "cell_type": "markdown",
   "id": "afb22a9a-d556-4c6a-9789-5575004d59a9",
   "metadata": {},
   "source": [
    " Para hacerlo rápido, los sets hacen \"hashing\" a los elementos, así que muy rápido pueden decir si algo está en el conjunto o no.\n",
    "\n"
   ]
  },
  {
   "cell_type": "code",
   "execution_count": 20,
   "id": "cdfd10b6-8b8e-4607-9f72-d1e1ac8c2ef3",
   "metadata": {},
   "outputs": [
    {
     "data": {
      "text/plain": [
       "False"
      ]
     },
     "execution_count": 20,
     "metadata": {},
     "output_type": "execute_result"
    }
   ],
   "source": [
    "7 in A # mucho más rápido que con una lista!"
   ]
  },
  {
   "cell_type": "code",
   "execution_count": 21,
   "id": "139a85dd-14a4-4535-a92e-8169bebb1c02",
   "metadata": {},
   "outputs": [],
   "source": [
    "A.remove(4)"
   ]
  },
  {
   "cell_type": "code",
   "execution_count": 22,
   "id": "fd1a9dcd-d5c8-4253-9694-911c9a5f2396",
   "metadata": {},
   "outputs": [
    {
     "data": {
      "text/plain": [
       "{1, 2, 3, 8}"
      ]
     },
     "execution_count": 22,
     "metadata": {},
     "output_type": "execute_result"
    }
   ],
   "source": [
    "A"
   ]
  },
  {
   "cell_type": "code",
   "execution_count": 23,
   "id": "47e1ac7e-9dea-4754-abd7-8ac578e6f3e0",
   "metadata": {},
   "outputs": [],
   "source": [
    "B={i**2 for i in range(10)}"
   ]
  },
  {
   "cell_type": "code",
   "execution_count": 24,
   "id": "77221e60-0fd4-46af-b500-ddf07c9843c1",
   "metadata": {},
   "outputs": [
    {
     "data": {
      "text/plain": [
       "{0, 1, 4, 9, 16, 25, 36, 49, 64, 81}"
      ]
     },
     "execution_count": 24,
     "metadata": {},
     "output_type": "execute_result"
    }
   ],
   "source": [
    "B"
   ]
  },
  {
   "cell_type": "code",
   "execution_count": 26,
   "id": "5ca309db-610f-4487-a846-6b3674130bb7",
   "metadata": {},
   "outputs": [
    {
     "name": "stdout",
     "output_type": "stream",
     "text": [
      "0\n",
      "1\n",
      "64\n",
      "4\n",
      "36\n",
      "9\n",
      "16\n",
      "49\n",
      "81\n",
      "25\n"
     ]
    }
   ],
   "source": [
    "for a in B:\n",
    "    print(a)"
   ]
  },
  {
   "cell_type": "code",
   "execution_count": 31,
   "id": "3749050a-bc01-4b18-9943-c89b577290f5",
   "metadata": {},
   "outputs": [],
   "source": [
    "B.add(71)"
   ]
  },
  {
   "cell_type": "code",
   "execution_count": 32,
   "id": "2dd500ca-9a31-4c84-a1c1-f8f91ff91458",
   "metadata": {},
   "outputs": [
    {
     "data": {
      "text/plain": [
       "{-91, 0, 1, 4, 9, 16, 25, 36, 49, 64, 71, 81, 91}"
      ]
     },
     "execution_count": 32,
     "metadata": {},
     "output_type": "execute_result"
    }
   ],
   "source": [
    "B"
   ]
  },
  {
   "cell_type": "code",
   "execution_count": 33,
   "id": "b6915218-6055-4a41-9719-c303296e03fc",
   "metadata": {},
   "outputs": [
    {
     "name": "stdout",
     "output_type": "stream",
     "text": [
      "0\n",
      "1\n",
      "64\n",
      "4\n",
      "36\n",
      "-91\n",
      "71\n",
      "9\n",
      "16\n",
      "49\n",
      "81\n",
      "25\n",
      "91\n"
     ]
    }
   ],
   "source": [
    "for a in B:\n",
    "    print(a)"
   ]
  },
  {
   "cell_type": "code",
   "execution_count": 34,
   "id": "b574361b-afa9-4685-9cb8-5c6a6f945c5d",
   "metadata": {},
   "outputs": [
    {
     "data": {
      "text/plain": [
       "{1, 2, 'asdfasdf'}"
      ]
     },
     "execution_count": 34,
     "metadata": {},
     "output_type": "execute_result"
    }
   ],
   "source": [
    "{'asdfasdf',1,2}"
   ]
  },
  {
   "cell_type": "markdown",
   "id": "8135f2f6-8f2c-491f-88f7-2f56da3dc8ca",
   "metadata": {},
   "source": [
    "set() es un conjunto vacío, no sirve usar {}"
   ]
  },
  {
   "cell_type": "code",
   "execution_count": 37,
   "id": "8dea6826-40d9-4eb8-affc-a5762d8abe0e",
   "metadata": {},
   "outputs": [],
   "source": [
    "S=set()"
   ]
  },
  {
   "cell_type": "markdown",
   "id": "51ec5078-dfa2-4075-ba36-327822a3f680",
   "metadata": {},
   "source": [
    "Con set() se pueden convertir cosas a conjunto, así como list() para listas."
   ]
  },
  {
   "cell_type": "code",
   "execution_count": 39,
   "id": "603d9767-563d-4642-84d7-895867d3cd15",
   "metadata": {},
   "outputs": [
    {
     "data": {
      "text/plain": [
       "{1, 3, 5, 7}"
      ]
     },
     "execution_count": 39,
     "metadata": {},
     "output_type": "execute_result"
    }
   ],
   "source": [
    "set([1,3,5,7])"
   ]
  },
  {
   "cell_type": "code",
   "execution_count": 40,
   "id": "a05ed2c4-b84d-499d-ab5f-103aec5d9994",
   "metadata": {},
   "outputs": [
    {
     "data": {
      "text/plain": [
       "{0, 1, 6, 8}"
      ]
     },
     "execution_count": 40,
     "metadata": {},
     "output_type": "execute_result"
    }
   ],
   "source": [
    "{1,8,0,6}"
   ]
  },
  {
   "cell_type": "code",
   "execution_count": 45,
   "id": "faa7c7ca-a937-4ddc-959d-472878d5e621",
   "metadata": {},
   "outputs": [
    {
     "data": {
      "text/plain": [
       "{1, 6}"
      ]
     },
     "execution_count": 45,
     "metadata": {},
     "output_type": "execute_result"
    }
   ],
   "source": [
    "set([1,6])"
   ]
  },
  {
   "cell_type": "markdown",
   "id": "2d1e6c8f-1209-4853-b3a2-821ae4b4dda0",
   "metadata": {},
   "source": [
    "### Ejercicios de conjuntos\n",
    "1. Imprime cuántos números diferentes aparecen en la sucesión de Fibonacci módulo n que empieza con F1=a y F2=b.\n",
    "2. Has una lista L de números en la que cada número aparece exactamente  k  veces ( k  > 1) excepto un número que aparece exactamente una vez. Encuentra ese número.\n",
    "3. Supongamos que tenemos un collar circular con n piedritas, cada piedrita es roja (0) o azul (1). Si corto el collar en un lugar obtengo una secuencia de 0s y 1s. Imprime (sin repetir) todas las posibles secuencias que puedo obtener. Por ejemplo, el collar 010101 se puede cortar para obtener 2 secuecnias distintas, mientras que con 100000 se pueden obtener 6 secuencias.\n",
    "4. Dada una lista L de números, encuentra todas las diferencias de dos elementos de L."
   ]
  },
  {
   "cell_type": "markdown",
   "id": "755d3f46-d209-44ff-9a21-e0ddc481b5b0",
   "metadata": {},
   "source": [
    "### Ejercicio 1."
   ]
  },
  {
   "cell_type": "code",
   "execution_count": 136,
   "id": "592614c1-3baa-4368-9d96-7b1928a41613",
   "metadata": {
    "tags": []
   },
   "outputs": [],
   "source": [
    "def fibonacci(a,b,n):\n",
    "    L=[a,b]\n",
    "    while len(L)<n:\n",
    "        c=a+b\n",
    "        a=b\n",
    "        b=c\n",
    "        L+=[c]\n",
    "    return L\n",
    "def FBMod_n(f,n):\n",
    "    S={i%n for i in f}\n",
    "    return len(S)"
   ]
  },
  {
   "cell_type": "code",
   "execution_count": 137,
   "id": "59456bf9-ae00-47ff-8492-96d6746fa2b8",
   "metadata": {},
   "outputs": [
    {
     "data": {
      "text/plain": [
       "[2, 3, 5, 8, 13, 21, 34, 55, 89, 144]"
      ]
     },
     "execution_count": 137,
     "metadata": {},
     "output_type": "execute_result"
    }
   ],
   "source": [
    "fibonacci(2,3,10)"
   ]
  },
  {
   "cell_type": "code",
   "execution_count": 138,
   "id": "3ec32ab3-f54f-481c-948a-0ceba93523f5",
   "metadata": {},
   "outputs": [
    {
     "data": {
      "text/plain": [
       "7"
      ]
     },
     "execution_count": 138,
     "metadata": {},
     "output_type": "execute_result"
    }
   ],
   "source": [
    "FBMod_n(fibonacci(2,3,10),11)"
   ]
  },
  {
   "cell_type": "markdown",
   "id": "b38a298e-238d-4e06-a688-c31bc9ee1380",
   "metadata": {},
   "source": [
    "### Ejercicio 1. Respuesta de Edgardo"
   ]
  },
  {
   "cell_type": "code",
   "execution_count": 140,
   "id": "e59e41cf-3759-462d-9634-5d6ba6fab9e1",
   "metadata": {},
   "outputs": [],
   "source": [
    "def fibonacci(a,b,primeros_n,modulo):\n",
    "    S = {a%modulo,b%modulo}\n",
    "    for i in range(primeros_n-2):\n",
    "        a,b = b, a+b\n",
    "        S.add(b%modulo)\n",
    "    return len(S) "
   ]
  },
  {
   "cell_type": "code",
   "execution_count": 141,
   "id": "3a549bf2-4f58-4b65-84a0-84a3f4cab5ab",
   "metadata": {},
   "outputs": [
    {
     "data": {
      "text/plain": [
       "7"
      ]
     },
     "execution_count": 141,
     "metadata": {},
     "output_type": "execute_result"
    }
   ],
   "source": [
    "fibonacci(2,3,10,11)"
   ]
  },
  {
   "cell_type": "markdown",
   "id": "d876d929-d795-416b-ad00-7dd2d3c28b6c",
   "metadata": {},
   "source": [
    "### Ejercicio 2."
   ]
  },
  {
   "cell_type": "code",
   "execution_count": 1,
   "id": "f196580c-f1c3-4b27-8deb-d8e1c273c79b",
   "metadata": {},
   "outputs": [],
   "source": [
    "import random"
   ]
  },
  {
   "cell_type": "code",
   "execution_count": 241,
   "id": "a22dcbba-61b7-4ea1-9f51-984154235bd5",
   "metadata": {},
   "outputs": [],
   "source": [
    "import copy"
   ]
  },
  {
   "cell_type": "code",
   "execution_count": 234,
   "id": "a20975e8-a307-4001-b8a4-8d06d02f93aa",
   "metadata": {
    "tags": []
   },
   "outputs": [],
   "source": [
    "def K_list(S,k):\n",
    "    P=list(S)\n",
    "    #P=copy.copy(L)\n",
    "    random.shuffle(P)\n",
    "   # print(P)\n",
    "    for i in P[:-1]:\n",
    "        P+=[i for j in range(k-1)]\n",
    "    random.shuffle(P)\n",
    "    return P\n",
    "\n",
    "def cuenta(L,a):\n",
    "    c=0\n",
    "    for i in L:\n",
    "        if i==a:\n",
    "            c+=1\n",
    "    return c\n",
    "def different_number(L):\n",
    "    print(L)\n",
    "    for i in L:\n",
    "        a=cuenta(L,i)\n",
    "        if a==1:\n",
    "            return i"
   ]
  },
  {
   "cell_type": "code",
   "execution_count": 231,
   "id": "bd215be2-318f-4d4c-a0f9-d2f6f674d9a7",
   "metadata": {},
   "outputs": [],
   "source": [
    "M={7,9,0,3,5}"
   ]
  },
  {
   "cell_type": "code",
   "execution_count": 232,
   "id": "5dbd9ac9-b280-442a-b310-90b21216e25f",
   "metadata": {
    "tags": []
   },
   "outputs": [
    {
     "data": {
      "text/plain": [
       "[3, 9, 7, 7, 5, 3, 0, 9, 9, 7, 5, 3, 5]"
      ]
     },
     "execution_count": 232,
     "metadata": {},
     "output_type": "execute_result"
    }
   ],
   "source": [
    "K_list(M,3)"
   ]
  },
  {
   "cell_type": "code",
   "execution_count": 210,
   "id": "e54c1a55-ca17-49c5-b0f6-95875b963aca",
   "metadata": {},
   "outputs": [
    {
     "data": {
      "text/plain": [
       "([3, 9, 9, 5, 7, 7, 0, 0, 0, 5, 9, 7, 5], 3)"
      ]
     },
     "execution_count": 210,
     "metadata": {},
     "output_type": "execute_result"
    }
   ],
   "source": [
    "cuenta(K_list(M,3),9)"
   ]
  },
  {
   "cell_type": "code",
   "execution_count": 237,
   "id": "d65b9808-0e36-49e0-8ca4-951b74f7ac58",
   "metadata": {},
   "outputs": [
    {
     "name": "stdout",
     "output_type": "stream",
     "text": [
      "[3, 5, 3, 0, 9, 7, 7, 9, 5, 5, 9, 7, 3]\n"
     ]
    },
    {
     "data": {
      "text/plain": [
       "0"
      ]
     },
     "execution_count": 237,
     "metadata": {},
     "output_type": "execute_result"
    }
   ],
   "source": [
    "different_number(K_list(M,3))"
   ]
  },
  {
   "cell_type": "markdown",
   "id": "1e1e7983-b6bb-418d-9d52-489194fec390",
   "metadata": {},
   "source": [
    "### Ejercicio 2. Respuesta de Edgardo"
   ]
  },
  {
   "cell_type": "code",
   "execution_count": 250,
   "id": "061ba730-fd69-46b9-9225-108931058e7a",
   "metadata": {},
   "outputs": [],
   "source": [
    "def num_distinto(L):\n",
    "    print(L)\n",
    "    C=set(L)\n",
    "    print(C)\n",
    "    for x in C:\n",
    "        i=0 \n",
    "        for y in L:\n",
    "            if x == y:\n",
    "                i +=1\n",
    "        if i == 1:\n",
    "            return(x)"
   ]
  },
  {
   "cell_type": "code",
   "execution_count": 252,
   "id": "3a8bff44-ddba-42da-b0f6-2de2523629fb",
   "metadata": {},
   "outputs": [
    {
     "name": "stdout",
     "output_type": "stream",
     "text": [
      "[5, 7, 5, 7, 7, 0, 0, 9, 5, 0, 3, 9, 9]\n",
      "{0, 3, 5, 7, 9}\n"
     ]
    },
    {
     "data": {
      "text/plain": [
       "3"
      ]
     },
     "execution_count": 252,
     "metadata": {},
     "output_type": "execute_result"
    }
   ],
   "source": [
    "num_distinto(K_list(M,3))"
   ]
  },
  {
   "cell_type": "code",
   "execution_count": 257,
   "id": "d40d3180-37ac-4e1d-bdb1-d6d40d827ae8",
   "metadata": {},
   "outputs": [],
   "source": [
    "K=[1,1,1,1,1,9,9,9,0,6,0]"
   ]
  },
  {
   "cell_type": "code",
   "execution_count": 263,
   "id": "666f050f-dd87-4632-ac5c-3781fb969000",
   "metadata": {},
   "outputs": [],
   "source": [
    "def num_dist(L):\n",
    "   # print(L)\n",
    "    S=set(L)\n",
    "    for x in L:\n",
    "        L_copia=copy.copy(L)\n",
    "        L_copia.remove(x)\n",
    "     #   print(L_copia)\n",
    "        if len(set(L_copia)) < len(S):\n",
    "            return x"
   ]
  },
  {
   "cell_type": "code",
   "execution_count": 264,
   "id": "bbf4b141-f613-4eac-b179-b6830394169a",
   "metadata": {},
   "outputs": [
    {
     "data": {
      "text/plain": [
       "6"
      ]
     },
     "execution_count": 264,
     "metadata": {},
     "output_type": "execute_result"
    }
   ],
   "source": [
    "num_dist(K)"
   ]
  },
  {
   "cell_type": "markdown",
   "id": "dd376684-155c-4e85-b487-4eadb07d7849",
   "metadata": {},
   "source": [
    "### Ejercicio 3."
   ]
  },
  {
   "cell_type": "code",
   "execution_count": 336,
   "id": "c5230540-6cd6-462b-9720-fb6a7ada874b",
   "metadata": {},
   "outputs": [],
   "source": [
    "E=[1,0,0,0,0,0,0]"
   ]
  },
  {
   "cell_type": "code",
   "execution_count": 316,
   "id": "0f01076c-f6ed-4eee-b50e-6aafc442f8ee",
   "metadata": {},
   "outputs": [
    {
     "data": {
      "text/plain": [
       "(1, 0, 0)"
      ]
     },
     "execution_count": 316,
     "metadata": {},
     "output_type": "execute_result"
    }
   ],
   "source": [
    "E[0:-4]"
   ]
  },
  {
   "cell_type": "code",
   "execution_count": 342,
   "id": "9387f171-248f-44ad-a5b6-be15e9457ee0",
   "metadata": {},
   "outputs": [],
   "source": [
    "def collar(S):\n",
    "    G=set() \n",
    "    for i,e in enumerate(E):\n",
    "        L=E[i:]\n",
    "        L+=E[:-(len(E)-i)]\n",
    "        T=tuple(L)\n",
    "        G.add(T)\n",
    "    return(G)    "
   ]
  },
  {
   "cell_type": "code",
   "execution_count": 343,
   "id": "e96f67c3-52b4-4e85-a5ed-f74ccdfff475",
   "metadata": {},
   "outputs": [
    {
     "data": {
      "text/plain": [
       "{(0, 0, 0, 0, 0, 0, 1),\n",
       " (0, 0, 0, 0, 0, 1, 0),\n",
       " (0, 0, 0, 0, 1, 0, 0),\n",
       " (0, 0, 0, 1, 0, 0, 0),\n",
       " (0, 0, 1, 0, 0, 0, 0),\n",
       " (0, 1, 0, 0, 0, 0, 0),\n",
       " (1, 0, 0, 0, 0, 0, 0)}"
      ]
     },
     "execution_count": 343,
     "metadata": {},
     "output_type": "execute_result"
    }
   ],
   "source": [
    "collar(E)"
   ]
  },
  {
   "cell_type": "markdown",
   "id": "2d07f0f4-55ad-4c4e-a7fe-ea1f889161a4",
   "metadata": {},
   "source": [
    "### Ejercicio 3. Respuestas de edgardo"
   ]
  },
  {
   "cell_type": "code",
   "execution_count": 325,
   "id": "465c736a-ae35-4c18-bd8a-a48941846d00",
   "metadata": {},
   "outputs": [],
   "source": [
    "def corte(posicion,Collar):\n",
    "    respuesta=tuple(Collar[posicion:]+Collar[:posicion])\n",
    "    return respuesta\n",
    "def Collar(C):\n",
    "    secuencias=set()\n",
    "    for x,y in enumerate(C):\n",
    "        secuencias.add(corte(x,C))\n",
    "    return secuencias"
   ]
  },
  {
   "cell_type": "code",
   "execution_count": 328,
   "id": "985aab9b-1f93-4154-a11e-f117f163fa6d",
   "metadata": {},
   "outputs": [
    {
     "data": {
      "text/plain": [
       "(0, 0, 0, 0, 1, 0, 0)"
      ]
     },
     "execution_count": 328,
     "metadata": {},
     "output_type": "execute_result"
    }
   ],
   "source": [
    "corte(3,E)"
   ]
  },
  {
   "cell_type": "code",
   "execution_count": 348,
   "id": "6a3ac1be-4052-41ee-86fc-630fa52c521c",
   "metadata": {},
   "outputs": [
    {
     "data": {
      "text/plain": [
       "{(0, 0, 0, 0, 0, 0, 1),\n",
       " (0, 0, 0, 0, 0, 1, 0),\n",
       " (0, 0, 0, 0, 1, 0, 0),\n",
       " (0, 0, 0, 1, 0, 0, 0),\n",
       " (0, 0, 1, 0, 0, 0, 0),\n",
       " (0, 1, 0, 0, 0, 0, 0),\n",
       " (1, 0, 0, 0, 0, 0, 0)}"
      ]
     },
     "execution_count": 348,
     "metadata": {},
     "output_type": "execute_result"
    }
   ],
   "source": [
    "Collar(E)"
   ]
  },
  {
   "cell_type": "code",
   "execution_count": 354,
   "id": "bf6fb47e-e71b-49df-92ce-06a22cdd5091",
   "metadata": {},
   "outputs": [],
   "source": [
    "def diferencias(L):\n",
    "    S=set(L)\n",
    "    G=set()\n",
    "    for x in S:\n",
    "        for y in S:\n",
    "            G.add(x-y)\n",
    "    return G        "
   ]
  },
  {
   "cell_type": "code",
   "execution_count": 355,
   "id": "e090472a-a296-4bc6-9203-59b606daaac4",
   "metadata": {},
   "outputs": [
    {
     "data": {
      "text/plain": [
       "{-5, -4, -3, -2, -1, 0, 1, 2, 3, 4, 5}"
      ]
     },
     "execution_count": 355,
     "metadata": {},
     "output_type": "execute_result"
    }
   ],
   "source": [
    "L=[6,9,8,7,4]\n",
    "diferencias(L)"
   ]
  },
  {
   "cell_type": "markdown",
   "id": "eb3daa58-0798-448d-8f93-8e1a6c88c7c7",
   "metadata": {},
   "source": [
    "## Diccionarios\n",
    "\n",
    "Los diccionarios son estructuras de datos para asociar objetos a otros objetos. También se escribe con {} pero los elementos son \"parejas\" separadas por :"
   ]
  },
  {
   "cell_type": "code",
   "execution_count": 1,
   "id": "530071e1-f848-4ef0-bfc4-34acba2e8fa9",
   "metadata": {},
   "outputs": [],
   "source": [
    "edades = {\"ana\":10, \"beto\":5, \"carlos\":8}"
   ]
  },
  {
   "cell_type": "code",
   "execution_count": 357,
   "id": "cbfa926b-3b47-406b-9c19-8894b2b7671a",
   "metadata": {},
   "outputs": [
    {
     "data": {
      "text/plain": [
       "{'ana': 10, 'beto': 5, 'carlos': 8}"
      ]
     },
     "execution_count": 357,
     "metadata": {},
     "output_type": "execute_result"
    }
   ],
   "source": [
    "edades"
   ]
  },
  {
   "cell_type": "code",
   "execution_count": 358,
   "id": "122e4a5c-55d0-4775-8370-c56edb922ac2",
   "metadata": {},
   "outputs": [
    {
     "data": {
      "text/plain": [
       "10"
      ]
     },
     "execution_count": 358,
     "metadata": {},
     "output_type": "execute_result"
    }
   ],
   "source": [
    "edades['ana']"
   ]
  },
  {
   "cell_type": "code",
   "execution_count": 359,
   "id": "c1653023-7de1-4171-9a2d-27d00f295dec",
   "metadata": {},
   "outputs": [
    {
     "data": {
      "text/plain": [
       "5"
      ]
     },
     "execution_count": 359,
     "metadata": {},
     "output_type": "execute_result"
    }
   ],
   "source": [
    "edades['beto']"
   ]
  },
  {
   "cell_type": "markdown",
   "id": "79ff1dca-6c4d-4c38-b5bb-7c4dd9f3bcbc",
   "metadata": {},
   "source": [
    "#### Cada entrada de un diccionario tiene una \"llave\" y un \"valor\". La llave es con lo que indizas (e.g. \"ana\"). El valor es el asociado (e.g. 10)."
   ]
  },
  {
   "cell_type": "markdown",
   "id": "4a813166-59f8-41f1-be2a-eab1aaba1d8d",
   "metadata": {},
   "source": [
    " *Podemos* modificar diccionarios de la manera usual."
   ]
  },
  {
   "cell_type": "code",
   "execution_count": 2,
   "id": "a43e18e8-0aa7-4690-b068-be56723c4bab",
   "metadata": {},
   "outputs": [],
   "source": [
    "edades['beto'] = 6"
   ]
  },
  {
   "cell_type": "code",
   "execution_count": 3,
   "id": "e2979f12-06e5-41ae-838b-510b434fbadd",
   "metadata": {},
   "outputs": [
    {
     "data": {
      "text/plain": [
       "{'ana': 10, 'beto': 6, 'carlos': 8}"
      ]
     },
     "execution_count": 3,
     "metadata": {},
     "output_type": "execute_result"
    }
   ],
   "source": [
    "edades"
   ]
  },
  {
   "cell_type": "code",
   "execution_count": 4,
   "id": "96abc8d2-6ca5-436e-8048-918e66e4e440",
   "metadata": {},
   "outputs": [],
   "source": [
    "edades['beto'] += 1"
   ]
  },
  {
   "cell_type": "code",
   "execution_count": 5,
   "id": "442fcf78-73f7-40cf-8534-8aa83b88f51a",
   "metadata": {},
   "outputs": [
    {
     "data": {
      "text/plain": [
       "{'ana': 10, 'beto': 7, 'carlos': 8}"
      ]
     },
     "execution_count": 5,
     "metadata": {},
     "output_type": "execute_result"
    }
   ],
   "source": [
    "edades"
   ]
  },
  {
   "cell_type": "code",
   "execution_count": 6,
   "id": "83f2875e-a28a-4285-8d11-aed4ecdf5ea2",
   "metadata": {},
   "outputs": [],
   "source": [
    "edades[\"daniela\"] = 12"
   ]
  },
  {
   "cell_type": "code",
   "execution_count": 7,
   "id": "fcc9c824-9b53-4df6-bab3-e5a9e7eb7137",
   "metadata": {},
   "outputs": [
    {
     "data": {
      "text/plain": [
       "{'ana': 10, 'beto': 7, 'carlos': 8, 'daniela': 12}"
      ]
     },
     "execution_count": 7,
     "metadata": {},
     "output_type": "execute_result"
    }
   ],
   "source": [
    "edades"
   ]
  },
  {
   "cell_type": "code",
   "execution_count": 8,
   "id": "82260320-b1ee-442d-9fdb-0ef10956f6e9",
   "metadata": {},
   "outputs": [],
   "source": [
    "del edades['daniela']"
   ]
  },
  {
   "cell_type": "code",
   "execution_count": 9,
   "id": "8da4fab7-d1ff-4cca-bfae-aca9818f58a3",
   "metadata": {},
   "outputs": [
    {
     "data": {
      "text/plain": [
       "{'ana': 10, 'beto': 7, 'carlos': 8}"
      ]
     },
     "execution_count": 9,
     "metadata": {},
     "output_type": "execute_result"
    }
   ],
   "source": [
    "edades"
   ]
  },
  {
   "cell_type": "code",
   "execution_count": 397,
   "id": "e4279e1f-daef-490e-a377-c8d3fe304bf0",
   "metadata": {},
   "outputs": [
    {
     "data": {
      "text/plain": [
       "{'ana': 10}"
      ]
     },
     "execution_count": 397,
     "metadata": {},
     "output_type": "execute_result"
    }
   ],
   "source": [
    "edades"
   ]
  },
  {
   "cell_type": "code",
   "execution_count": 10,
   "id": "78bbc394-031d-46be-9185-dc9f449b73bc",
   "metadata": {},
   "outputs": [],
   "source": [
    "edades['susana']=9"
   ]
  },
  {
   "cell_type": "code",
   "execution_count": 11,
   "id": "c86d6426-d8f3-46a2-a142-7c7f7fb8d03f",
   "metadata": {},
   "outputs": [
    {
     "data": {
      "text/plain": [
       "{'ana': 10, 'beto': 7, 'carlos': 8, 'susana': 9}"
      ]
     },
     "execution_count": 11,
     "metadata": {},
     "output_type": "execute_result"
    }
   ],
   "source": [
    "edades"
   ]
  },
  {
   "cell_type": "code",
   "execution_count": 12,
   "id": "41bf40c2-5ba3-4f49-8309-b766015a3c66",
   "metadata": {},
   "outputs": [
    {
     "data": {
      "text/plain": [
       "9"
      ]
     },
     "execution_count": 12,
     "metadata": {},
     "output_type": "execute_result"
    }
   ],
   "source": [
    "edades.pop('susana')"
   ]
  },
  {
   "cell_type": "code",
   "execution_count": 13,
   "id": "99ba58f7-f31c-4cd5-b743-9016db7f6613",
   "metadata": {},
   "outputs": [
    {
     "data": {
      "text/plain": [
       "{'ana': 10, 'beto': 7, 'carlos': 8}"
      ]
     },
     "execution_count": 13,
     "metadata": {},
     "output_type": "execute_result"
    }
   ],
   "source": [
    "edades"
   ]
  },
  {
   "cell_type": "markdown",
   "id": "f52ca6a9-1105-4b62-b635-230e74362a43",
   "metadata": {},
   "source": [
    "## Iterando sobre los diccionarios."
   ]
  },
  {
   "cell_type": "code",
   "execution_count": 14,
   "id": "0bded28d-9a57-4baa-9896-d31dc92a72a3",
   "metadata": {},
   "outputs": [
    {
     "data": {
      "text/plain": [
       "dict_keys(['ana', 'beto', 'carlos'])"
      ]
     },
     "execution_count": 14,
     "metadata": {},
     "output_type": "execute_result"
    }
   ],
   "source": [
    "edades.keys()"
   ]
  },
  {
   "cell_type": "code",
   "execution_count": 15,
   "id": "5e6768d6-b9c0-4d07-a29d-61f6ebd10c4e",
   "metadata": {},
   "outputs": [
    {
     "data": {
      "text/plain": [
       "dict_values([10, 7, 8])"
      ]
     },
     "execution_count": 15,
     "metadata": {},
     "output_type": "execute_result"
    }
   ],
   "source": [
    "edades.values()"
   ]
  },
  {
   "cell_type": "code",
   "execution_count": 16,
   "id": "4a25ee10-ae0f-4b18-a6a9-1afb8914f385",
   "metadata": {},
   "outputs": [
    {
     "data": {
      "text/plain": [
       "dict_items([('ana', 10), ('beto', 7), ('carlos', 8)])"
      ]
     },
     "execution_count": 16,
     "metadata": {},
     "output_type": "execute_result"
    }
   ],
   "source": [
    "edades.items()"
   ]
  },
  {
   "cell_type": "markdown",
   "id": "9457e98f-f6a2-43e6-8c26-a75dccf22a71",
   "metadata": {},
   "source": [
    "### Cuando iteras sobre un diccionario, iteras sobre sus llaves"
   ]
  },
  {
   "cell_type": "code",
   "execution_count": 423,
   "id": "11c32b8a-6c6b-4b4d-afd7-4a339e85c6db",
   "metadata": {},
   "outputs": [],
   "source": [
    "edades['juana']=3\n",
    "edades[\"isabel\"]=34\n",
    "del edades['juana','ramón']"
   ]
  },
  {
   "cell_type": "code",
   "execution_count": 17,
   "id": "8f97e6d5-749f-4053-968a-29e761feb101",
   "metadata": {},
   "outputs": [
    {
     "data": {
      "text/plain": [
       "{'ana': 10, 'beto': 7, 'carlos': 8}"
      ]
     },
     "execution_count": 17,
     "metadata": {},
     "output_type": "execute_result"
    }
   ],
   "source": [
    "edades"
   ]
  },
  {
   "cell_type": "code",
   "execution_count": 18,
   "id": "ad3098fd-68ab-4b8b-bac6-661225e8d89b",
   "metadata": {},
   "outputs": [
    {
     "name": "stdout",
     "output_type": "stream",
     "text": [
      "ana\n",
      "beto\n",
      "carlos\n"
     ]
    }
   ],
   "source": [
    "for nombre in edades:\n",
    "    print(nombre)"
   ]
  },
  {
   "cell_type": "code",
   "execution_count": 20,
   "id": "71573d11-81f6-41ac-93c7-c2af265c3121",
   "metadata": {},
   "outputs": [
    {
     "name": "stdout",
     "output_type": "stream",
     "text": [
      "ana tiene 10 años\n",
      "beto tiene 7 años\n",
      "carlos tiene 8 años\n"
     ]
    }
   ],
   "source": [
    "for nombre in edades:\n",
    "    print(f\"{nombre} tiene {edades[nombre]} años\")"
   ]
  },
  {
   "cell_type": "code",
   "execution_count": 21,
   "id": "44505ec3-7d66-4512-9b88-e5089d3216b4",
   "metadata": {},
   "outputs": [
    {
     "name": "stdout",
     "output_type": "stream",
     "text": [
      "ana tiene 10 años\n",
      "beto tiene 7 años\n",
      "carlos tiene 8 años\n"
     ]
    }
   ],
   "source": [
    "for nombre, edad in edades.items():\n",
    "    print(f\"{nombre} tiene {edad} años\")"
   ]
  },
  {
   "cell_type": "markdown",
   "id": "f954b428-e698-4267-a597-001d2a5940c9",
   "metadata": {},
   "source": [
    "#### setdefault trata de asignar un valor a una llave, pero si ya existía antes en el diccionario entonces no lo modifica y lo deja como estaba. Regresa el valor al final."
   ]
  },
  {
   "cell_type": "code",
   "execution_count": 23,
   "id": "e3aaba99-0bbd-4727-a2c5-7a7795babd9a",
   "metadata": {},
   "outputs": [
    {
     "data": {
      "text/plain": [
       "10"
      ]
     },
     "execution_count": 23,
     "metadata": {},
     "output_type": "execute_result"
    }
   ],
   "source": [
    "edades.setdefault('estefania',10)"
   ]
  },
  {
   "cell_type": "code",
   "execution_count": 24,
   "id": "492f7050-4197-4100-b2dc-02e01f437bbb",
   "metadata": {},
   "outputs": [
    {
     "data": {
      "text/plain": [
       "10"
      ]
     },
     "execution_count": 24,
     "metadata": {},
     "output_type": "execute_result"
    }
   ],
   "source": [
    "edades.setdefault('estefania',15)"
   ]
  },
  {
   "cell_type": "code",
   "execution_count": 25,
   "id": "39998d4f-8c13-4be5-af25-324fdd7d6484",
   "metadata": {},
   "outputs": [
    {
     "data": {
      "text/plain": [
       "{'ana': 10, 'beto': 7, 'carlos': 8, 'estefania': 10}"
      ]
     },
     "execution_count": 25,
     "metadata": {},
     "output_type": "execute_result"
    }
   ],
   "source": [
    "edades"
   ]
  },
  {
   "cell_type": "code",
   "execution_count": 26,
   "id": "fb6761ee-1451-4484-8cfe-fb3c1caff3ce",
   "metadata": {},
   "outputs": [
    {
     "data": {
      "text/plain": [
       "True"
      ]
     },
     "execution_count": 26,
     "metadata": {},
     "output_type": "execute_result"
    }
   ],
   "source": [
    "\"ana\" in edades"
   ]
  },
  {
   "cell_type": "code",
   "execution_count": 27,
   "id": "46d85770-ee6b-4709-8522-1172814fc3c1",
   "metadata": {},
   "outputs": [
    {
     "data": {
      "text/plain": [
       "False"
      ]
     },
     "execution_count": 27,
     "metadata": {},
     "output_type": "execute_result"
    }
   ],
   "source": [
    "'mateo' in edades"
   ]
  },
  {
   "cell_type": "code",
   "execution_count": 440,
   "id": "8ece1d5a-6eda-4822-90fa-0191187034d2",
   "metadata": {},
   "outputs": [],
   "source": [
    "def set_default_mio(D,llave,valor):\n",
    "    if llave in D: \n",
    "        return D[llave]\n",
    "    else:\n",
    "        D[llave] = valor\n",
    "        return valor"
   ]
  },
  {
   "cell_type": "code",
   "execution_count": 441,
   "id": "2622ccaa-a585-49fb-939b-a148556af9cb",
   "metadata": {},
   "outputs": [
    {
     "data": {
      "text/plain": [
       "20"
      ]
     },
     "execution_count": 441,
     "metadata": {},
     "output_type": "execute_result"
    }
   ],
   "source": [
    "set_default_mio(edades,'fernando',20)"
   ]
  },
  {
   "cell_type": "code",
   "execution_count": 442,
   "id": "960b98d4-44f0-4089-a03d-4859cc4450de",
   "metadata": {},
   "outputs": [
    {
     "data": {
      "text/plain": [
       "{'ana': 10, 'isabel': 34, 'juana': 3, 'estefania': 10, 'fernando': 20}"
      ]
     },
     "execution_count": 442,
     "metadata": {},
     "output_type": "execute_result"
    }
   ],
   "source": [
    "edades"
   ]
  },
  {
   "cell_type": "code",
   "execution_count": 458,
   "id": "eaefa5a8-59ab-42db-ab79-1d352ece707e",
   "metadata": {},
   "outputs": [],
   "source": [
    "edades['juana']=20"
   ]
  },
  {
   "cell_type": "code",
   "execution_count": 459,
   "id": "3c1cdd77-4c16-43db-a2af-e770fb1c15a4",
   "metadata": {},
   "outputs": [
    {
     "data": {
      "text/plain": [
       "{'ana': 10, 'isabel': 34, 'juana': 20, 'estefania': 10, 'fernando': 20}"
      ]
     },
     "execution_count": 459,
     "metadata": {},
     "output_type": "execute_result"
    }
   ],
   "source": [
    "edades"
   ]
  },
  {
   "cell_type": "markdown",
   "id": "32980405-7e2f-4b81-bdcc-4da8636d0687",
   "metadata": {},
   "source": [
    "## Diccionarios de comprension\n",
    "\n",
    "Se crean igual que las listas"
   ]
  },
  {
   "cell_type": "code",
   "execution_count": 443,
   "id": "7fabf5c5-95d3-4575-815f-aefebd781d3a",
   "metadata": {},
   "outputs": [
    {
     "data": {
      "text/plain": [
       "{0: 0, 1: 1, 2: 4, 3: 9, 4: 16, 5: 25, 6: 36, 7: 49, 8: 64, 9: 81}"
      ]
     },
     "execution_count": 443,
     "metadata": {},
     "output_type": "execute_result"
    }
   ],
   "source": [
    "D={i:i**2 for i in range(10)}\n",
    "D"
   ]
  },
  {
   "cell_type": "code",
   "execution_count": 451,
   "id": "20b8c958-79a6-49c1-8b9a-2714d96213fe",
   "metadata": {},
   "outputs": [],
   "source": [
    "L=['Ana','Pedro','Miguel','Julián']\n",
    "D1={i:j for j,i in enumerate(L,18)}"
   ]
  },
  {
   "cell_type": "code",
   "execution_count": 452,
   "id": "abcfb169-0095-4f6f-9a48-92e0d698ac20",
   "metadata": {},
   "outputs": [
    {
     "data": {
      "text/plain": [
       "{'Ana': 18, 'Pedro': 19, 'Miguel': 20, 'Julián': 21}"
      ]
     },
     "execution_count": 452,
     "metadata": {},
     "output_type": "execute_result"
    }
   ],
   "source": [
    "D1"
   ]
  },
  {
   "cell_type": "code",
   "execution_count": 453,
   "id": "b9fbcb52-b0a3-4590-90ac-1eaef3e408f0",
   "metadata": {},
   "outputs": [
    {
     "name": "stdout",
     "output_type": "stream",
     "text": [
      "El cuadrado de 0 es 0\n",
      "El cuadrado de 1 es 1\n",
      "El cuadrado de 2 es 4\n",
      "El cuadrado de 3 es 9\n",
      "El cuadrado de 4 es 16\n",
      "El cuadrado de 5 es 25\n",
      "El cuadrado de 6 es 36\n",
      "El cuadrado de 7 es 49\n",
      "El cuadrado de 8 es 64\n",
      "El cuadrado de 9 es 81\n"
     ]
    }
   ],
   "source": [
    "for num,cuadrado in D.items():\n",
    "    print(\"El cuadrado de\",num,\"es\",cuadrado)"
   ]
  },
  {
   "cell_type": "markdown",
   "id": "fa7edb8a-9bdd-4c2e-adfe-893305b2c5b9",
   "metadata": {},
   "source": [
    "También se puede construir así:"
   ]
  },
  {
   "cell_type": "code",
   "execution_count": 455,
   "id": "8eab24dc-7662-4c95-9d01-1288118758cb",
   "metadata": {},
   "outputs": [
    {
     "data": {
      "text/plain": [
       "{'ana': 10, 'beto': 5, 'carlos': 8}"
      ]
     },
     "execution_count": 455,
     "metadata": {},
     "output_type": "execute_result"
    }
   ],
   "source": [
    "dict([('ana',10),('beto',5),('carlos',8)])"
   ]
  },
  {
   "cell_type": "markdown",
   "id": "d8c4da5a-7d10-4d6c-b9ef-e62966fd1e28",
   "metadata": {},
   "source": [
    "Incluso puedes hacer diccionarios de diccionarios:"
   ]
  },
  {
   "cell_type": "code",
   "execution_count": 456,
   "id": "4fcb57f5-146e-4642-a989-12b0a2da8748",
   "metadata": {},
   "outputs": [],
   "source": [
    "D={2:{1:[2,3,4]}}"
   ]
  },
  {
   "cell_type": "code",
   "execution_count": 457,
   "id": "455285df-0cc0-41a3-b2fb-a557e6594982",
   "metadata": {},
   "outputs": [
    {
     "data": {
      "text/plain": [
       "{2: {1: [2, 3, 4]}}"
      ]
     },
     "execution_count": 457,
     "metadata": {},
     "output_type": "execute_result"
    }
   ],
   "source": [
    "D"
   ]
  },
  {
   "cell_type": "code",
   "execution_count": 460,
   "id": "b37c18ff-196e-4c26-8ec5-b84e881c7588",
   "metadata": {},
   "outputs": [
    {
     "data": {
      "text/plain": [
       "{1: [2, 3, 4]}"
      ]
     },
     "execution_count": 460,
     "metadata": {},
     "output_type": "execute_result"
    }
   ],
   "source": [
    "D[2]"
   ]
  },
  {
   "cell_type": "code",
   "execution_count": 463,
   "id": "1eb25596-1364-44d1-ba60-b5e7b5fb2736",
   "metadata": {},
   "outputs": [
    {
     "data": {
      "text/plain": [
       "[2, 3, 4]"
      ]
     },
     "execution_count": 463,
     "metadata": {},
     "output_type": "execute_result"
    }
   ],
   "source": [
    "D[2][1]"
   ]
  },
  {
   "cell_type": "code",
   "execution_count": 464,
   "id": "b29a7994-b8f3-4eca-b5fd-bda9a0fc6b64",
   "metadata": {},
   "outputs": [],
   "source": [
    "Salones = {\"A\":{\"Ana\":10,\"Beto\":9},\"B\":{\"Beto\":6,\"Rogelio\":8},\"C\":{\"Ana\":8,\"Monica\":11}}"
   ]
  },
  {
   "cell_type": "code",
   "execution_count": 465,
   "id": "925bfb0d-c004-4840-ad54-0a67ae9a967e",
   "metadata": {},
   "outputs": [
    {
     "data": {
      "text/plain": [
       "10"
      ]
     },
     "execution_count": 465,
     "metadata": {},
     "output_type": "execute_result"
    }
   ],
   "source": [
    "Salones[\"A\"][\"Ana\"]"
   ]
  },
  {
   "cell_type": "code",
   "execution_count": 466,
   "id": "30e6cfab-d7fc-4b65-a085-f213e71a6883",
   "metadata": {},
   "outputs": [
    {
     "data": {
      "text/plain": [
       "8"
      ]
     },
     "execution_count": 466,
     "metadata": {},
     "output_type": "execute_result"
    }
   ],
   "source": [
    "Salones[\"C\"][\"Ana\"]"
   ]
  },
  {
   "cell_type": "code",
   "execution_count": 467,
   "id": "1d7a33d0-8b76-46ba-87fd-1b770c61941c",
   "metadata": {},
   "outputs": [
    {
     "ename": "KeyError",
     "evalue": "'Ana'",
     "output_type": "error",
     "traceback": [
      "\u001b[1;31m---------------------------------------------------------------------------\u001b[0m",
      "\u001b[1;31mKeyError\u001b[0m                                  Traceback (most recent call last)",
      "\u001b[1;32m<ipython-input-467-303a77ee4a41>\u001b[0m in \u001b[0;36m<module>\u001b[1;34m\u001b[0m\n\u001b[1;32m----> 1\u001b[1;33m \u001b[0mSalones\u001b[0m\u001b[1;33m[\u001b[0m\u001b[1;34m\"B\"\u001b[0m\u001b[1;33m]\u001b[0m\u001b[1;33m[\u001b[0m\u001b[1;34m\"Ana\"\u001b[0m\u001b[1;33m]\u001b[0m\u001b[1;33m\u001b[0m\u001b[1;33m\u001b[0m\u001b[0m\n\u001b[0m",
      "\u001b[1;31mKeyError\u001b[0m: 'Ana'"
     ]
    }
   ],
   "source": [
    "Salones[\"B\"][\"Ana\"]"
   ]
  },
  {
   "cell_type": "markdown",
   "id": "3c6bbde2-b436-4962-8e69-5119040eb506",
   "metadata": {},
   "source": [
    "Para borrar puedes usar el comando \"del\":"
   ]
  },
  {
   "cell_type": "code",
   "execution_count": 468,
   "id": "7d2fa94a-5d7d-473f-940d-e32dfe297537",
   "metadata": {},
   "outputs": [],
   "source": [
    "D = {'ana':10,'beto':20}\n",
    "del D['ana']"
   ]
  },
  {
   "cell_type": "code",
   "execution_count": 469,
   "id": "c2908d2c-f06b-456f-a4d2-f103834dfb97",
   "metadata": {},
   "outputs": [
    {
     "data": {
      "text/plain": [
       "{'beto': 20}"
      ]
     },
     "execution_count": 469,
     "metadata": {},
     "output_type": "execute_result"
    }
   ],
   "source": [
    "D"
   ]
  },
  {
   "cell_type": "markdown",
   "id": "d44f2415-96cd-4568-962d-f4c0f69dfe6d",
   "metadata": {},
   "source": [
    "Con pop regresas lo que borras antes de borrarlo."
   ]
  },
  {
   "cell_type": "code",
   "execution_count": 470,
   "id": "2f76818e-0bac-4e60-8fe2-d44372d03dff",
   "metadata": {},
   "outputs": [
    {
     "data": {
      "text/plain": [
       "20"
      ]
     },
     "execution_count": 470,
     "metadata": {},
     "output_type": "execute_result"
    }
   ],
   "source": [
    "D.pop('beto')"
   ]
  },
  {
   "cell_type": "code",
   "execution_count": 471,
   "id": "0df7ca4e-38bd-4c5c-aa95-8f86df2be081",
   "metadata": {},
   "outputs": [
    {
     "data": {
      "text/plain": [
       "{}"
      ]
     },
     "execution_count": 471,
     "metadata": {},
     "output_type": "execute_result"
    }
   ],
   "source": [
    "D"
   ]
  },
  {
   "cell_type": "code",
   "execution_count": 472,
   "id": "2d265593-f349-491e-b8e8-ebd22adeedc5",
   "metadata": {},
   "outputs": [
    {
     "data": {
      "text/plain": [
       "True"
      ]
     },
     "execution_count": 472,
     "metadata": {},
     "output_type": "execute_result"
    }
   ],
   "source": [
    "isinstance(D,dict)"
   ]
  },
  {
   "cell_type": "code",
   "execution_count": 473,
   "id": "5fb1d1ba-cab2-407a-8ed5-9e60eea1213a",
   "metadata": {},
   "outputs": [
    {
     "data": {
      "text/plain": [
       "False"
      ]
     },
     "execution_count": 473,
     "metadata": {},
     "output_type": "execute_result"
    }
   ],
   "source": [
    "isinstance(D,set)"
   ]
  },
  {
   "cell_type": "code",
   "execution_count": 474,
   "id": "977d2046-6755-4c29-a835-2a99c96cc5f8",
   "metadata": {},
   "outputs": [
    {
     "data": {
      "text/plain": [
       "True"
      ]
     },
     "execution_count": 474,
     "metadata": {},
     "output_type": "execute_result"
    }
   ],
   "source": [
    "isinstance(\"hola\",str)"
   ]
  },
  {
   "cell_type": "markdown",
   "id": "1804cd62-9520-4376-bc8d-870ab37de7b4",
   "metadata": {},
   "source": [
    "### Ejercicios de diccionarios\n",
    "\n",
    "1. Dado un diccionario \"inyectiva\", crea su \"diccionario inverso\".\n",
    "2. Crea un diccionario de nombres, película favorita. Después haz una función que imprime la información de alguien con un nombre dado o que imprima un error si no hay nadie con ese nombre.\n",
    "2. Dada una función $f$, un intervalo $[a,b]$ y un entero $n\\ge 2$, crea un diccionario que para $n$ valores $x$ uniformemente distribuídos en el intervalo $[a,b]$ les asocie $f(x)$. \n",
    "3. Dada una lista desordenada de enteros, determina (rápidamente) el número de parejas cuya diferencia es k.\n",
    "4. Dadas dos listas del mismo tamaño, crea un diccionario que a cada elemento de la primera lista le asocie un elemento de la segunda.\n",
    "5. Un diccionario o lista es \"simpática\" si todos sus valores son:\n",
    "- Enteros\n",
    "- Diccionarios simpáticos\n",
    "- Listas simpáticas.\n",
    "\n",
    "  Dado un diccionario/lista simpático, crea un programa que itere sobre todos los valores (valores, no llaves) y les sume 1. Por ejemplo: `{1:2,2:{1:10,5:[7,8]}}` $\\to$ `{1:3,2:{1:11,5:[8,9]}}`"
   ]
  },
  {
   "cell_type": "markdown",
   "id": "60c1df70-6daf-42bf-a055-6d17de3c5089",
   "metadata": {},
   "source": [
    "### Ejercicio 1."
   ]
  },
  {
   "cell_type": "code",
   "execution_count": 28,
   "id": "73b67cd4-3590-4aea-b03e-94de684b9080",
   "metadata": {},
   "outputs": [],
   "source": [
    "inyectiva={i:i**2 for i in range(10)}"
   ]
  },
  {
   "cell_type": "code",
   "execution_count": 36,
   "id": "3ee2e170-6641-488b-9898-2ed89b706001",
   "metadata": {},
   "outputs": [
    {
     "data": {
      "text/plain": [
       "{0: 0, 1: 1, 2: 4, 3: 9, 4: 16, 5: 25, 6: 36, 7: 49, 8: 64, 9: 81}"
      ]
     },
     "execution_count": 36,
     "metadata": {},
     "output_type": "execute_result"
    }
   ],
   "source": [
    "inyectiva"
   ]
  },
  {
   "cell_type": "code",
   "execution_count": 37,
   "id": "e3666eae-f1c3-4743-a866-1af0556607e9",
   "metadata": {},
   "outputs": [],
   "source": [
    "def inversa(D):\n",
    "    L=[]\n",
    "    for x,y in D.items():\n",
    "        L+=[(y,x)]\n",
    "    D1=dict(L)\n",
    "    return D1    "
   ]
  },
  {
   "cell_type": "code",
   "execution_count": 38,
   "id": "47a19fdf-4911-443b-8c75-b51c166fc475",
   "metadata": {},
   "outputs": [
    {
     "data": {
      "text/plain": [
       "{0: 0, 1: 1, 4: 2, 9: 3, 16: 4, 25: 5, 36: 6, 49: 7, 64: 8, 81: 9}"
      ]
     },
     "execution_count": 38,
     "metadata": {},
     "output_type": "execute_result"
    }
   ],
   "source": [
    "inversa(inyectiva)"
   ]
  },
  {
   "cell_type": "markdown",
   "id": "2a457a39-e064-493e-b945-d9c9dd4ef3c6",
   "metadata": {},
   "source": [
    "### Ejercicio 1. Solución de Edgardo"
   ]
  },
  {
   "cell_type": "code",
   "execution_count": 39,
   "id": "857aa652-386f-4f15-93cb-636c2fa37c6a",
   "metadata": {},
   "outputs": [],
   "source": [
    "def dict_inv(D):\n",
    "    return {j:i for i,j in D.items()}"
   ]
  },
  {
   "cell_type": "code",
   "execution_count": 40,
   "id": "b6173d01-51b8-463a-99a0-81964be10111",
   "metadata": {},
   "outputs": [
    {
     "data": {
      "text/plain": [
       "{0: 0, 1: 1, 4: 2, 9: 3, 16: 4, 25: 5, 36: 6, 49: 7, 64: 8, 81: 9}"
      ]
     },
     "execution_count": 40,
     "metadata": {},
     "output_type": "execute_result"
    }
   ],
   "source": [
    "dict_inv(inyectiva)"
   ]
  },
  {
   "cell_type": "code",
   "execution_count": 41,
   "id": "972ce0e3-2e89-4650-9b53-357e2b4ecc35",
   "metadata": {},
   "outputs": [],
   "source": [
    "def dict_inv2(D):\n",
    "    return {D[i]:i for i in D}"
   ]
  },
  {
   "cell_type": "code",
   "execution_count": 43,
   "id": "f0a3792b-c54d-47aa-800f-b9f39a2ac3f3",
   "metadata": {},
   "outputs": [
    {
     "data": {
      "text/plain": [
       "{0: 0, 1: 1, 4: 2, 9: 3, 16: 4, 25: 5, 36: 6, 49: 7, 64: 8, 81: 9}"
      ]
     },
     "execution_count": 43,
     "metadata": {},
     "output_type": "execute_result"
    }
   ],
   "source": [
    "dict_inv2(inyectiva)"
   ]
  }
 ],
 "metadata": {
  "kernelspec": {
   "display_name": "Python 3",
   "language": "python",
   "name": "python3"
  },
  "language_info": {
   "codemirror_mode": {
    "name": "ipython",
    "version": 3
   },
   "file_extension": ".py",
   "mimetype": "text/x-python",
   "name": "python",
   "nbconvert_exporter": "python",
   "pygments_lexer": "ipython3",
   "version": "3.8.8"
  }
 },
 "nbformat": 4,
 "nbformat_minor": 5
}
