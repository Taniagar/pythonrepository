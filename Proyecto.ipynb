{
 "cells": [
  {
   "cell_type": "code",
   "execution_count": 5,
   "id": "ae3b953e-2832-49ff-8c1c-59451e5da288",
   "metadata": {},
   "outputs": [
    {
     "name": "stdin",
     "output_type": "stream",
     "text": [
      " x^2\n",
      " 3*x^3\n"
     ]
    }
   ],
   "source": [
    "P1=input()\n",
    "P2=input()\n"
   ]
  },
  {
   "cell_type": "code",
   "execution_count": 4,
   "id": "92a23876-8cd5-4645-af21-8d9f6bbddf90",
   "metadata": {},
   "outputs": [],
   "source": [
    "import sympy"
   ]
  },
  {
   "cell_type": "code",
   "execution_count": 4,
   "id": "9dd85f31-2e79-4d01-9dcb-71b98925fe08",
   "metadata": {},
   "outputs": [],
   "source": [
    "#Definimos los simbolos con la funcion symbols de sympy\n",
    "sympy.init_printing()\n",
    "x,y = sympy.symbols('x,y')"
   ]
  },
  {
   "cell_type": "code",
   "execution_count": 10,
   "id": "3275fa15-c842-46ef-94e7-16d088299c53",
   "metadata": {},
   "outputs": [
    {
     "data": {
      "image/png": "[encoded data removed]",
      "text/latex": [
       "$\\displaystyle \\operatorname{Poly}{\\left( 3 x^{3}, x, domain=\\mathbb{Z} \\right)}$"
      ],
      "text/plain": [
       "Poly(3*x**3, x, domain='ZZ')"
      ]
     },
     "execution_count": 10,
     "metadata": {},
     "output_type": "execute_result"
    }
   ],
   "source": [
    "#Luego almacenamos en variables los dos polinomios procesados por la función Poly de sympy \n",
    "Poly1 = sympy.Poly(P1)\n",
    "Poly2 = sympy.Poly(P2)\n",
    "Poly1\n",
    "Poly2"
   ]
  },
  {
   "cell_type": "code",
   "execution_count": 11,
   "id": "3eb3efad-b327-4c94-a919-842b2f35f75f",
   "metadata": {},
   "outputs": [],
   "source": [
    "#Declaramos una función para cada operación que queramos utilizar\n",
    "def mult(p1, p2):\n",
    "    return p1 * p2\n",
    "def suma(p1, p2):\n",
    "    return p1 + p2\n",
    "def res(p1, p2):\n",
    "    return p1 - p2\n",
    "def div(p1, p2):\n",
    "    return p1 / p2"
   ]
  },
  {
   "cell_type": "code",
   "execution_count": 12,
   "id": "283a66f5-9121-4feb-8a19-265ecc053638",
   "metadata": {},
   "outputs": [
    {
     "name": "stdout",
     "output_type": "stream",
     "text": [
      "Resultado:  Poly(3*x**5, x, domain='ZZ')\n"
     ]
    }
   ],
   "source": [
    "print(\"Resultado: \", mult(Poly1, Poly2))"
   ]
  },
  {
   "cell_type": "code",
   "execution_count": 13,
   "id": "7b8d4b0d-9b15-42d5-8800-cab1016cc03d",
   "metadata": {},
   "outputs": [],
   "source": [
    "resultMult = mult(Poly1, Poly2)\n",
    "resultSuma = suma(Poly1, Poly2)\n",
    "resultDiv = div(Poly1, Poly2)\n",
    "resultRes = res(Poly1, Poly2)"
   ]
  },
  {
   "cell_type": "code",
   "execution_count": 14,
   "id": "5b59c102-3dba-4465-b905-070516bb92f2",
   "metadata": {},
   "outputs": [
    {
     "name": "stdout",
     "output_type": "stream",
     "text": [
      "Resultado:  Poly(3*x**5, x, domain='ZZ')\n"
     ]
    }
   ],
   "source": [
    "#Mostramos el valor que deseemos\n",
    "print(\"Resultado: \", resultMult)"
   ]
  },
  {
   "cell_type": "code",
   "execution_count": 2,
   "id": "8fda1d9b-c56a-498a-aad3-b07fc103bbb6",
   "metadata": {},
   "outputs": [],
   "source": [
    "import math\n",
    "import matplotlib.pyplot as plt\n",
    "import numpy as np\n",
    "import sympy"
   ]
  },
  {
   "cell_type": "code",
   "execution_count": 17,
   "id": "03247e92-872b-4f8e-8f8e-6098b2f7676b",
   "metadata": {},
   "outputs": [
    {
     "name": "stdin",
     "output_type": "stream",
     "text": [
      " 0.01\n"
     ]
    },
    {
     "name": "stdout",
     "output_type": "stream",
     "text": [
      "1.0049953312208082\n"
     ]
    },
    {
     "data": {
      "text/plain": [
       "[<matplotlib.lines.Line2D at 0x17d57a0f490>]"
      ]
     },
     "execution_count": 17,
     "metadata": {},
     "output_type": "execute_result"
    },
    {
     "data": {
      "image/png": "[encoded data removed]",
      "text/plain": [
       "<Figure size 432x288 with 1 Axes>"
      ]
     },
     "metadata": {
      "needs_background": "light"
     },
     "output_type": "display_data"
    }
   ],
   "source": [
    "## Calcula la integral aproximadamente\n",
    "dx=float(input())\n",
    "x=np.arange(0,np.pi/2,dx)\n",
    "y=np.cos(x)\n",
    "z=y*dx\n",
    "print(z.sum())\n",
    "plt.plot(x,y)"
   ]
  },
  {
   "cell_type": "code",
   "execution_count": 3,
   "id": "a67700bf-21c0-46ba-a2ee-4d66a1f4967f",
   "metadata": {},
   "outputs": [
    {
     "name": "stdin",
     "output_type": "stream",
     "text": [
      " x\n",
      " 0.01\n"
     ]
    },
    {
     "name": "stdout",
     "output_type": "stream",
     "text": [
      "[0.   0.01 0.02 0.03 0.04 0.05 0.06 0.07 0.08 0.09 0.1  0.11 0.12 0.13\n",
      " 0.14 0.15 0.16 0.17 0.18 0.19 0.2  0.21 0.22 0.23 0.24 0.25 0.26 0.27\n",
      " 0.28 0.29 0.3  0.31 0.32 0.33 0.34 0.35 0.36 0.37 0.38 0.39 0.4  0.41\n",
      " 0.42 0.43 0.44 0.45 0.46 0.47 0.48 0.49 0.5  0.51 0.52 0.53 0.54 0.55\n",
      " 0.56 0.57 0.58 0.59 0.6  0.61 0.62 0.63 0.64 0.65 0.66 0.67 0.68 0.69\n",
      " 0.7  0.71 0.72 0.73 0.74 0.75 0.76 0.77 0.78 0.79 0.8  0.81 0.82 0.83\n",
      " 0.84 0.85 0.86 0.87 0.88 0.89 0.9  0.91 0.92 0.93 0.94 0.95 0.96 0.97\n",
      " 0.98 0.99 1.   1.01 1.02 1.03 1.04 1.05 1.06 1.07 1.08 1.09 1.1  1.11\n",
      " 1.12 1.13 1.14 1.15 1.16 1.17 1.18 1.19 1.2  1.21 1.22 1.23 1.24 1.25\n",
      " 1.26 1.27 1.28 1.29 1.3  1.31 1.32 1.33 1.34 1.35 1.36 1.37 1.38 1.39\n",
      " 1.4  1.41 1.42 1.43 1.44 1.45 1.46 1.47 1.48 1.49 1.5  1.51 1.52 1.53\n",
      " 1.54 1.55 1.56 1.57]\n",
      "[0.   0.01 0.02 0.03 0.04 0.05 0.06 0.07 0.08 0.09 0.1  0.11 0.12 0.13\n",
      " 0.14 0.15 0.16 0.17 0.18 0.19 0.2  0.21 0.22 0.23 0.24 0.25 0.26 0.27\n",
      " 0.28 0.29 0.3  0.31 0.32 0.33 0.34 0.35 0.36 0.37 0.38 0.39 0.4  0.41\n",
      " 0.42 0.43 0.44 0.45 0.46 0.47 0.48 0.49 0.5  0.51 0.52 0.53 0.54 0.55\n",
      " 0.56 0.57 0.58 0.59 0.6  0.61 0.62 0.63 0.64 0.65 0.66 0.67 0.68 0.69\n",
      " 0.7  0.71 0.72 0.73 0.74 0.75 0.76 0.77 0.78 0.79 0.8  0.81 0.82 0.83\n",
      " 0.84 0.85 0.86 0.87 0.88 0.89 0.9  0.91 0.92 0.93 0.94 0.95 0.96 0.97\n",
      " 0.98 0.99 1.   1.01 1.02 1.03 1.04 1.05 1.06 1.07 1.08 1.09 1.1  1.11\n",
      " 1.12 1.13 1.14 1.15 1.16 1.17 1.18 1.19 1.2  1.21 1.22 1.23 1.24 1.25\n",
      " 1.26 1.27 1.28 1.29 1.3  1.31 1.32 1.33 1.34 1.35 1.36 1.37 1.38 1.39\n",
      " 1.4  1.41 1.42 1.43 1.44 1.45 1.46 1.47 1.48 1.49 1.5  1.51 1.52 1.53\n",
      " 1.54 1.55 1.56 1.57]\n",
      "1.2403\n"
     ]
    }
   ],
   "source": [
    "def integra(f):\n",
    "    dx=float(input())\n",
    "    x=np.arange(0,np.pi/2,dx)\n",
    "    y=eval(f)\n",
    "    z=y*dx\n",
    "    return z.sum()\n",
    "g=input()\n",
    "print(integra(g))"
   ]
  },
  {
   "cell_type": "code",
   "execution_count": 27,
   "id": "5eff6558-9249-443e-a60b-cfa1752c27d7",
   "metadata": {},
   "outputs": [
    {
     "name": "stdin",
     "output_type": "stream",
     "text": [
      " 0.01\n"
     ]
    },
    {
     "name": "stdout",
     "output_type": "stream",
     "text": [
      "Quieres la derivada en un punto a\n"
     ]
    },
    {
     "name": "stdin",
     "output_type": "stream",
     "text": [
      " si\n"
     ]
    },
    {
     "name": "stdout",
     "output_type": "stream",
     "text": [
      "Dame un punto\n"
     ]
    },
    {
     "name": "stdin",
     "output_type": "stream",
     "text": [
      " 0.6\n"
     ]
    },
    {
     "name": "stdout",
     "output_type": "stream",
     "text": [
      "-0.5687597064198746\n"
     ]
    },
    {
     "data": {
      "image/png": "[encoded data removed]",
      "text/plain": [
       "<Figure size 432x288 with 1 Axes>"
      ]
     },
     "metadata": {
      "needs_background": "light"
     },
     "output_type": "display_data"
    }
   ],
   "source": [
    "### Calcula la derivada aproximadamente\n",
    "dx=float(input())\n",
    "x=np.arange(0,np.pi/2,dx)\n",
    "y=np.cos(x)\n",
    "f=(np.cos(x+dx)-np.cos(x))/dx\n",
    "plt.plot(x,y)\n",
    "plt.plot(x,f)\n",
    "print('Quieres la derivada en un punto a')\n",
    "a=input()\n",
    "if a=='si':\n",
    "    print('Dame un punto')\n",
    "    z0=float(input())\n",
    "    print((np.cos(z0+dx)-np.cos(z0))/dx)"
   ]
  },
  {
   "cell_type": "code",
   "execution_count": 21,
   "id": "de3befed-262e-4702-a05a-6ec73e0f9d45",
   "metadata": {},
   "outputs": [
    {
     "name": "stdin",
     "output_type": "stream",
     "text": [
      "dime la funcion  x**2\n",
      "dime el punto  5\n"
     ]
    },
    {
     "name": "stdout",
     "output_type": "stream",
     "text": [
      "[25.       25.010001]\n",
      "10.001000000002591\n"
     ]
    }
   ],
   "source": [
    "def der(f,s):\n",
    "    l=.001\n",
    "    x=np.array([s,s+l])\n",
    "    y=eval(f)\n",
    "    z=(y[1]-y[0])/l\n",
    "    return z\n",
    "f=input('dime la funcion ')\n",
    "x0=float(input('dime el punto '))\n",
    "print(der(f,x0))"
   ]
  },
  {
   "cell_type": "code",
   "execution_count": 9,
   "id": "86a28698-fa78-4909-8f43-1749db4f6d75",
   "metadata": {},
   "outputs": [
    {
     "name": "stdin",
     "output_type": "stream",
     "text": [
      "dime la funcion  x**2\n"
     ]
    },
    {
     "name": "stdout",
     "output_type": "stream",
     "text": [
      "[<matplotlib.lines.Line2D object at 0x00000292EAB6F3A0>]\n"
     ]
    },
    {
     "data": {
      "image/png": "[encoded data removed]",
      "text/plain": [
       "<Figure size 432x288 with 1 Axes>"
      ]
     },
     "metadata": {
      "needs_background": "light"
     },
     "output_type": "display_data"
    }
   ],
   "source": [
    "def graf_der(f,a,b,dx):\n",
    "    x=np.arange(a,b,dx)\n",
    "    y=eval(f)\n",
    "    z=(y+dx-y)/dx\n",
    "    return plt.plot(x,z)\n",
    "a=0\n",
    "b=5\n",
    "dx=0.001\n",
    "f=input('dime la funcion ')\n",
    "print(graf_der(f,a,b,dx))"
   ]
  },
  {
   "cell_type": "code",
   "execution_count": null,
   "id": "327c3acd-32f7-44d9-82ea-0870dd074aeb",
   "metadata": {},
   "outputs": [
    {
     "name": "stdout",
     "output_type": "stream",
     "text": [
      "Bienvenido\n",
      "Dada una función puedo darte la grafica de la función, su derivada y su integral\n",
      "Necesito información de tu función\n"
     ]
    }
   ],
   "source": [
    "import math\n",
    "import matplotlib.pyplot as plt\n",
    "import numpy as np\n",
    "import sympy\n",
    "\n",
    "def deriva(f,s,dx):\n",
    "    x=np.array([s,s+dx])\n",
    "    y=eval(f)\n",
    "    z=(y[1]-y[0])/dx\n",
    "    return z\n",
    "\n",
    "def integra(f,a,b,dx):\n",
    "    x=np.arange(a,b,dx)\n",
    "    y=eval(f)\n",
    "    z=y*dx\n",
    "    return z.sum()\n",
    "\n",
    "def grafica(f,a,b,dx):\n",
    "    x = np.arange(a,b,dx)\n",
    "    y = eval(f)\n",
    "    plt.ylabel('eje y')\n",
    "    plt.xlabel('eje x')\n",
    "    return plt.plot(x,y,'-',linewidth=2,color='g')\n",
    "\n",
    "def remplaza(p):\n",
    "    C={'*','^','-','+','/'}\n",
    "    K=p.replace('x^','x**')\n",
    "    L=[i for i in K]\n",
    "    for i in range(1,len(L)-1):\n",
    "        if (L[i-1] in C)==False and L[i]=='x':\n",
    "            L.insert(i,'*')\n",
    "    L.reverse()\n",
    "    a=''\n",
    "    for x in L:\n",
    "        b=x+a\n",
    "        a=b\n",
    "    return b\n",
    "\n",
    "\n",
    "print('Bienvenido')\n",
    "print('Dada una función puedo darte la grafica de la función, su derivada y su integral')\n",
    "print('Necesito información de tu función')\n",
    "p=input('p(x)=')\n",
    "f=remplaza(p)\n",
    "\n",
    "print('¿Qué te gustaria hacer?\\n a) graficar \\n b)derivar  \\n c)integrar')\n",
    "op=input('Escribe una letra')\n",
    "dx=float(input('Inserta el diferencial'))\n",
    "\n",
    "if op =='a':\n",
    "    print('¿En que intervalo?')\n",
    "    l_i=float(input('Inserta el limite inferior del intervalo'))\n",
    "    l_s=float(input('Inserta el limite superior del intervalo'))\n",
    "    print(grafica(f,l_i,l_s,dx))\n",
    "\n",
    "if op =='b':\n",
    "    x0=float(input('En que punto?'))\n",
    "    print(f'La derivada de p en el punto {x0} es {deriva(f,x0,dx)}')\n",
    "\n",
    "if op=='c':\n",
    "    print('¿En que intervalo?')\n",
    "    l_i=float(input('Inserta el limite inferior del intervalo'))\n",
    "    l_s=float(input('Inserta el limite superior del intervalo'))\n",
    "    print(f'La integral de f en el intervalo {[l_i,l_s]} es {integra(f,l_i,l_s,dx)}')"
   ]
  },
  {
   "cell_type": "code",
   "execution_count": 3,
   "id": "922e4ba8-4e53-47bd-a241-fb208e30650b",
   "metadata": {},
   "outputs": [
    {
     "name": "stdout",
     "output_type": "stream",
     "text": [
      "x**6+x**5+3*x**2+14\n"
     ]
    }
   ],
   "source": [
    "string='x^6+x**5+3*x^2+14'\n",
    "string1=string.replace('x^','x**')\n",
    "print(string1)"
   ]
  },
  {
   "cell_type": "code",
   "execution_count": 6,
   "id": "5c449796-aa4f-441e-a259-014586f452c5",
   "metadata": {},
   "outputs": [
    {
     "name": "stdout",
     "output_type": "stream",
     "text": [
      "[0.  0.1 0.2 0.3 0.4 0.5 0.6 0.7 0.8 0.9 1.  1.1 1.2 1.3 1.4 1.5 1.6 1.7\n",
      " 1.8 1.9]\n",
      "[ 1.          0.99500417  0.98006658  0.95533649  0.92106099  0.87758256\n",
      "  0.82533561  0.76484219  0.69670671  0.62160997  0.54030231  0.45359612\n",
      "  0.36235775  0.26749883  0.16996714  0.0707372  -0.02919952 -0.12884449\n",
      " -0.22720209 -0.32328957]\n"
     ]
    }
   ],
   "source": [
    "string='cosx'\n",
    "f=string.replace('cosx','np.cos(x)')\n",
    "x=np.arange(0,2,0.1)\n",
    "print(x)\n",
    "y=eval(f)\n",
    "print(y)"
   ]
  },
  {
   "cell_type": "code",
   "execution_count": 97,
   "id": "5dd0daa1-2463-4fe0-9608-2f31b7e099be",
   "metadata": {},
   "outputs": [
    {
     "name": "stdout",
     "output_type": "stream",
     "text": [
      "6x**6+9x**5+3*x**2+14\n",
      "6*x**6+9*x**5+3*x**2+14\n"
     ]
    }
   ],
   "source": [
    "C={'*','^','-','+'}\n",
    "string='6x^6+9x**5+3*x^2+14'\n",
    "K=string.replace('x^','x**')\n",
    "print(K)\n",
    "L=[i for i in K]\n",
    "for i in range(1,len(L)-1):\n",
    "    if (L[i-1] in C)==False and L[i]=='x':\n",
    "        L.insert(i,'*')\n",
    "L.reverse()\n",
    "a=''\n",
    "for x in L:\n",
    "    b=x+a\n",
    "    a=b\n",
    "print(b)  \n",
    "    #    a=string.insert(i+1,'*')\n",
    "#print(L)        \n",
    "#str_list=string.split()\n",
    "#print(str_list)"
   ]
  },
  {
   "cell_type": "code",
   "execution_count": 90,
   "id": "68a5e8ba-f537-4c2d-aaf4-25423f377795",
   "metadata": {},
   "outputs": [
    {
     "name": "stdout",
     "output_type": "stream",
     "text": [
      "['7', 'p']\n",
      "['7', 'o', 'p']\n",
      "po7\n"
     ]
    }
   ],
   "source": [
    "L=['7','p']\n",
    "k=str(L)\n",
    "print(k)\n",
    "L.insert(1,'o')\n",
    "print(L)\n",
    "M=[]\n",
    "a=''\n",
    "for x in L:\n",
    "    b=x+a\n",
    "    a=b\n",
    "print(b)   "
   ]
  },
  {
   "cell_type": "code",
   "execution_count": 116,
   "id": "70186e83-a5be-445d-8e99-e70fa52fd09a",
   "metadata": {},
   "outputs": [],
   "source": [
    "def remplaza(p):\n",
    "    C={'*','^','-','+'}\n",
    "    K=p.replace('x^','x**')\n",
    "    L=[i for i in K]\n",
    "    for i in range(1,len(L)-1):\n",
    "        if (L[i-1] in C)==False and L[i]=='x':\n",
    "            L.insert(i,'*')\n",
    "    L.reverse()\n",
    "    a=''\n",
    "    for x in L:\n",
    "        b=x+a\n",
    "        a=b\n",
    "    return b"
   ]
  },
  {
   "cell_type": "code",
   "execution_count": 117,
   "id": "0609e389-357a-4a2a-950a-b95ba571f61c",
   "metadata": {},
   "outputs": [
    {
     "data": {
      "text/plain": [
       "'4*x**7+3*x**2+x+234'"
      ]
     },
     "execution_count": 117,
     "metadata": {},
     "output_type": "execute_result"
    }
   ],
   "source": [
    "s='4x^7+3x^2+x+234'\n",
    "remplaza(s)"
   ]
  }
 ],
 "metadata": {
  "kernelspec": {
   "display_name": "Python 3",
   "language": "python",
   "name": "python3"
  },
  "language_info": {
   "codemirror_mode": {
    "name": "ipython",
    "version": 3
   },
   "file_extension": ".py",
   "mimetype": "text/x-python",
   "name": "python",
   "nbconvert_exporter": "python",
   "pygments_lexer": "ipython3",
   "version": "3.8.8"
  }
 },
 "nbformat": 4,
 "nbformat_minor": 5
}
