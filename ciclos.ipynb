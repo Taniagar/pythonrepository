{
 "cells": [
  {
   "cell_type": "code",
   "execution_count": 1,
   "id": "745f022a-5e42-4ae2-a1ec-821f2ba79179",
   "metadata": {},
   "outputs": [
    {
     "name": "stdout",
     "output_type": "stream",
     "text": [
      "La palabra es: hola\n",
      "La palabra es: mundo\n",
      "La palabra es: adios\n"
     ]
    }
   ],
   "source": [
    "palabras = ['hola', 'mundo', 'adios']\n",
    "for palabra in palabras:\n",
    "    print(\"La palabra es:\", palabra)"
   ]
  },
  {
   "cell_type": "code",
   "execution_count": 5,
   "id": "1612e74c-a776-463f-b460-d5c4fca54c5c",
   "metadata": {},
   "outputs": [
    {
     "name": "stdout",
     "output_type": "stream",
     "text": [
      "Esta linea se va a ejecutar 3 veces!\n",
      "Esta linea se va a ejecutar 3 veces!\n",
      "Esta linea se va a ejecutar 3 veces!\n"
     ]
    }
   ],
   "source": [
    "for palabra in palabras:\n",
    "    print(f\"Esta linea se va a ejecutar {len(palabras)} veces!\")"
   ]
  },
  {
   "cell_type": "code",
   "execution_count": 3,
   "id": "6b6b98aa-25ea-4724-b96c-09ebae926f4a",
   "metadata": {},
   "outputs": [
    {
     "ename": "TypeError",
     "evalue": "'list' object is not callable",
     "output_type": "error",
     "traceback": [
      "\u001b[1;31m---------------------------------------------------------------------------\u001b[0m",
      "\u001b[1;31mTypeError\u001b[0m                                 Traceback (most recent call last)",
      "\u001b[1;32m<ipython-input-3-9c2cd183ee86>\u001b[0m in \u001b[0;36m<module>\u001b[1;34m\u001b[0m\n\u001b[0;32m      1\u001b[0m \u001b[1;32mfor\u001b[0m \u001b[0mpalabra\u001b[0m \u001b[1;32min\u001b[0m \u001b[0mpalabras\u001b[0m\u001b[1;33m:\u001b[0m\u001b[1;33m\u001b[0m\u001b[1;33m\u001b[0m\u001b[0m\n\u001b[1;32m----> 2\u001b[1;33m     \u001b[0mprint\u001b[0m\u001b[1;33m(\u001b[0m\u001b[1;34mf\"Esta linea se va a ejecutar {palabras(palabra)} veces!\"\u001b[0m\u001b[1;33m)\u001b[0m\u001b[1;33m\u001b[0m\u001b[1;33m\u001b[0m\u001b[0m\n\u001b[0m",
      "\u001b[1;31mTypeError\u001b[0m: 'list' object is not callable"
     ]
    }
   ],
   "source": [
    "for palabra in palabras:\n",
    "    print(f\"Esta linea se va a ejecutar {palabras[palabra]} veces!\")"
   ]
  },
  {
   "cell_type": "code",
   "execution_count": 2,
   "id": "fbd7aca2-2b8d-43b2-b5e3-33cb82c7fce2",
   "metadata": {},
   "outputs": [
    {
     "name": "stdout",
     "output_type": "stream",
     "text": [
      "0\n",
      "1\n",
      "2\n"
     ]
    }
   ],
   "source": [
    "for i in range(3):\n",
    "    print(i)"
   ]
  },
  {
   "cell_type": "code",
   "execution_count": 3,
   "id": "646fb2e9-02bf-4c2a-afd0-4f0254f58fe7",
   "metadata": {},
   "outputs": [
    {
     "name": "stdout",
     "output_type": "stream",
     "text": [
      "t\n",
      "a\n",
      "n\n",
      "i\n",
      "a\n"
     ]
    }
   ],
   "source": [
    "frase='tania'\n",
    "for i in frase:\n",
    "    print(i)"
   ]
  },
  {
   "cell_type": "markdown",
   "id": "f494aa75-3eee-44f9-be4a-b04621b214df",
   "metadata": {},
   "source": [
    "## Ejercicios: \n",
    "\n",
    "1. Crea un programa que imprima tu nombre 10 veces.\n",
    "2. Crea un programa que imprima 0,1,0,1, etc. $n$ veces\n",
    "3. Crea un programa que imprima las primeras $n$ potencias de 2. No se vale usar **."
   ]
  },
  {
   "cell_type": "markdown",
   "id": "de4cf64f-beaf-4bae-9cbd-befbe42df3a9",
   "metadata": {},
   "source": [
    "#### Ejercicio 1."
   ]
  },
  {
   "cell_type": "code",
   "execution_count": 9,
   "id": "bc48978d-e818-45c4-86c1-dd559eebd0e3",
   "metadata": {},
   "outputs": [
    {
     "name": "stdout",
     "output_type": "stream",
     "text": [
      "Tania\n",
      "Tania\n",
      "Tania\n",
      "Tania\n",
      "Tania\n",
      "Tania\n",
      "Tania\n",
      "Tania\n",
      "Tania\n",
      "Tania\n"
     ]
    }
   ],
   "source": [
    "for i in range(10):\n",
    "    print('Tania')"
   ]
  },
  {
   "cell_type": "markdown",
   "id": "62b1f642-1385-4ee7-948b-b0532aeee1f7",
   "metadata": {},
   "source": [
    "#### Ejercicio 2."
   ]
  },
  {
   "cell_type": "code",
   "execution_count": 16,
   "id": "54ecda88-d690-4450-9f40-df6bb4957fb1",
   "metadata": {},
   "outputs": [
    {
     "name": "stdin",
     "output_type": "stream",
     "text": [
      " 7\n"
     ]
    },
    {
     "name": "stdout",
     "output_type": "stream",
     "text": [
      "0\n",
      "1\n",
      "0\n",
      "1\n",
      "0\n",
      "1\n",
      "0\n"
     ]
    }
   ],
   "source": [
    "n=int(input())\n",
    "for i in range(n):\n",
    "    if i%2==0:\n",
    "        i=0\n",
    "        print(i)\n",
    "    else:\n",
    "        i=1\n",
    "        print(i)"
   ]
  },
  {
   "cell_type": "markdown",
   "id": "48fbe861-ba92-43ee-93da-6efdb1a4048d",
   "metadata": {},
   "source": [
    "#### Ejercicio 3."
   ]
  },
  {
   "cell_type": "code",
   "execution_count": 1,
   "id": "caaff5fd-859d-4bdc-bf91-b2808773f756",
   "metadata": {},
   "outputs": [
    {
     "name": "stdin",
     "output_type": "stream",
     "text": [
      " 7\n"
     ]
    },
    {
     "name": "stdout",
     "output_type": "stream",
     "text": [
      "2\n",
      "4\n",
      "8\n",
      "16\n",
      "32\n",
      "64\n",
      "128\n"
     ]
    }
   ],
   "source": [
    "n=int(input())\n",
    "a=2\n",
    "for i in range(n):\n",
    "    print(a)\n",
    "    a=2*a\n"
   ]
  }
 ],
 "metadata": {
  "kernelspec": {
   "display_name": "Python 3",
   "language": "python",
   "name": "python3"
  },
  "language_info": {
   "codemirror_mode": {
    "name": "ipython",
    "version": 3
   },
   "file_extension": ".py",
   "mimetype": "text/x-python",
   "name": "python",
   "nbconvert_exporter": "python",
   "pygments_lexer": "ipython3",
   "version": "3.8.8"
  }
 },
 "nbformat": 4,
 "nbformat_minor": 5
}
