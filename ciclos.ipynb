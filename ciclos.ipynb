{
 "cells": [
  {
   "cell_type": "code",
   "execution_count": 1,
   "id": "745f022a-5e42-4ae2-a1ec-821f2ba79179",
   "metadata": {},
   "outputs": [
    {
     "name": "stdout",
     "output_type": "stream",
     "text": [
      "La palabra es: hola\n",
      "La palabra es: mundo\n",
      "La palabra es: adios\n"
     ]
    }
   ],
   "source": [
    "palabras = ['hola', 'mundo', 'adios']\n",
    "for palabra in palabras:\n",
    "    print(\"La palabra es:\", palabra)"
   ]
  },
  {
   "cell_type": "code",
   "execution_count": 5,
   "id": "1612e74c-a776-463f-b460-d5c4fca54c5c",
   "metadata": {},
   "outputs": [
    {
     "name": "stdout",
     "output_type": "stream",
     "text": [
      "Esta linea se va a ejecutar 3 veces!\n",
      "Esta linea se va a ejecutar 3 veces!\n",
      "Esta linea se va a ejecutar 3 veces!\n"
     ]
    }
   ],
   "source": [
    "for palabra in palabras:\n",
    "    print(f\"Esta linea se va a ejecutar {len(palabras)} veces!\")"
   ]
  },
  {
   "cell_type": "code",
   "execution_count": 3,
   "id": "6b6b98aa-25ea-4724-b96c-09ebae926f4a",
   "metadata": {},
   "outputs": [
    {
     "ename": "TypeError",
     "evalue": "'list' object is not callable",
     "output_type": "error",
     "traceback": [
      "\u001b[1;31m---------------------------------------------------------------------------\u001b[0m",
      "\u001b[1;31mTypeError\u001b[0m                                 Traceback (most recent call last)",
      "\u001b[1;32m<ipython-input-3-9c2cd183ee86>\u001b[0m in \u001b[0;36m<module>\u001b[1;34m\u001b[0m\n\u001b[0;32m      1\u001b[0m \u001b[1;32mfor\u001b[0m \u001b[0mpalabra\u001b[0m \u001b[1;32min\u001b[0m \u001b[0mpalabras\u001b[0m\u001b[1;33m:\u001b[0m\u001b[1;33m\u001b[0m\u001b[1;33m\u001b[0m\u001b[0m\n\u001b[1;32m----> 2\u001b[1;33m     \u001b[0mprint\u001b[0m\u001b[1;33m(\u001b[0m\u001b[1;34mf\"Esta linea se va a ejecutar {palabras(palabra)} veces!\"\u001b[0m\u001b[1;33m)\u001b[0m\u001b[1;33m\u001b[0m\u001b[1;33m\u001b[0m\u001b[0m\n\u001b[0m",
      "\u001b[1;31mTypeError\u001b[0m: 'list' object is not callable"
     ]
    }
   ],
   "source": [
    "for palabra in palabras:\n",
    "    print(f\"Esta linea se va a ejecutar {palabras[palabra]} veces!\")"
   ]
  },
  {
   "cell_type": "code",
   "execution_count": 2,
   "id": "fbd7aca2-2b8d-43b2-b5e3-33cb82c7fce2",
   "metadata": {},
   "outputs": [
    {
     "name": "stdout",
     "output_type": "stream",
     "text": [
      "0\n",
      "1\n",
      "2\n"
     ]
    }
   ],
   "source": [
    "for i in range(3):\n",
    "    print(i)"
   ]
  },
  {
   "cell_type": "code",
   "execution_count": 3,
   "id": "646fb2e9-02bf-4c2a-afd0-4f0254f58fe7",
   "metadata": {},
   "outputs": [
    {
     "name": "stdout",
     "output_type": "stream",
     "text": [
      "t\n",
      "a\n",
      "n\n",
      "i\n",
      "a\n"
     ]
    }
   ],
   "source": [
    "frase='tania'\n",
    "for i in frase:\n",
    "    print(i)"
   ]
  },
  {
   "cell_type": "markdown",
   "id": "f494aa75-3eee-44f9-be4a-b04621b214df",
   "metadata": {},
   "source": [
    "## Ejercicios: \n",
    "\n",
    "1. Crea un programa que imprima tu nombre 10 veces.\n",
    "2. Crea un programa que imprima 0,1,0,1, etc. $n$ veces\n",
    "3. Crea un programa que imprima las primeras $n$ potencias de 2. No se vale usar **."
   ]
  },
  {
   "cell_type": "markdown",
   "id": "de4cf64f-beaf-4bae-9cbd-befbe42df3a9",
   "metadata": {},
   "source": [
    "#### Ejercicio 1."
   ]
  },
  {
   "cell_type": "code",
   "execution_count": 9,
   "id": "bc48978d-e818-45c4-86c1-dd559eebd0e3",
   "metadata": {},
   "outputs": [
    {
     "name": "stdout",
     "output_type": "stream",
     "text": [
      "Tania\n",
      "Tania\n",
      "Tania\n",
      "Tania\n",
      "Tania\n",
      "Tania\n",
      "Tania\n",
      "Tania\n",
      "Tania\n",
      "Tania\n"
     ]
    }
   ],
   "source": [
    "for i in range(10):\n",
    "    print('Tania')"
   ]
  },
  {
   "cell_type": "markdown",
   "id": "62b1f642-1385-4ee7-948b-b0532aeee1f7",
   "metadata": {},
   "source": [
    "#### Ejercicio 2."
   ]
  },
  {
   "cell_type": "code",
   "execution_count": 16,
   "id": "54ecda88-d690-4450-9f40-df6bb4957fb1",
   "metadata": {},
   "outputs": [
    {
     "name": "stdin",
     "output_type": "stream",
     "text": [
      " 7\n"
     ]
    },
    {
     "name": "stdout",
     "output_type": "stream",
     "text": [
      "0\n",
      "1\n",
      "0\n",
      "1\n",
      "0\n",
      "1\n",
      "0\n"
     ]
    }
   ],
   "source": [
    "n=int(input())\n",
    "for i in range(n):\n",
    "    if i%2==0:\n",
    "        i=0\n",
    "        print(i)\n",
    "    else:\n",
    "        i=1\n",
    "        print(i)"
   ]
  },
  {
   "cell_type": "markdown",
   "id": "48fbe861-ba92-43ee-93da-6efdb1a4048d",
   "metadata": {},
   "source": [
    "#### Ejercicio 3."
   ]
  },
  {
   "cell_type": "code",
   "execution_count": 1,
   "id": "caaff5fd-859d-4bdc-bf91-b2808773f756",
   "metadata": {},
   "outputs": [
    {
     "name": "stdin",
     "output_type": "stream",
     "text": [
      " 7\n"
     ]
    },
    {
     "name": "stdout",
     "output_type": "stream",
     "text": [
      "2\n",
      "4\n",
      "8\n",
      "16\n",
      "32\n",
      "64\n",
      "128\n"
     ]
    }
   ],
   "source": [
    "n=int(input())\n",
    "a=2\n",
    "for i in range(n):\n",
    "    print(a)\n",
    "    a=2*a\n"
   ]
  },
  {
   "cell_type": "markdown",
   "id": "11f7fc01-a3ec-4f96-b798-f3c567eeed33",
   "metadata": {},
   "source": [
    "## continue, break\n",
    "\n",
    "Podemos controlar los ciclos dentro de el mismo bloque con los comandos `continue` y `break`"
   ]
  },
  {
   "cell_type": "code",
   "execution_count": 1,
   "id": "08a48eeb-7e7a-4688-93af-8c4b62cb1403",
   "metadata": {},
   "outputs": [
    {
     "name": "stdout",
     "output_type": "stream",
     "text": [
      "0\n",
      "1\n",
      "2\n",
      "3\n",
      "4\n"
     ]
    }
   ],
   "source": [
    "for i in range(100000000000000000):\n",
    "    if i == 5:\n",
    "        break\n",
    "    print(i)"
   ]
  },
  {
   "cell_type": "code",
   "execution_count": 2,
   "id": "17095996-62c1-4013-aa29-367f0d13d8c5",
   "metadata": {},
   "outputs": [
    {
     "name": "stdout",
     "output_type": "stream",
     "text": [
      "0\n",
      "1\n",
      "2\n",
      "3\n",
      "4\n",
      "6\n",
      "7\n",
      "8\n",
      "9\n"
     ]
    }
   ],
   "source": [
    "for i in range(10):\n",
    "    if i == 5:\n",
    "        continue\n",
    "    print(i)"
   ]
  },
  {
   "cell_type": "markdown",
   "id": "1676ad28-1352-4d01-8146-6d3a611389d6",
   "metadata": {},
   "source": [
    "## while\n",
    "\n",
    "while significa \"mientras\". Se usa así:\n",
    "```\n",
    "    while condicion:\n",
    "        bla bla bla\n",
    "```"
   ]
  },
  {
   "cell_type": "code",
   "execution_count": 6,
   "id": "451bdef4-35f9-4861-96c1-56669f8afeeb",
   "metadata": {},
   "outputs": [],
   "source": [
    "while False:\n",
    "    print(\"Esto nunca ocurrirá!\")"
   ]
  },
  {
   "cell_type": "code",
   "execution_count": 7,
   "id": "ac1104a1-c17c-48c4-abd4-a107aca662ca",
   "metadata": {},
   "outputs": [
    {
     "name": "stdout",
     "output_type": "stream",
     "text": [
      "Esto nunca ocurrirá porque no le voy a picar porque no quiero que se trabe la computadora!\n"
     ]
    }
   ],
   "source": [
    "while True:\n",
    "    print(\"Esto nunca ocurrirá porque no le voy a picar \" \n",
    "          \"porque no quiero que se trabe la computadora!\")\n",
    "    break"
   ]
  },
  {
   "cell_type": "code",
   "execution_count": 8,
   "id": "53285288-2252-45e8-8d89-d5327bde2a9e",
   "metadata": {},
   "outputs": [
    {
     "name": "stdout",
     "output_type": "stream",
     "text": [
      "1\n",
      "2\n",
      "4\n",
      "8\n",
      "16\n",
      "32\n",
      "64\n",
      "128\n",
      "256\n",
      "512\n",
      "1024\n",
      "2048\n",
      "4096\n",
      "8192\n",
      "16384\n",
      "32768\n",
      "65536\n",
      "131072\n",
      "262144\n"
     ]
    }
   ],
   "source": [
    "i = 1\n",
    "while i < 500000:\n",
    "    print(i)\n",
    "    i *= 2"
   ]
  },
  {
   "cell_type": "code",
   "execution_count": 9,
   "id": "8f2c0749-6db2-4597-950f-4e806fde8da1",
   "metadata": {},
   "outputs": [],
   "source": [
    "a = 0.0\n",
    "b = 2.0\n",
    "epsilon = 1e-8\n",
    "while a + epsilon < b:\n",
    "    m = (a+b)/2\n",
    "    if m*m < 3:\n",
    "        a = m\n",
    "    else:\n",
    "        b = m"
   ]
  },
  {
   "cell_type": "code",
   "execution_count": 12,
   "id": "9e78ab8e-0ee2-481f-ada2-c7543a8f6b52",
   "metadata": {},
   "outputs": [
    {
     "data": {
      "text/plain": [
       "1.7320508062839508"
      ]
     },
     "execution_count": 12,
     "metadata": {},
     "output_type": "execute_result"
    }
   ],
   "source": [
    "a"
   ]
  },
  {
   "cell_type": "code",
   "execution_count": 13,
   "id": "b55df9a8-7f1d-4f80-b990-ca6f52787014",
   "metadata": {},
   "outputs": [
    {
     "data": {
      "text/plain": [
       "1.7320508137345314"
      ]
     },
     "execution_count": 13,
     "metadata": {},
     "output_type": "execute_result"
    }
   ],
   "source": [
    "b"
   ]
  },
  {
   "cell_type": "markdown",
   "id": "5f3cf248-14d4-4e67-9f87-3a2e6395ab9b",
   "metadata": {},
   "source": [
    "## Ejercicios:\n",
    "\n",
    "1. Suma los cubos de los primeros $n$ números SIN formulita.\n",
    "2. Dado un número $n$, imprime la sucesión de Collatz para ese número.\n",
    "3. Dado un número $n$, imprime la sucesión de Fibonacci para ese número.\n",
    "4. Dadas dos palabras, determina si la 1a es subsecuencia de la 2da.\n",
    "5. Dadas dos palabras, imprime la máxima cadena inicial común.\n",
    "6. (opcional) Imprime los primeros $n$ primos."
   ]
  },
  {
   "cell_type": "markdown",
   "id": "35739283-720a-48c2-be3a-97b48bfa16b9",
   "metadata": {},
   "source": [
    "Ejercicio 1."
   ]
  },
  {
   "cell_type": "code",
   "execution_count": 9,
   "id": "1fe62024-643c-4a09-a69b-5cd907e04409",
   "metadata": {},
   "outputs": [
    {
     "name": "stdout",
     "output_type": "stream",
     "text": [
      "1\n",
      "4\n",
      "13\n",
      "40\n",
      "121\n",
      "364\n"
     ]
    }
   ],
   "source": [
    "n=6\n",
    "a=1\n",
    "b=1\n",
    "for i in range(n):\n",
    "    a*=3\n",
    "    print(b)\n",
    "    b+=a"
   ]
  },
  {
   "cell_type": "markdown",
   "id": "f3ed6adc-8b4b-4701-8f31-ab5a5b7acf3f",
   "metadata": {},
   "source": [
    "Otra solución del ejercicio 1.\n"
   ]
  },
  {
   "cell_type": "code",
   "execution_count": 11,
   "id": "dfbbfda0-ca1e-47eb-8821-e7001f6987c3",
   "metadata": {},
   "outputs": [
    {
     "name": "stdout",
     "output_type": "stream",
     "text": [
      "1\n",
      "4\n",
      "13\n",
      "40\n",
      "121\n",
      "364\n"
     ]
    }
   ],
   "source": [
    "n=5\n",
    "a=1\n",
    "b=1\n",
    "while b<400:\n",
    "    a*=3\n",
    "    print(b)\n",
    "    b+=a\n",
    "   "
   ]
  },
  {
   "cell_type": "code",
   "execution_count": 13,
   "id": "99efd2f3-2e5c-4352-bc4c-eb46f3bc87f8",
   "metadata": {},
   "outputs": [
    {
     "name": "stdout",
     "output_type": "stream",
     "text": [
      "1\n",
      "4\n",
      "13\n",
      "40\n",
      "121\n",
      "364\n"
     ]
    }
   ],
   "source": [
    "a=0\n",
    "for i in range(6):\n",
    "    a=3**i+a\n",
    "    print(a)"
   ]
  },
  {
   "cell_type": "markdown",
   "id": "c702c199-f377-4947-8e5c-d56808993022",
   "metadata": {},
   "source": [
    "Ejercicio 2."
   ]
  },
  {
   "cell_type": "code",
   "execution_count": 23,
   "id": "3bf449f4-24d3-4622-b699-c101c44c59a0",
   "metadata": {},
   "outputs": [
    {
     "name": "stdout",
     "output_type": "stream",
     "text": [
      "6\n",
      "3.0\n",
      "10.0\n",
      "5.0\n",
      "16.0\n",
      "8.0\n",
      "4.0\n",
      "2.0\n",
      "1.0\n"
     ]
    }
   ],
   "source": [
    "a=6\n",
    "print(a)\n",
    "while a>1:\n",
    "    if a%2==0:\n",
    "        a/=2\n",
    "    else:\n",
    "        a=3*a+1\n",
    "    print(a)"
   ]
  },
  {
   "cell_type": "markdown",
   "id": "56ca824e-7dbd-4b72-8662-875b478947bf",
   "metadata": {},
   "source": [
    "Ejercicio 3."
   ]
  },
  {
   "cell_type": "code",
   "execution_count": 2,
   "id": "c43436a2-b168-436a-9bb1-1b78e0d367b2",
   "metadata": {},
   "outputs": [
    {
     "name": "stdout",
     "output_type": "stream",
     "text": [
      "1\n",
      "1\n",
      "2\n",
      "3\n",
      "5\n",
      "8\n",
      "13\n",
      "21\n",
      "34\n",
      "55\n",
      "89\n"
     ]
    }
   ],
   "source": [
    "a=1\n",
    "b=1\n",
    "while a<100:\n",
    "    c=a+b\n",
    "    print(a)\n",
    "    a=b\n",
    "    b=c\n",
    "\n",
    "    "
   ]
  },
  {
   "cell_type": "markdown",
   "id": "7dcf7522-2229-4390-9404-1056cf221e78",
   "metadata": {},
   "source": [
    "Ejercicio 4."
   ]
  },
  {
   "cell_type": "code",
   "execution_count": 16,
   "id": "e2194008-b5a8-423b-9fa4-09358d901042",
   "metadata": {},
   "outputs": [],
   "source": [
    "a=\"tochter\"\n",
    "b=\"eineopppprpyu56\""
   ]
  },
  {
   "cell_type": "code",
   "execution_count": 17,
   "id": "b002c52d-fc6d-4865-a21e-620f61812ce3",
   "metadata": {},
   "outputs": [
    {
     "name": "stdout",
     "output_type": "stream",
     "text": [
      "No es :(\n"
     ]
    }
   ],
   "source": [
    "cuantas_letras_de_a_he_encontrado = 0\n",
    "for j,i in enumerate(b):\n",
    "    if i == a[cuantas_letras_de_a_he_encontrado]:\n",
    "        cuantas_letras_de_a_he_encontrado += 1\n",
    "        print(b[j])\n",
    "        if cuantas_letras_de_a_he_encontrado<len(a) and a[cuantas_letras_de_a_he_encontrado]!=b[j+1]:\n",
    "            break\n",
    "    if cuantas_letras_de_a_he_encontrado == len(a):\n",
    "            print(\"Sí es!\")\n",
    "            break\n",
    "if cuantas_letras_de_a_he_encontrado < len(a):\n",
    "    print(\"No es :(\")"
   ]
  },
  {
   "cell_type": "markdown",
   "id": "7c51042c-1c6e-4710-b16c-d97ab678901e",
   "metadata": {},
   "source": []
  },
  {
   "cell_type": "code",
   "execution_count": null,
   "id": "a50c6ca5-6617-4167-9eea-c92510cafa82",
   "metadata": {},
   "outputs": [],
   "source": []
  },
  {
   "cell_type": "code",
   "execution_count": null,
   "id": "b7a712ad-956d-468b-8cd7-d17b2de881d9",
   "metadata": {},
   "outputs": [],
   "source": []
  }
 ],
 "metadata": {
  "kernelspec": {
   "display_name": "Python 3",
   "language": "python",
   "name": "python3"
  },
  "language_info": {
   "codemirror_mode": {
    "name": "ipython",
    "version": 3
   },
   "file_extension": ".py",
   "mimetype": "text/x-python",
   "name": "python",
   "nbconvert_exporter": "python",
   "pygments_lexer": "ipython3",
   "version": "3.8.8"
  }
 },
 "nbformat": 4,
 "nbformat_minor": 5
}
