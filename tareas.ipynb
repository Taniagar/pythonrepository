{
 "cells": [
  {
   "cell_type": "markdown",
   "id": "1171b1ee-83aa-4b9d-931c-2b9d8ec91428",
   "metadata": {},
   "source": [
    "### La torre de vigilancia"
   ]
  },
  {
   "cell_type": "code",
   "execution_count": null,
   "id": "4bd27f7b-50af-4525-b235-bb9cc8e76d59",
   "metadata": {},
   "outputs": [],
   "source": [
    "x1=int(input())\n",
    "y1=int(input())\n",
    "x2=int(input())\n",
    "y2=int(input())\n",
    "if x1==x2:\n",
    "    print('VALIDA')\n",
    "elif y1==y2:\n",
    "    print('VALIDA')\n",
    "else:\n",
    "    a=0\n",
    "    for i in range(8):\n",
    "        if abs(x1-x2)==i and abs(y1-y2)==i:\n",
    "            a='VALIDA'\n",
    "            print(a)\n",
    "    if a==0:\n",
    "        print('INVALIDA')\n",
    "\n"
   ]
  },
  {
   "cell_type": "markdown",
   "id": "203f681a-2ec1-4399-a321-1e5c59bbb5af",
   "metadata": {},
   "source": [
    "### La tarea de Mary con numeros aliatorios y una lista"
   ]
  },
  {
   "cell_type": "code",
   "execution_count": 30,
   "id": "adab71f1-313a-41cf-a824-ffae9ac84a3d",
   "metadata": {},
   "outputs": [
    {
     "name": "stdin",
     "output_type": "stream",
     "text": [
      " 20\n"
     ]
    },
    {
     "name": "stdout",
     "output_type": "stream",
     "text": [
      "[9, 12, 9, 4, 8, 15, 7, 9, 18, 1, 8, 12, 1, 12, 15, 20, 10, 4, 1, 11, 1]\n",
      "83\n"
     ]
    }
   ],
   "source": [
    "import random\n",
    "n=int(input())\n",
    "L=[random.randint(1,n) for i in range(n+1)]\n",
    "b=0\n",
    "for i in range(L[0]):\n",
    "    a=L[i+1]\n",
    "    b=a+b\n",
    "print(L)\n",
    "print(b)"
   ]
  },
  {
   "cell_type": "code",
   "execution_count": 17,
   "id": "0fe7f617-812d-4488-9832-2360175ec531",
   "metadata": {},
   "outputs": [
    {
     "name": "stdout",
     "output_type": "stream",
     "text": [
      "28\n"
     ]
    }
   ],
   "source": [
    "L=[2,6,9,4,7]\n",
    "b=0\n",
    "for i in L:\n",
    "    a=i\n",
    "    b=a+b\n",
    "print(b)"
   ]
  },
  {
   "cell_type": "code",
   "execution_count": 15,
   "id": "03e369bd-6955-484a-b010-fb354639ec01",
   "metadata": {},
   "outputs": [
    {
     "name": "stdout",
     "output_type": "stream",
     "text": [
      "2\n",
      "6\n",
      "9\n",
      "4\n",
      "7\n"
     ]
    }
   ],
   "source": [
    "L=[2,6,9,4,7]\n",
    "for i in L:\n",
    "    print(i)"
   ]
  },
  {
   "cell_type": "code",
   "execution_count": 21,
   "id": "f0cecd3e-7aef-461c-9b0b-bb7b712027c1",
   "metadata": {},
   "outputs": [
    {
     "name": "stdin",
     "output_type": "stream",
     "text": [
      "Ingrese numero de dados: 6\n"
     ]
    },
    {
     "name": "stdout",
     "output_type": "stream",
     "text": [
      "[3, 2, 3, 4, 4, 5]\n"
     ]
    }
   ],
   "source": [
    "import random\n",
    "\n",
    "numero = int(input(\"Ingrese numero de dados:\"))\n",
    "if numero <= 0:\n",
    "    print(\"ERROR.\")\n",
    "else:\n",
    "    dados1 = []\n",
    "\n",
    "for i in range(1,numero+1):\n",
    "    dados1.append(random.randrange(1,7))\n",
    "print(dados1)"
   ]
  },
  {
   "cell_type": "markdown",
   "id": "880ce317-fda8-4885-9bfd-935ac0e393c0",
   "metadata": {},
   "source": [
    "### La tarea de Mary"
   ]
  },
  {
   "cell_type": "code",
   "execution_count": 10,
   "id": "993c90a5-9eec-49c7-b42d-01692b4aed88",
   "metadata": {},
   "outputs": [
    {
     "name": "stdin",
     "output_type": "stream",
     "text": [
      " 4\n",
      " 5\n",
      " 5\n",
      " 6\n",
      " 8\n"
     ]
    },
    {
     "name": "stdout",
     "output_type": "stream",
     "text": [
      "[5, 5, 6, 8]\n",
      "24\n"
     ]
    }
   ],
   "source": [
    "n0=int(input())\n",
    "b=0\n",
    "L=[]\n",
    "for i in range(1,n0+1):\n",
    "    ni=int(input())\n",
    "    L.append(ni)\n",
    "print(L)\n",
    "for i in L:\n",
    "    a=i\n",
    "    b=a+b\n",
    "print(b)\n"
   ]
  },
  {
   "cell_type": "markdown",
   "id": "0a9d311d-0d4b-43f5-a7d2-3d0663d472e2",
   "metadata": {},
   "source": [
    "### El trabajo de un novato"
   ]
  },
  {
   "cell_type": "code",
   "execution_count": 18,
   "id": "f398d641-7a37-42de-b302-466abd3850e3",
   "metadata": {},
   "outputs": [
    {
     "name": "stdin",
     "output_type": "stream",
     "text": [
      " 7\n",
      " Me\n",
      " da\n",
      " mucha\n",
      " flojera\n",
      " hacer\n",
      " esta\n",
      " tarea\n"
     ]
    },
    {
     "name": "stdout",
     "output_type": "stream",
     "text": [
      "['tarea', 'esta', 'hacer', 'flojera', 'mucha', 'da', 'Me']\n",
      "Me da mucha flojera hacer esta tarea  \n"
     ]
    }
   ],
   "source": [
    "n0=int(input())\n",
    "L=[]\n",
    "b=' '\n",
    "for i in range(1,n0+1):\n",
    "    a=input()\n",
    "    L.append(a)\n",
    "L.reverse()\n",
    "print(L)\n",
    "for i in L:\n",
    "    a=i+' '\n",
    "    b=a+b\n",
    "print(b)"
   ]
  },
  {
   "cell_type": "markdown",
   "id": "2bb53c30-1719-4fd5-ab25-efdbebb7b56a",
   "metadata": {},
   "source": [
    "### Primer intento del collar de mary, te dice si dos listas no tienen elementos en comun"
   ]
  },
  {
   "cell_type": "code",
   "execution_count": 37,
   "id": "bee85253-54df-41c7-a78e-ab658809f758",
   "metadata": {},
   "outputs": [
    {
     "name": "stdin",
     "output_type": "stream",
     "text": [
      " 3\n",
      " 1\n",
      " 2\n",
      " 3\n",
      " 2\n",
      " 3\n",
      " 1\n"
     ]
    },
    {
     "name": "stdout",
     "output_type": "stream",
     "text": [
      "{1, 2, 3}\n",
      "{1, 2, 3}\n",
      "SE PUEDE\n"
     ]
    }
   ],
   "source": [
    "n=int(input())\n",
    "collar1=[]\n",
    "collar2=[]\n",
    "for i in range(n):\n",
    "    a_i=int(input())\n",
    "    collar1.append(a_i)\n",
    "A=set(collar1)\n",
    "for i in range(n):\n",
    "    b_i=int(input())\n",
    "    collar2.append(b_i)\n",
    "B=set(collar2)\n",
    "print(A)\n",
    "print(B)\n",
    "if A==B:\n",
    "    print('SE PUEDE')\n",
    "else:\n",
    "    print('NO SE PUEDE')\n",
    "#for i in range(n):\n",
    " #   for j in range(n):\n",
    "  #      a=collar2[j+1]\n",
    "#print(a)"
   ]
  },
  {
   "cell_type": "code",
   "execution_count": 30,
   "id": "672d0465-7841-405f-94b8-390803c13afa",
   "metadata": {},
   "outputs": [
    {
     "name": "stdout",
     "output_type": "stream",
     "text": [
      "son iguales\n"
     ]
    }
   ],
   "source": [
    "L={1,1,1}\n",
    "M={1,1,1}\n",
    "if L==M:\n",
    "    print('son iguales')\n",
    "else:\n",
    "    print('son distintos')"
   ]
  },
  {
   "cell_type": "code",
   "execution_count": 28,
   "id": "82a43d5e-9143-4606-9113-2c2c67caf9b0",
   "metadata": {},
   "outputs": [
    {
     "data": {
      "text/plain": [
       "{1, 7, 8}"
      ]
     },
     "execution_count": 28,
     "metadata": {},
     "output_type": "execute_result"
    }
   ],
   "source": [
    "L=[1,7,8]\n",
    "set(L)"
   ]
  },
  {
   "cell_type": "markdown",
   "id": "a178dd27-0039-4910-a304-b899f5d8f94e",
   "metadata": {},
   "source": [
    "### El collar de Mary"
   ]
  },
  {
   "cell_type": "code",
   "execution_count": 16,
   "id": "0d502b5f-80e4-4654-a8bf-b06c683868d6",
   "metadata": {},
   "outputs": [
    {
     "name": "stdin",
     "output_type": "stream",
     "text": [
      " 7\n",
      " 2\n",
      " 5\n",
      " 7\n",
      " 3\n",
      " 3\n",
      " 8\n",
      " 6\n",
      " 8\n",
      " 6\n",
      " 2\n",
      " 5\n",
      " 7\n",
      " 3\n",
      " 3\n"
     ]
    },
    {
     "name": "stdout",
     "output_type": "stream",
     "text": [
      "SE PUEDE\n"
     ]
    }
   ],
   "source": [
    "n=int(input())\n",
    "K=[]\n",
    "L=[]\n",
    "M=[]\n",
    "i=0\n",
    "a=0\n",
    "for s in range(n):\n",
    "    a_i=int(input())\n",
    "    K.append(a_i)\n",
    "for s in range(n):\n",
    "    b_i=int(input())\n",
    "    L.append(b_i)\n",
    "while i<n:\n",
    "    for j in range(i,n+i):\n",
    "        if j<n:\n",
    "            M.append(L[j])\n",
    "        else:\n",
    "            j=j-len(L)\n",
    "            M.append(L[j])\n",
    "    if M==K:\n",
    "        a=1\n",
    "        print('SE PUEDE')\n",
    "        break\n",
    "    M=[]\n",
    "    i+=1\n",
    "if a==0:\n",
    "    print('NO SE PUEDE')"
   ]
  },
  {
   "cell_type": "code",
   "execution_count": 5,
   "id": "b8bfce35-5b7d-4e3b-877a-f30d4036d888",
   "metadata": {},
   "outputs": [
    {
     "name": "stdout",
     "output_type": "stream",
     "text": [
      "1\n",
      "2\n",
      "3\n",
      "4\n",
      "5\n",
      "7\n",
      "9\n",
      "3\n"
     ]
    }
   ],
   "source": [
    "L=[1,2,3,4,5,7,9,3]\n",
    "i=0\n",
    "M=[]\n",
    "while i<len(L):\n",
    "    print(L[i])\n",
    "    i+=1\n",
    "i+=1    "
   ]
  },
  {
   "cell_type": "markdown",
   "id": "017a193a-d2b3-4f7c-b34b-fe36b638254c",
   "metadata": {},
   "source": [
    "### Borrador del collar de Mary"
   ]
  },
  {
   "cell_type": "code",
   "execution_count": 14,
   "id": "b3b51005-2782-411b-a3ab-8e8fe5ea580a",
   "metadata": {},
   "outputs": [
    {
     "name": "stdout",
     "output_type": "stream",
     "text": [
      "[5, 6]\n",
      "[6, 5]\n",
      "NO SE PUEDE\n"
     ]
    }
   ],
   "source": [
    "K=[3,9]\n",
    "L=[5,6]\n",
    "i=0\n",
    "M=[]\n",
    "a=0\n",
    "while i<:\n",
    "    for j in range(i,2+i):\n",
    "        if j<2:\n",
    "            M.append(L[j])\n",
    "        else:\n",
    "            j=j-len(L)\n",
    "            M.append(L[j])\n",
    "    print(M)\n",
    "    if M==K:\n",
    "        a=1\n",
    "        print('SE PUEDE')\n",
    "        break\n",
    "    M=[]\n",
    "    i+=1\n",
    "if a==0:\n",
    "    print('NO SE PUEDE')"
   ]
  },
  {
   "cell_type": "code",
   "execution_count": 5,
   "id": "55cab2e8-1445-4749-8cc6-96b9bc620765",
   "metadata": {},
   "outputs": [],
   "source": [
    "def es_primo(n):\n",
    "    for i in range(2,n):\n",
    "        if n%i==0:\n",
    "            return False\n",
    "    return True\n"
   ]
  },
  {
   "cell_type": "code",
   "execution_count": 40,
   "id": "5f144808-dc1e-4345-9575-5a33cc9ec3dd",
   "metadata": {},
   "outputs": [
    {
     "data": {
      "text/plain": [
       "True"
      ]
     },
     "execution_count": 40,
     "metadata": {},
     "output_type": "execute_result"
    }
   ],
   "source": [
    "es_primo(0)"
   ]
  },
  {
   "cell_type": "code",
   "execution_count": 14,
   "id": "f0c4724d-566b-4227-be6f-1779fdad22ca",
   "metadata": {},
   "outputs": [
    {
     "data": {
      "text/plain": [
       "True"
      ]
     },
     "execution_count": 14,
     "metadata": {},
     "output_type": "execute_result"
    }
   ],
   "source": [
    "es_primo(2)"
   ]
  },
  {
   "cell_type": "code",
   "execution_count": 15,
   "id": "f679da36-ec44-427d-8c98-c49cf97ba3bb",
   "metadata": {},
   "outputs": [
    {
     "data": {
      "text/plain": [
       "True"
      ]
     },
     "execution_count": 15,
     "metadata": {},
     "output_type": "execute_result"
    }
   ],
   "source": [
    "es_primo(7)"
   ]
  },
  {
   "cell_type": "code",
   "execution_count": 6,
   "id": "ed7448fe-930d-42b9-8882-be4a350b3046",
   "metadata": {},
   "outputs": [],
   "source": [
    "def prime_factorsif(n):\n",
    "    prime_divisors=[]\n",
    "    for i in range(2,n+1):\n",
    "        if n%i==0:\n",
    "            prime_divisors.append(i)\n",
    "    return prime_divisors"
   ]
  },
  {
   "cell_type": "code",
   "execution_count": 30,
   "id": "b454c7e6-98ee-4c17-8cb2-43ad40837376",
   "metadata": {},
   "outputs": [
    {
     "data": {
      "text/plain": [
       "[2, 3, 4, 6, 12]"
      ]
     },
     "execution_count": 30,
     "metadata": {},
     "output_type": "execute_result"
    }
   ],
   "source": [
    "L=prime_factorsif(12)\n",
    "L"
   ]
  },
  {
   "cell_type": "code",
   "execution_count": 28,
   "id": "1eca1a67-996d-493e-bc75-d73c929e11a4",
   "metadata": {},
   "outputs": [
    {
     "name": "stdout",
     "output_type": "stream",
     "text": [
      "2\n",
      "3\n"
     ]
    }
   ],
   "source": [
    "for i in L:\n",
    "    if es_primo(i)==True:\n",
    "        print(i)\n"
   ]
  },
  {
   "cell_type": "code",
   "execution_count": 11,
   "id": "d1d52889-6a8f-48b2-814c-fe8778aefd9b",
   "metadata": {},
   "outputs": [],
   "source": [
    "def calcula_primos(n):\n",
    "    M=[]\n",
    "    i=2\n",
    "    while len(M)<n:\n",
    "        if es_primo(i)==True:\n",
    "            M.append(i)\n",
    "        i+=1\n",
    "    return M"
   ]
  },
  {
   "cell_type": "code",
   "execution_count": 16,
   "id": "54430927-a887-4920-9cc2-a0ba796174b4",
   "metadata": {},
   "outputs": [],
   "source": [
    "L=calcula_primos(5)"
   ]
  },
  {
   "cell_type": "code",
   "execution_count": 17,
   "id": "903a79cc-14a9-45a7-a2d7-afbe8322d593",
   "metadata": {},
   "outputs": [
    {
     "name": "stdout",
     "output_type": "stream",
     "text": [
      "2\n",
      "3\n",
      "5\n",
      "7\n",
      "11\n"
     ]
    }
   ],
   "source": [
    "for i in L:\n",
    "    if es_primo(i)==True:\n",
    "        print(i)"
   ]
  },
  {
   "cell_type": "code",
   "execution_count": 25,
   "id": "af20f720-5ee7-4149-9f2f-db4289ae2761",
   "metadata": {},
   "outputs": [
    {
     "name": "stdin",
     "output_type": "stream",
     "text": [
      " 10\n"
     ]
    },
    {
     "name": "stdout",
     "output_type": "stream",
     "text": [
      "2\n",
      "3\n",
      "5\n",
      "7\n",
      "11\n",
      "13\n",
      "17\n",
      "19\n",
      "23\n",
      "29\n"
     ]
    }
   ],
   "source": [
    "def es_primo(n):\n",
    "    for i in range(2,n):\n",
    "        if n%i==0:\n",
    "            return False\n",
    "    return True\n",
    "def calcula_primos(n):\n",
    "    M=[]\n",
    "    i=2\n",
    "    while len(M)<n:\n",
    "        if es_primo(i)==True:\n",
    "            M.append(i)\n",
    "        i+=1\n",
    "    return M\n",
    "n=int(input())\n",
    "L=calcula_primos(n)\n",
    "for i in L:\n",
    "        print(i)"
   ]
  },
  {
   "cell_type": "markdown",
   "id": "ca51e100-b186-41fb-bcfc-cb4a8e8f8a97",
   "metadata": {},
   "source": [
    "### Sucesion de Fibonacci"
   ]
  },
  {
   "cell_type": "code",
   "execution_count": 71,
   "id": "fc3d67ab-c402-4f32-90fc-6e1f5a7cae2b",
   "metadata": {},
   "outputs": [
    {
     "name": "stdin",
     "output_type": "stream",
     "text": [
      " 5\n",
      " 2\n",
      " 3\n",
      " 1\n",
      " 144\n",
      " 7\n"
     ]
    },
    {
     "name": "stdout",
     "output_type": "stream",
     "text": [
      "IsFibo\n",
      "IsFibo\n",
      "IsFibo\n",
      "IsFibo\n",
      "IsNotFibo\n"
     ]
    }
   ],
   "source": [
    "# calcula la sucesion de fibonacci\n",
    "def sucfibonacci(n):\n",
    "    a=0\n",
    "    b=1\n",
    "    L=[a,b]\n",
    "    while b<n:\n",
    "        i=a+b\n",
    "        L.append(i)\n",
    "        a=b\n",
    "        b=i\n",
    "    return L\n",
    "# dice si un numero pertenece a la sucesion de fibonacci\n",
    "def isfibo(n):\n",
    "    if n in sucfibonacci(n+1):\n",
    "        return 'IsFibo'\n",
    "    else:\n",
    "        return 'IsNotFibo'\n",
    "n=int(input())\n",
    "M=[]\n",
    "for i in range(n):\n",
    "    fibo=int(input())\n",
    "    M.append(fibo)\n",
    "for i in M:\n",
    "    print(isfibo(i))"
   ]
  },
  {
   "cell_type": "code",
   "execution_count": 1,
   "id": "6aa0c96b-9cf0-4694-b099-c6ebb819129a",
   "metadata": {},
   "outputs": [],
   "source": [
    "import copy\n",
    "def suma(L):\n",
    "    i=0\n",
    "    M=copy.copy(L)\n",
    "    while i<len(L)-1:\n",
    "        M.append(L[-1]+L[i])\n",
    "        i+=1\n",
    "    return M"
   ]
  },
  {
   "cell_type": "code",
   "execution_count": 2,
   "id": "f3111482-ec22-468f-b6af-fcc65624b104",
   "metadata": {},
   "outputs": [
    {
     "data": {
      "text/plain": [
       "[1, 2, 3, 4, 5, 6, 7]"
      ]
     },
     "execution_count": 2,
     "metadata": {},
     "output_type": "execute_result"
    }
   ],
   "source": [
    "suma([1,2,3,4])"
   ]
  },
  {
   "cell_type": "code",
   "execution_count": 1,
   "id": "06d25e38-0a7d-4329-b408-3e8d341c52ed",
   "metadata": {},
   "outputs": [
    {
     "name": "stdin",
     "output_type": "stream",
     "text": [
      " 16\n"
     ]
    },
    {
     "name": "stdout",
     "output_type": "stream",
     "text": [
      "[9, 90]\n",
      "[9, 90, 99]\n",
      "[9, 90, 99, 900]\n",
      "[9, 90, 99, 900, 909, 990, 999]\n",
      "[9, 90, 99, 900, 909, 990, 999, 9000]\n",
      "[9, 90, 99, 900, 909, 990, 999, 9000, 9009, 9090, 9099, 9900, 9909, 9990, 9999]\n",
      "[9, 90, 99, 900, 909, 990, 999, 9000, 9009, 9090, 9099, 9900, 9909, 9990, 9999, 90000]\n",
      "90000\n"
     ]
    }
   ],
   "source": [
    "import copy\n",
    "i=0\n",
    "a=9\n",
    "L=[a]\n",
    "n=int(input())\n",
    "while L[-1]%n!=0:\n",
    "    if L[-1]%10!=0:\n",
    "        a=a*10\n",
    "        L.append(a)\n",
    "        print(L)\n",
    "    else:\n",
    "        M=copy.copy(L)\n",
    "        j=0\n",
    "        while j<len(L)-1:\n",
    "            M.append(L[-1]+L[j])\n",
    "            if M[j+len(L)]%n==0:\n",
    "                break\n",
    "            j+=1\n",
    "        L=copy.copy(M)\n",
    "        print(L)\n",
    "#print(L)\n",
    "print(L[-1])"
   ]
  },
  {
   "cell_type": "markdown",
   "id": "b5f2fa96-9e33-44bd-8ad3-5d14c2f32d8c",
   "metadata": {},
   "source": [
    "### Especial Multiple"
   ]
  },
  {
   "cell_type": "code",
   "execution_count": 23,
   "id": "16b18e7e-fb8b-4b3a-a23e-b076e0ed99b9",
   "metadata": {},
   "outputs": [
    {
     "name": "stdin",
     "output_type": "stream",
     "text": [
      " 3\n",
      " 90000\n",
      " 26\n",
      " 16\n"
     ]
    },
    {
     "name": "stdout",
     "output_type": "stream",
     "text": [
      "90000\n",
      "90090\n",
      "90000\n"
     ]
    }
   ],
   "source": [
    "import copy\n",
    "def encuentra_multiplo(n):\n",
    "    i=0\n",
    "    a=9\n",
    "    L=[a]\n",
    "    while L[-1]%n!=0:\n",
    "        if L[-1]%10!=0:\n",
    "            a=a*10\n",
    "            L.append(a)\n",
    "        else:\n",
    "            M=copy.copy(L)\n",
    "            j=0\n",
    "            while j<len(L)-1:\n",
    "                M.append(L[-1]+L[j])\n",
    "                if M[j+len(L)]%n==0:\n",
    "                    break\n",
    "                j+=1\n",
    "            L=copy.copy(M)\n",
    "    return L[-1]\n",
    "\n",
    "n=int(input())\n",
    "K=[]\n",
    "for i in range(n):\n",
    "    s=int(input())\n",
    "    K.append(s)\n",
    "for x in K:\n",
    "    print(encuentra_multiplo(x))"
   ]
  },
  {
   "cell_type": "code",
   "execution_count": 11,
   "id": "c4df55d7-d26c-459e-8a75-4f1dd8939ff4",
   "metadata": {},
   "outputs": [
    {
     "name": "stdin",
     "output_type": "stream",
     "text": [
      " 4\n",
      " 5\n",
      " -3\n"
     ]
    },
    {
     "name": "stdout",
     "output_type": "stream",
     "text": [
      "1024\n",
      "(-0.3333333333333144, -341.0)\n",
      "1024.0\n"
     ]
    }
   ],
   "source": [
    "import math\n",
    "a=int(input())\n",
    "b=int(input())\n",
    "x=int(input())\n",
    "s=abs(a**b)\n",
    "print(s)\n",
    "t=s/x\n",
    "parte_entera=math.modf(t)\n",
    "print(parte_entera)\n",
    "p=t*x\n",
    "print(p)"
   ]
  },
  {
   "cell_type": "code",
   "execution_count": 12,
   "id": "a87caba9-da94-477b-8022-6a28723a3424",
   "metadata": {},
   "outputs": [],
   "source": [
    "def close_number(a,b,x):\n",
    "    y=(a**b)\n",
    "    i=y/x\n",
    "    if i%1 == 0.5:\n",
    "        return int(i*x-1)\n",
    "\n",
    "    else:\n",
    "        return int(round(i)*x)\n"
   ]
  },
  {
   "cell_type": "code",
   "execution_count": 13,
   "id": "57dc2210-39d4-4ff0-b9f8-7f720f98bb45",
   "metadata": {},
   "outputs": [
    {
     "name": "stdin",
     "output_type": "stream",
     "text": [
      " 1\n",
      " 10 1 4\n"
     ]
    },
    {
     "name": "stdout",
     "output_type": "stream",
     "text": [
      "9\n"
     ]
    }
   ],
   "source": [
    "n=int(input())\n",
    "L=[]\n",
    "for i in range(n):\n",
    "    numeros=input()\n",
    "    K=numeros.split()\n",
    "    a=int(K[0])\n",
    "    b=int(K[1])\n",
    "    x=int(K[2])\n",
    "    L.append(close_number(a,b,x))\n",
    "for j in L:\n",
    "    print(j)"
   ]
  },
  {
   "cell_type": "code",
   "execution_count": 23,
   "id": "ac0fcefe-5da4-467c-b580-12c5f1ab2435",
   "metadata": {},
   "outputs": [
    {
     "name": "stdin",
     "output_type": "stream",
     "text": [
      " 1\n",
      " 23 -1 7\n"
     ]
    },
    {
     "name": "stdout",
     "output_type": "stream",
     "text": [
      "0\n"
     ]
    }
   ],
   "source": [
    "def closest_number(a,b,x):\n",
    "    s=abs(a**b)\n",
    "    t=s//x\n",
    "    p=round(t*x)\n",
    "    return p\n",
    "n=int(input())\n",
    "L=[]\n",
    "for i in range(n):\n",
    "    numeros=input()\n",
    "    K=numeros.split()\n",
    "    a=int(K[0])\n",
    "    b=int(K[1])\n",
    "    x=int(K[2])\n",
    "    L.append(closest_number(a,b,x))\n",
    "for j in L:\n",
    "    print(j)"
   ]
  },
  {
   "cell_type": "code",
   "execution_count": null,
   "id": "9639c5e2-94de-40ca-a9fa-586e485549f4",
   "metadata": {},
   "outputs": [],
   "source": []
  },
  {
   "cell_type": "code",
   "execution_count": 32,
   "id": "d8755046-f73b-4ac8-a2bf-2d9916aced02",
   "metadata": {},
   "outputs": [
    {
     "data": {
      "text/plain": [
       "348"
      ]
     },
     "execution_count": 32,
     "metadata": {},
     "output_type": "execute_result"
    }
   ],
   "source": [
    "closest_number(349,1,4)"
   ]
  },
  {
   "cell_type": "code",
   "execution_count": 5,
   "id": "3b89f4dd-7ded-4587-be06-58de186fecb9",
   "metadata": {},
   "outputs": [
    {
     "name": "stdin",
     "output_type": "stream",
     "text": [
      " 3\n",
      " 349 1 4\n",
      " 392 1 7\n",
      " 4 -2 2\n"
     ]
    },
    {
     "name": "stdout",
     "output_type": "stream",
     "text": [
      "348\n",
      "392\n",
      "0\n"
     ]
    }
   ],
   "source": [
    "n=int(input())\n",
    "L=[]\n",
    "for i in range(n):\n",
    "    numeros=input()\n",
    "    K=numeros.split()\n",
    "    a=int(K[0])\n",
    "    b=int(K[1])\n",
    "    x=int(K[2])\n",
    "    L.append(closest_number(a,b,x))\n",
    "for j in L:\n",
    "    print(j)"
   ]
  },
  {
   "cell_type": "code",
   "execution_count": 34,
   "id": "d232ad66-b7e4-417c-b99a-f20143e18efa",
   "metadata": {},
   "outputs": [
    {
     "data": {
      "text/plain": [
       "['Hola', 'mundo']"
      ]
     },
     "execution_count": 34,
     "metadata": {},
     "output_type": "execute_result"
    }
   ],
   "source": [
    "frase='Hola mundo'\n",
    "L=frase.split()\n",
    "L"
   ]
  },
  {
   "cell_type": "code",
   "execution_count": 4,
   "id": "f73e8b8d-cdf2-4350-91db-668e9205b731",
   "metadata": {},
   "outputs": [
    {
     "data": {
      "text/plain": [
       "(2, 3, 4)"
      ]
     },
     "execution_count": 4,
     "metadata": {},
     "output_type": "execute_result"
    }
   ],
   "source": [
    "tuple([2,3,4])"
   ]
  },
  {
   "cell_type": "code",
   "execution_count": 17,
   "id": "35d72f07-d17a-4313-94d1-4fe266cc44e3",
   "metadata": {},
   "outputs": [
    {
     "data": {
      "text/plain": [
       "15"
      ]
     },
     "execution_count": 17,
     "metadata": {},
     "output_type": "execute_result"
    }
   ],
   "source": [
    "closest_number(2,4,3)"
   ]
  },
  {
   "cell_type": "code",
   "execution_count": 39,
   "id": "657c6eb9-1dc5-4273-97d6-8036aa468b18",
   "metadata": {},
   "outputs": [
    {
     "data": {
      "image/png": "[encoded data removed]",
      "text/plain": [
       "<Figure size 432x288 with 1 Axes>"
      ]
     },
     "metadata": {},
     "output_type": "display_data"
    }
   ],
   "source": [
    "import matplotlib.pyplot as plt\n",
    "\n",
    "manzanas = [20,10,25,30]\n",
    "nombres = [\"Ana\",\"Juan\",\"Diana\",\"Catalina\"]\n",
    "plt.pie(manzanas, labels=nombres, autopct=\"%0.1f %%\")\n",
    "plt.axis(\"equal\")\n",
    "plt.show()"
   ]
  },
  {
   "cell_type": "code",
   "execution_count": null,
   "id": "576268ca-0057-4274-b3c3-908b6c43e027",
   "metadata": {},
   "outputs": [],
   "source": []
  },
  {
   "cell_type": "code",
   "execution_count": 49,
   "id": "b14ac35c-9b94-44f3-8122-e4e8e14b76db",
   "metadata": {},
   "outputs": [],
   "source": [
    "def fibo(n):\n",
    "  a=0\n",
    "  b=1\n",
    "  L=[a,b]\n",
    "  c=L[len(L)-1]+L[len(L)-2]\n",
    "  while c<n+1:\n",
    "    L.append(c)\n",
    "    c=L[len(L)-1]+L[len(L)-2]\n",
    "  return (L)"
   ]
  },
  {
   "cell_type": "code",
   "execution_count": 58,
   "id": "755088d7-7ea4-467e-8c3b-a2a295e76232",
   "metadata": {},
   "outputs": [
    {
     "data": {
      "text/plain": [
       "[0, 1, 1, 2, 3]"
      ]
     },
     "execution_count": 58,
     "metadata": {},
     "output_type": "execute_result"
    }
   ],
   "source": [
    "fibo(3)"
   ]
  },
  {
   "cell_type": "code",
   "execution_count": 111,
   "id": "b2c3fa23-14d5-46a1-beeb-ffcd3a2d23c0",
   "metadata": {},
   "outputs": [
    {
     "name": "stdout",
     "output_type": "stream",
     "text": [
      "11\n",
      "12\n",
      "13\n",
      "14\n"
     ]
    }
   ],
   "source": [
    "X=[1,2,3,4]\n",
    "for i, x in enumerate(X):\n",
    "    x+=10\n",
    "    print(x)"
   ]
  },
  {
   "cell_type": "code",
   "execution_count": 117,
   "id": "a00e84c8-7785-416c-865c-b2a69a28b481",
   "metadata": {},
   "outputs": [
    {
     "name": "stdout",
     "output_type": "stream",
     "text": [
      "1 se escribe 2\n",
      "3 se escribe 4\n"
     ]
    }
   ],
   "source": [
    "A=[1,3]\n",
    "B=[2,4]\n",
    "for x in zip(A,B):\n",
    "    print(f\"{x[0]} se escribe {x[1]}\")"
   ]
  },
  {
   "cell_type": "code",
   "execution_count": 27,
   "id": "fff44a15-7c90-4a72-ad95-98144eb36807",
   "metadata": {},
   "outputs": [
    {
     "name": "stdin",
     "output_type": "stream",
     "text": [
      " 3\n",
      " 349 1 4\n",
      " 395 1 7\n",
      " 4 -2 2\n"
     ]
    },
    {
     "name": "stdout",
     "output_type": "stream",
     "text": [
      "348\n",
      "392\n",
      "0\n"
     ]
    }
   ],
   "source": [
    "def close_number(a,b,x):\n",
    "    y=(a**b)\n",
    "    i=y/x\n",
    "    if i%1 == 0.5:\n",
    "        return int(i*x-1)\n",
    "\n",
    "    else:\n",
    "        return int(round(i)*x)\n",
    "\n",
    "n=int(input())\n",
    "L=[]\n",
    "for i in range (0,n):\n",
    "    entrada=input()\n",
    "    H=entrada.split()\n",
    "    a=int(H[0])\n",
    "    b=int(H[1])\n",
    "    x=int(H[2])\n",
    "    L.append(close_number(a,b,x))\n",
    "\n",
    "\n",
    "for j in range(0,len(L)):\n",
    "    print(L[j])"
   ]
  },
  {
   "cell_type": "code",
   "execution_count": 19,
   "id": "b2e48de3-3dcc-4c10-bda2-da4c006357e4",
   "metadata": {},
   "outputs": [
    {
     "name": "stdin",
     "output_type": "stream",
     "text": [
      " 1\n",
      " 10 1 4\n"
     ]
    },
    {
     "name": "stdout",
     "output_type": "stream",
     "text": [
      "10\n",
      "2.5\n",
      "0.5\n",
      "9.0\n",
      "8\n"
     ]
    }
   ],
   "source": [
    "def close_number(a,b,x):\n",
    "  y=(a**b)\n",
    "  print(y)\n",
    "  i=y/x\n",
    "  print(i)\n",
    "  print(i%1)\n",
    "  if i%1 == 0.5:\n",
    "    print(i*x-1)\n",
    "    return int(i)*x\n",
    "\n",
    "  else:\n",
    "    return int(round(i)*x)\n",
    "\n",
    "\n",
    "n=int(input())\n",
    "L=[]\n",
    "for i in range (0,n):\n",
    "  entrada=input()\n",
    "  H=entrada.split()\n",
    "  a=int(H[0])\n",
    "  b=int(H[1])\n",
    "  x=int(H[2])\n",
    "  L.append(close_number(a,b,x))\n",
    "\n",
    "\n",
    "for j in range(0,len(L)):\n",
    "  print(L[j])"
   ]
  },
  {
   "cell_type": "code",
   "execution_count": 36,
   "id": "9351ad71-c010-4824-b6b0-213cb0f934fa",
   "metadata": {},
   "outputs": [],
   "source": [
    "\n",
    "def suma_bloques(n):\n",
    "    a=1\n",
    "    for i in range(1,n+1):\n",
    "        a=a+i\n",
    "    return a"
   ]
  },
  {
   "cell_type": "code",
   "execution_count": 37,
   "id": "29174cdf-461b-42c6-9e1b-9c1e30f3d473",
   "metadata": {},
   "outputs": [
    {
     "data": {
      "text/plain": [
       "16"
      ]
     },
     "execution_count": 37,
     "metadata": {},
     "output_type": "execute_result"
    }
   ],
   "source": [
    "suma_bloques(5)"
   ]
  },
  {
   "cell_type": "code",
   "execution_count": 42,
   "id": "27f21382-ed25-4d41-bfb3-51d197c611d8",
   "metadata": {},
   "outputs": [
    {
     "name": "stdout",
     "output_type": "stream",
     "text": [
      "0\n",
      "1\n",
      "3\n",
      "6\n",
      "10\n",
      "15\n"
     ]
    }
   ],
   "source": [
    "a=0\n",
    "for i in range(n+1):\n",
    "    a=a+i\n",
    "    print(a)"
   ]
  },
  {
   "cell_type": "code",
   "execution_count": 43,
   "id": "e873e1c7-5011-4663-9889-3bfca7352b2a",
   "metadata": {},
   "outputs": [
    {
     "name": "stdin",
     "output_type": "stream",
     "text": [
      " 4\n"
     ]
    },
    {
     "name": "stdout",
     "output_type": "stream",
     "text": [
      "16\n",
      "    *\n",
      "   ***\n",
      "  *****\n",
      " *******\n"
     ]
    }
   ],
   "source": [
    "ap=int(input())\n",
    "\n",
    "def total_asteriscos(n):\n",
    "    if n == 1:    # Caso base\n",
    "        return 1\n",
    "    else:\n",
    "        return (2*n - 1) + total_asteriscos(n-1)\n",
    "    \n",
    "def asteriscos(n,ap):  \n",
    "    return (ap-n)*' '+'*'*(2*n - 1)\n",
    "    \n",
    "print(total_asteriscos(ap))\n",
    "for i in range(1,ap+1):\n",
    "  print(asteriscos(i, ap+1))"
   ]
  },
  {
   "cell_type": "code",
   "execution_count": 46,
   "id": "3cc9c957-9ce6-4c1b-b475-0e824ec9a8ef",
   "metadata": {},
   "outputs": [
    {
     "data": {
      "text/plain": [
       "'  ***'"
      ]
     },
     "execution_count": 46,
     "metadata": {},
     "output_type": "execute_result"
    }
   ],
   "source": [
    "asteriscos(2,4)"
   ]
  },
  {
   "cell_type": "code",
   "execution_count": 47,
   "id": "86f9ab98-e8b4-445f-8aca-a689f7eb261f",
   "metadata": {},
   "outputs": [
    {
     "data": {
      "text/plain": [
       "'  ***'"
      ]
     },
     "execution_count": 47,
     "metadata": {},
     "output_type": "execute_result"
    }
   ],
   "source": [
    "(4-2)*' '+'*'*(2*2 - 1)"
   ]
  },
  {
   "cell_type": "code",
   "execution_count": 50,
   "id": "ff13d2c5-c52d-48e8-b69d-7b87b18da184",
   "metadata": {},
   "outputs": [
    {
     "data": {
      "text/plain": [
       "'     '"
      ]
     },
     "execution_count": 50,
     "metadata": {},
     "output_type": "execute_result"
    }
   ],
   "source": [
    "(5)*' '"
   ]
  },
  {
   "cell_type": "markdown",
   "id": "d40b5728-6bb6-4a83-b456-e7a5cf3d9695",
   "metadata": {},
   "source": [
    "### Piramide simetrica"
   ]
  },
  {
   "cell_type": "code",
   "execution_count": 9,
   "id": "90bc0d13-05d8-4486-b6f5-67ff2af015de",
   "metadata": {},
   "outputs": [
    {
     "name": "stdin",
     "output_type": "stream",
     "text": [
      " 8\n"
     ]
    },
    {
     "name": "stdout",
     "output_type": "stream",
     "text": [
      "64\n",
      "       *\n",
      "      ***\n",
      "     *****\n",
      "    *******\n",
      "   *********\n",
      "  ***********\n",
      " *************\n",
      "***************\n"
     ]
    }
   ],
   "source": [
    "def asterisks_rows(height,row):  \n",
    "    return (height-row)*' '+'*'*(2*row-1)\n",
    "\n",
    "height=int(input())\n",
    "print(height**2)\n",
    "for i in range(1,height+1):\n",
    "    print(asterisks_rows(height,i))"
   ]
  },
  {
   "cell_type": "markdown",
   "id": "55c85a26-f038-4412-a063-6a262b4413c7",
   "metadata": {},
   "source": [
    "### Dulces de colores"
   ]
  },
  {
   "cell_type": "code",
   "execution_count": 47,
   "id": "c61bc3c9-9bbe-4306-87cb-4fefb1f75c76",
   "metadata": {},
   "outputs": [
    {
     "name": "stdin",
     "output_type": "stream",
     "text": [
      " 3\n",
      " verde\n",
      " amarillo\n",
      " amarillo\n"
     ]
    },
    {
     "name": "stdout",
     "output_type": "stream",
     "text": [
      "2\n",
      "Amarillo 2\n",
      "Verde 1\n"
     ]
    }
   ],
   "source": [
    "n=int(input())\n",
    "L=[]\n",
    "for i in range(n):\n",
    "    L.append(input())\n",
    "S=set(L)\n",
    "K=list(S)\n",
    "K.sort()\n",
    "print(len(K))\n",
    "for i in K:\n",
    "    print(i.capitalize(),L.count(i))\n",
    "    "
   ]
  },
  {
   "cell_type": "code",
   "execution_count": 49,
   "id": "46273b7b-92ce-4112-849f-97d50537c744",
   "metadata": {},
   "outputs": [
    {
     "name": "stdin",
     "output_type": "stream",
     "text": [
      " 7\n",
      " verde\n",
      " azul\n",
      " morado\n",
      " gris\n",
      " amarillo\n",
      " gris\n",
      " negro\n"
     ]
    },
    {
     "name": "stdout",
     "output_type": "stream",
     "text": [
      "6\n",
      "Amarillo 1\n",
      "Azul 1\n",
      "Gris 2\n",
      "Morado 1\n",
      "Negro 1\n",
      "Verde 1\n"
     ]
    }
   ],
   "source": [
    "def contar(lista,color):\n",
    "    k=0\n",
    "    for i in lista:\n",
    "        if i==color:\n",
    "            k+=1\n",
    "    return k\n",
    "n=int(input())\n",
    "L=[]\n",
    "for i in range(n):\n",
    "    L.append(input())\n",
    "S=set(L)\n",
    "K=list(S)\n",
    "K.sort()\n",
    "print(len(K))\n",
    "for i in K:\n",
    "    print(i.capitalize(), contar(L,i))"
   ]
  },
  {
   "cell_type": "markdown",
   "id": "c8a6c8f3-b5e4-409b-b6b7-1fc946f2f3f0",
   "metadata": {},
   "source": [
    "### Casas con numeros consecutivos"
   ]
  },
  {
   "cell_type": "code",
   "execution_count": 64,
   "id": "7f6e74fa-899d-46dd-850e-b519a50c064f",
   "metadata": {},
   "outputs": [
    {
     "name": "stdin",
     "output_type": "stream",
     "text": [
      " 7 100\n"
     ]
    },
    {
     "name": "stdout",
     "output_type": "stream",
     "text": [
      "IMPOSIBLE\n"
     ]
    }
   ],
   "source": [
    "n=input()\n",
    "str_list=n.split()\n",
    "int_list=[int(i) for i in str_list]\n",
    "if int_list[1]%int_list[0]==0:\n",
    "    print(int(int_list[1]/int_list[0]))\n",
    "else:\n",
    "    print('IMPOSIBLE')"
   ]
  },
  {
   "cell_type": "code",
   "execution_count": 57,
   "id": "cb3475f1-8169-435c-93c8-292414dd5be2",
   "metadata": {},
   "outputs": [
    {
     "data": {
      "text/plain": [
       "'5 100'"
      ]
     },
     "execution_count": 57,
     "metadata": {},
     "output_type": "execute_result"
    }
   ],
   "source": [
    "n"
   ]
  },
  {
   "cell_type": "code",
   "execution_count": 61,
   "id": "f7f9c087-a959-4551-8aaa-1a930f99ee39",
   "metadata": {},
   "outputs": [
    {
     "data": {
      "text/plain": [
       "[5, 100]"
      ]
     },
     "execution_count": 61,
     "metadata": {},
     "output_type": "execute_result"
    }
   ],
   "source": [
    "int_list"
   ]
  },
  {
   "cell_type": "markdown",
   "id": "076fda24-d257-4e2f-b468-16e489c2af70",
   "metadata": {},
   "source": [
    "### Buscando estacionamiento"
   ]
  },
  {
   "cell_type": "code",
   "execution_count": 1,
   "id": "d167a752-5be1-4776-a099-87923893b3cd",
   "metadata": {},
   "outputs": [
    {
     "name": "stdin",
     "output_type": "stream",
     "text": [
      " 5\n",
      " 4\n"
     ]
    },
    {
     "name": "stdout",
     "output_type": "stream",
     "text": [
      "['4']\n"
     ]
    },
    {
     "ename": "UnboundLocalError",
     "evalue": "local variable 'a' referenced before assignment",
     "output_type": "error",
     "traceback": [
      "\u001b[1;31m---------------------------------------------------------------------------\u001b[0m",
      "\u001b[1;31mUnboundLocalError\u001b[0m                         Traceback (most recent call last)",
      "\u001b[1;32m<ipython-input-1-7a6b71046a7d>\u001b[0m in \u001b[0;36m<module>\u001b[1;34m\u001b[0m\n\u001b[0;32m     20\u001b[0m \u001b[0mint_list\u001b[0m\u001b[1;33m=\u001b[0m\u001b[1;33m[\u001b[0m\u001b[0mint\u001b[0m\u001b[1;33m(\u001b[0m\u001b[0mi\u001b[0m\u001b[1;33m)\u001b[0m \u001b[1;32mfor\u001b[0m \u001b[0mi\u001b[0m \u001b[1;32min\u001b[0m \u001b[0mstr_list\u001b[0m\u001b[1;33m]\u001b[0m\u001b[1;33m\u001b[0m\u001b[1;33m\u001b[0m\u001b[0m\n\u001b[0;32m     21\u001b[0m \u001b[0mdiferencia\u001b[0m\u001b[1;33m(\u001b[0m\u001b[0mint_list\u001b[0m\u001b[1;33m)\u001b[0m\u001b[1;33m\u001b[0m\u001b[1;33m\u001b[0m\u001b[0m\n\u001b[1;32m---> 22\u001b[1;33m \u001b[0msuma\u001b[0m\u001b[1;33m(\u001b[0m\u001b[0mdiferencia\u001b[0m\u001b[1;33m(\u001b[0m\u001b[0mint_list\u001b[0m\u001b[1;33m)\u001b[0m\u001b[1;33m)\u001b[0m\u001b[1;33m\u001b[0m\u001b[1;33m\u001b[0m\u001b[0m\n\u001b[0m",
      "\u001b[1;32m<ipython-input-1-7a6b71046a7d>\u001b[0m in \u001b[0;36msuma\u001b[1;34m(K)\u001b[0m\n\u001b[0;32m     12\u001b[0m         \u001b[0ma\u001b[0m\u001b[1;33m=\u001b[0m\u001b[0mK\u001b[0m\u001b[1;33m[\u001b[0m\u001b[0mi\u001b[0m\u001b[1;33m-\u001b[0m\u001b[1;36m1\u001b[0m\u001b[1;33m]\u001b[0m\u001b[1;33m+\u001b[0m\u001b[0mK\u001b[0m\u001b[1;33m[\u001b[0m\u001b[0mi\u001b[0m\u001b[1;33m]\u001b[0m\u001b[1;33m\u001b[0m\u001b[1;33m\u001b[0m\u001b[0m\n\u001b[0;32m     13\u001b[0m         \u001b[0mK\u001b[0m\u001b[1;33m[\u001b[0m\u001b[0mi\u001b[0m\u001b[1;33m]\u001b[0m\u001b[1;33m=\u001b[0m\u001b[0ma\u001b[0m\u001b[1;33m\u001b[0m\u001b[1;33m\u001b[0m\u001b[0m\n\u001b[1;32m---> 14\u001b[1;33m     \u001b[1;32mreturn\u001b[0m \u001b[0ma\u001b[0m\u001b[1;33m\u001b[0m\u001b[1;33m\u001b[0m\u001b[0m\n\u001b[0m\u001b[0;32m     15\u001b[0m \u001b[1;33m\u001b[0m\u001b[0m\n\u001b[0;32m     16\u001b[0m \u001b[0mn\u001b[0m\u001b[1;33m=\u001b[0m\u001b[0mint\u001b[0m\u001b[1;33m(\u001b[0m\u001b[0minput\u001b[0m\u001b[1;33m(\u001b[0m\u001b[1;33m)\u001b[0m\u001b[1;33m)\u001b[0m\u001b[1;33m\u001b[0m\u001b[1;33m\u001b[0m\u001b[0m\n",
      "\u001b[1;31mUnboundLocalError\u001b[0m: local variable 'a' referenced before assignment"
     ]
    }
   ],
   "source": [
    "def diferencia(L):\n",
    "    K=[]\n",
    "    for i,x in enumerate(L):\n",
    "        if i+1!=len(L):\n",
    "            result=abs(L[i+1]-L[i])\n",
    "        else:\n",
    "            result=abs(L[0]-L[i])\n",
    "        K.append(result)\n",
    "    return K\n",
    "def suma(K):\n",
    "    for i in range(1,len(K)):\n",
    "        a=K[i-1]+K[i]\n",
    "        K[i]=a\n",
    "    return a\n",
    "\n",
    "n=int(input())\n",
    "k=input()\n",
    "str_list=k.split()\n",
    "print(str_list)\n",
    "int_list=[int(i) for i in str_list]\n",
    "diferencia(int_list)\n",
    "suma(diferencia(int_list))\n"
   ]
  },
  {
   "cell_type": "code",
   "execution_count": 149,
   "id": "9bf3de81-2db2-43e9-9a67-a1e3ae8fb812",
   "metadata": {},
   "outputs": [
    {
     "name": "stdin",
     "output_type": "stream",
     "text": [
      " 3\n",
      " 0 9 7\n"
     ]
    },
    {
     "name": "stdout",
     "output_type": "stream",
     "text": [
      "9\n",
      "0\n",
      "18\n"
     ]
    }
   ],
   "source": [
    "n=int(input())\n",
    "k=input()\n",
    "str_list=k.split()\n",
    "int_list=[int(i) for i in str_list]\n",
    "M=max(int_list)\n",
    "print(M)\n",
    "m=min(int_list)\n",
    "print(m)\n",
    "result=2*(M-m)\n",
    "print(result)\n"
   ]
  },
  {
   "cell_type": "markdown",
   "id": "517d210f-f459-4b82-87e4-5cb0c10a8f9c",
   "metadata": {},
   "source": [
    "### Queen's attack"
   ]
  },
  {
   "cell_type": "code",
   "execution_count": 9,
   "id": "8ded3333-0058-49f1-947f-b051b0bb0e35",
   "metadata": {},
   "outputs": [
    {
     "name": "stdin",
     "output_type": "stream",
     "text": [
      " 5 3\n"
     ]
    }
   ],
   "source": [
    "st=input()\n",
    "L=st.split()\n",
    "n=int(L[0])\n",
    "k=int(L[1])\n"
   ]
  },
  {
   "cell_type": "code",
   "execution_count": 6,
   "id": "497d711a-f8e3-4611-bb03-1094f307f611",
   "metadata": {},
   "outputs": [
    {
     "name": "stdin",
     "output_type": "stream",
     "text": [
      " 5 8\n"
     ]
    }
   ],
   "source": [
    "st1=input()\n",
    "L1=st1.split()\n",
    "r_q=int(L1[0])\n",
    "c_q=int(L1[1])"
   ]
  },
  {
   "cell_type": "code",
   "execution_count": 17,
   "id": "1c2c7b17-44b5-4850-afdd-984bc9fb0c67",
   "metadata": {},
   "outputs": [
    {
     "name": "stdin",
     "output_type": "stream",
     "text": [
      " 1 0\n",
      " 1 1\n"
     ]
    },
    {
     "name": "stdout",
     "output_type": "stream",
     "text": [
      "0\n"
     ]
    }
   ],
   "source": [
    "def queen_move(r_q,c_q,n,k,f,K):\n",
    "    L=set()\n",
    "    for i in range(1,n+1):\n",
    "        for j in range(1,n+1): \n",
    "            if r_q-i==0 or c_q-j==0:\n",
    "                L.add((i,j))\n",
    "            elif abs(r_q-i)==abs(c_q-j):\n",
    "                L.add((i,j))\n",
    "  \n",
    "    B=f(r_q,c_q,n,K)\n",
    "    C=L.difference(B)\n",
    "    resultado=len(C)\n",
    "    return resultado\n",
    "\n",
    "def f(r_q,c_q,n,K):\n",
    "    S=set()\n",
    "    for x in K:\n",
    "        i=0\n",
    "        if x[0]-r_q==0 and x[1]-c_q>0:\n",
    "            while x[1]+i in range (1,n+1):\n",
    "                S.add((x[0],x[1]+i))\n",
    "                i+=1\n",
    "        elif x[0]-r_q>0 and x[1]-c_q==0:\n",
    "            while x[0]+i in range (1,n+1):\n",
    "                S.add((x[0]+i,x[1]))\n",
    "                i+=1\n",
    "        elif x[0]-r_q==0 and x[1]-c_q<0:\n",
    "            while x[1]-i in range (1,n+1):\n",
    "                S.add((x[0],x[1]-i))\n",
    "                i+=1\n",
    "        elif x[0]-r_q<0 and x[1]-c_q==0:\n",
    "            while x[0]-i in range (1,n+1):\n",
    "                S.add((x[0]-i,x[1]))\n",
    "                i+=1\n",
    "        elif x[0]-r_q==x[1]-c_q and x[0]-r_q>0:\n",
    "            while x[0]+i in range(1,n+1) and x[1]+i in range(1,n+1):\n",
    "                S.add((x[0]+i,x[1]+i))\n",
    "                i+=1\n",
    "        elif x[0]-r_q==x[1]-c_q and x[0]-r_q<0:\n",
    "            while x[0]-i in range(1,n+1) and x[1]-i in range(1,n+1):\n",
    "                S.add((x[0]-i,x[1]-i))\n",
    "                i+=1\n",
    "        elif x[0]-r_q==c_q-x[1] and x[0]-r_q>0:\n",
    "            while x[0]+i in range(1,n+1) and x[1]-i in range(1,n+1):\n",
    "                S.add((x[0]+i,x[1]-i))\n",
    "                i+=1\n",
    "        elif x[0]-r_q==c_q-x[1] and x[0]-r_q<0:\n",
    "            while x[0]-i in range(1,n+1) and x[1]+i in range(1,n+1):\n",
    "                S.add((x[0]-i,x[1]+i))\n",
    "                i+=1\n",
    "    #print(S)       \n",
    "    return(S)\n",
    "\n",
    "st=input()\n",
    "L=st.split()\n",
    "n=int(L[0])\n",
    "k=int(L[1])\n",
    "\n",
    "st1=input()\n",
    "L1=st1.split()\n",
    "r_q=int(L1[0])\n",
    "c_q=int(L1[1])\n",
    "\n",
    "K=set()\n",
    "for i in range(k):\n",
    "    s=input()\n",
    "    l=s.split()\n",
    "    r=int(l[0])\n",
    "    c=int(l[1])\n",
    "    K.add((r,c))\n",
    "\n",
    "\n",
    "print(queen_move(r_q,c_q,n,k,f,K)-1)"
   ]
  },
  {
   "cell_type": "code",
   "execution_count": 14,
   "id": "bca877e3-05bd-4314-8bd0-6c66163ddbe5",
   "metadata": {},
   "outputs": [
    {
     "data": {
      "text/plain": [
       "{(4, 1),\n",
       " (4, 2),\n",
       " (4, 3),\n",
       " (4, 6),\n",
       " (4, 7),\n",
       " (4, 8),\n",
       " (6, 4),\n",
       " (6, 6),\n",
       " (7, 4),\n",
       " (7, 7),\n",
       " (8, 4),\n",
       " (8, 8)}"
      ]
     },
     "execution_count": 14,
     "metadata": {},
     "output_type": "execute_result"
    }
   ],
   "source": [
    "f(4,4,8,K={(4,6),(4,3),(6,4),(6,6)})"
   ]
  },
  {
   "cell_type": "code",
   "execution_count": 3,
   "id": "3ded109b-bc17-42bc-9dc5-a6ca4ad719df",
   "metadata": {},
   "outputs": [
    {
     "name": "stdout",
     "output_type": "stream",
     "text": [
      "[(1, 1), (1, 2), (1, 3), (2, 1), (2, 2), (2, 3), (2, 4), (2, 5), (2, 6), (2, 7), (2, 8), (3, 1), (3, 2), (3, 3), (4, 2), (4, 4), (5, 2), (5, 5), (6, 2), (6, 6), (7, 2), (7, 7), (8, 2), (8, 8)]\n"
     ]
    }
   ],
   "source": [
    "L=[]\n",
    "r_q,c_q=2,2\n",
    "for i in range(1,9):\n",
    "    for j in range(1,9): \n",
    "        if r_q-i==0 or c_q-j==0:\n",
    "            L.append((i,j))\n",
    "        elif abs(r_q-i)==abs(c_q-j):\n",
    "            L.append((i,j))\n",
    "print(L)   \n"
   ]
  },
  {
   "cell_type": "code",
   "execution_count": 19,
   "id": "c2cd6950-e772-47fb-8a5b-93e90ba54af1",
   "metadata": {},
   "outputs": [
    {
     "name": "stdin",
     "output_type": "stream",
     "text": [
      " 7\n",
      " 8\n"
     ]
    },
    {
     "data": {
      "text/plain": [
       "(7, 8)"
      ]
     },
     "execution_count": 19,
     "metadata": {},
     "output_type": "execute_result"
    }
   ],
   "source": [
    "(int(input()),int(input()))"
   ]
  },
  {
   "cell_type": "code",
   "execution_count": 47,
   "id": "57ab7b8e-74a8-4ecb-91f1-738ac59d4469",
   "metadata": {},
   "outputs": [
    {
     "name": "stdout",
     "output_type": "stream",
     "text": [
      "[(4, 2), (4, 1), (4, 5), (4, 6), (4, 7), (4, 8)]\n",
      "6\n"
     ]
    }
   ],
   "source": [
    "L=[]\n",
    "r_q,c_q=4,4\n",
    "a=0\n",
    "x=(4,3)\n",
    "for i in range(1,9):\n",
    "    for j in range(1,9): \n",
    "        if r_q==i or c_q==j:\n",
    "            if j-c_q>0:\n",
    "                if x!=(i,j):\n",
    "                    L.append((i,j))\n",
    "                    a+=1\n",
    "                else:\n",
    "                    break\n",
    "            else:\n",
    "                if j!=c_q:\n",
    "                    if x!=(i,c_q-j):\n",
    "                        L.append((i,c_q-j))\n",
    "                        a+=1\n",
    "                    else:\n",
    "                        continue\n",
    "            #if i-r_q>0:\n",
    "              #  L.append((i,j))\n",
    "               # a+=1\n",
    "            #else:\n",
    "             #   if i!=r_q:\n",
    "              #      L.append((r_q-i,j))\n",
    "               #     a+=1\n",
    "       # if abs(r_q-i)==abs(c_q-j):\n",
    "        #    if i-r_q>0:\n",
    "         #       L.append((i,j))\n",
    "print(L) \n",
    "print(a)\n"
   ]
  },
  {
   "cell_type": "code",
   "execution_count": 4,
   "id": "12314d98-1d86-40ac-9e2a-b45158758d67",
   "metadata": {},
   "outputs": [
    {
     "name": "stdin",
     "output_type": "stream",
     "text": [
      " 8 1\n",
      " 4 4\n",
      " 4 6\n"
     ]
    },
    {
     "name": "stdout",
     "output_type": "stream",
     "text": [
      "{(8, 8), (2, 4), (3, 4), (4, 3), (5, 4), (6, 6), (6, 4), (2, 2), (4, 1), (3, 5), (4, 4), (7, 4), (6, 2), (5, 5), (7, 1), (7, 7), (8, 4), (1, 1), (4, 2), (1, 4), (4, 5), (3, 3), (1, 7), (2, 6), (5, 3)}\n",
      "24\n"
     ]
    }
   ],
   "source": [
    "def queen_move(r_q,c_q,n,k,f,K):\n",
    "    L=set()\n",
    "    for i in range(1,n+1):\n",
    "        for j in range(1,n+1): \n",
    "            if r_q-i==0 or c_q-j==0:\n",
    "                L.add((i,j))\n",
    "            elif abs(r_q-i)==abs(c_q-j):\n",
    "                L.add((i,j))\n",
    "  \n",
    "    B=f(r_q,c_q,n,K)\n",
    "    C=L.difference(B)\n",
    "    resultado=len(C)\n",
    "    return resultado\n",
    "def f(r_q,c_q,n,K):\n",
    "    S=set()\n",
    "    for x in K:\n",
    "        for i in range(n):\n",
    "            if x[0]-r_q==0 and x[1]-c_q>0:\n",
    "                if x[1]+i in range (1,n+1):\n",
    "                    S.add((x[0],x[1]+i))\n",
    "            elif x[0]-r_q>0 and x[1]-c_q==0:\n",
    "                if x[0]+i in range (1,n+1):\n",
    "                    S.add((x[0]+i,x[1]))\n",
    "            elif x[0]-r_q==0 and x[1]-c_q<0:\n",
    "                if x[1]-i in range (1,n+1):\n",
    "                    S.add((x[0],x[1]-i))\n",
    "            elif x[0]-r_q<0 and x[1]-c_q==0:\n",
    "                if x[0]-i in range (1,n+1):\n",
    "                    S.add((x[0]-i,x[1]))\n",
    "            elif x[0]-r_q==x[1]-c_q and x[0]-r_q>0:\n",
    "                if x[0]+i in range(1,n+1) and x[1]+i in range(1,n+1):\n",
    "                    S.add((x[0]+i,x[1]+i))\n",
    "            elif x[0]-r_q==x[1]-c_q and x[0]-r_q<0:\n",
    "                if x[0]-i in range(1,n+1) and x[1]-i in range(1,n+1):\n",
    "                    S.add((x[0]-i,x[1]-i))\n",
    "            elif x[0]-r_q==c_q-x[1] and x[0]-r_q>0:\n",
    "                if x[0]+i in range(1,n+1) and x[1]-i in range(1,n+1):\n",
    "                    S.add((x[0]+i,x[1]-i))\n",
    "            elif x[0]-r_q==c_q-x[1] and x[0]-r_q<0:\n",
    "                if x[0]-i in range(1,n+1) and x[1]+i in range(1,n+1):\n",
    "                    S.add((x[0]-i,x[1]+i))          \n",
    "    return(S)   \n",
    "\n",
    "st=input()\n",
    "L=st.split()\n",
    "n=int(L[0])\n",
    "k=int(L[1])\n",
    "\n",
    "st1=input()\n",
    "L1=st1.split()\n",
    "r_q=int(L1[0])\n",
    "c_q=int(L1[1])\n",
    "\n",
    "K=set()\n",
    "for i in range(k):\n",
    "    s=input()\n",
    "    l=s.split()\n",
    "    r=int(l[0])\n",
    "    c=int(l[1])\n",
    "    K.add((r,c))\n",
    "\n",
    "\n",
    "print(queen_move(r_q,c_q,n,k,f,K)-1)"
   ]
  },
  {
   "cell_type": "code",
   "execution_count": 17,
   "id": "8bb24800-9631-4d94-a177-0256460bb8c7",
   "metadata": {},
   "outputs": [
    {
     "name": "stdout",
     "output_type": "stream",
     "text": [
      "23\n"
     ]
    }
   ],
   "source": [
    "def suma(queen_move):\n",
    "    L=queen_move\n",
    "    a=0\n",
    "    for i in L:\n",
    "        a+=1\n",
    "    return a-1\n",
    "print(suma(queen_move(r_q,c_q,n)))\n",
    "    "
   ]
  },
  {
   "cell_type": "code",
   "execution_count": 14,
   "id": "b9970998-575d-4be4-8c74-f58c4146946b",
   "metadata": {},
   "outputs": [],
   "source": [
    "def borra(r_q,c_q,queen_move):\n",
    "    K={(2,4)}\n",
    "    S=set()\n",
    "    L=queen_move\n",
    "    for i in range(1,8):\n",
    "        if K{0}{0}-r_q==0 and K{0}{1}-c_q>0:\n",
    "             if K{0}{1}+i in range (1,9):\n",
    "                S.append((K{0}{0},K{0}{1}+i))\n",
    "    print(S)\n",
    "    for i in S:\n",
    "        if i in L:\n",
    "            L.remove(i)\n",
    "    print(S)\n",
    "        "
   ]
  },
  {
   "cell_type": "code",
   "execution_count": 2,
   "id": "3e030755-f5c2-4aaf-9c30-071b7eab2a89",
   "metadata": {},
   "outputs": [
    {
     "ename": "SyntaxError",
     "evalue": "invalid syntax (<ipython-input-2-ad624a9efadf>, line 2)",
     "output_type": "error",
     "traceback": [
      "\u001b[1;36m  File \u001b[1;32m\"<ipython-input-2-ad624a9efadf>\"\u001b[1;36m, line \u001b[1;32m2\u001b[0m\n\u001b[1;33m    print(K{0}[0])\u001b[0m\n\u001b[1;37m           ^\u001b[0m\n\u001b[1;31mSyntaxError\u001b[0m\u001b[1;31m:\u001b[0m invalid syntax\n"
     ]
    }
   ],
   "source": [
    "K={(2,4)}\n",
    "print(K{0}[0])"
   ]
  },
  {
   "cell_type": "code",
   "execution_count": 15,
   "id": "bcae935c-56b2-4da3-a64a-e8676cfb8286",
   "metadata": {},
   "outputs": [
    {
     "name": "stdout",
     "output_type": "stream",
     "text": [
      "[(2, 5), (2, 6), (2, 7), (2, 8)]\n"
     ]
    },
    {
     "ename": "TypeError",
     "evalue": "argument of type 'function' is not iterable",
     "output_type": "error",
     "traceback": [
      "\u001b[1;31m---------------------------------------------------------------------------\u001b[0m",
      "\u001b[1;31mTypeError\u001b[0m                                 Traceback (most recent call last)",
      "\u001b[1;32m<ipython-input-15-8b3fb5eb9cdb>\u001b[0m in \u001b[0;36m<module>\u001b[1;34m\u001b[0m\n\u001b[1;32m----> 1\u001b[1;33m \u001b[0mborra\u001b[0m\u001b[1;33m(\u001b[0m\u001b[0mr_q\u001b[0m\u001b[1;33m,\u001b[0m\u001b[0mc_q\u001b[0m\u001b[1;33m,\u001b[0m\u001b[0mqueen_move\u001b[0m\u001b[1;33m)\u001b[0m\u001b[1;33m\u001b[0m\u001b[1;33m\u001b[0m\u001b[0m\n\u001b[0m",
      "\u001b[1;32m<ipython-input-14-4ff4eaae4900>\u001b[0m in \u001b[0;36mborra\u001b[1;34m(r_q, c_q, queen_move)\u001b[0m\n\u001b[0;32m      9\u001b[0m     \u001b[0mprint\u001b[0m\u001b[1;33m(\u001b[0m\u001b[0mS\u001b[0m\u001b[1;33m)\u001b[0m\u001b[1;33m\u001b[0m\u001b[1;33m\u001b[0m\u001b[0m\n\u001b[0;32m     10\u001b[0m     \u001b[1;32mfor\u001b[0m \u001b[0mi\u001b[0m \u001b[1;32min\u001b[0m \u001b[0mS\u001b[0m\u001b[1;33m:\u001b[0m\u001b[1;33m\u001b[0m\u001b[1;33m\u001b[0m\u001b[0m\n\u001b[1;32m---> 11\u001b[1;33m         \u001b[1;32mif\u001b[0m \u001b[0mi\u001b[0m \u001b[1;32min\u001b[0m \u001b[0mL\u001b[0m\u001b[1;33m:\u001b[0m\u001b[1;33m\u001b[0m\u001b[1;33m\u001b[0m\u001b[0m\n\u001b[0m\u001b[0;32m     12\u001b[0m             \u001b[0mL\u001b[0m\u001b[1;33m.\u001b[0m\u001b[0mremove\u001b[0m\u001b[1;33m(\u001b[0m\u001b[0mi\u001b[0m\u001b[1;33m)\u001b[0m\u001b[1;33m\u001b[0m\u001b[1;33m\u001b[0m\u001b[0m\n\u001b[0;32m     13\u001b[0m     \u001b[0mprint\u001b[0m\u001b[1;33m(\u001b[0m\u001b[0mS\u001b[0m\u001b[1;33m)\u001b[0m\u001b[1;33m\u001b[0m\u001b[1;33m\u001b[0m\u001b[0m\n",
      "\u001b[1;31mTypeError\u001b[0m: argument of type 'function' is not iterable"
     ]
    }
   ],
   "source": [
    "borra(r_q,c_q,queen_move)"
   ]
  },
  {
   "cell_type": "code",
   "execution_count": 41,
   "id": "f05b1403-4d64-47aa-b493-3bb007c011ef",
   "metadata": {},
   "outputs": [
    {
     "name": "stdout",
     "output_type": "stream",
     "text": [
      "{(4, 4), (5, 5), (0, 0), (1, 1), (3, 3), (2, 2)}\n"
     ]
    }
   ],
   "source": [
    "s=set(range(6))\n",
    "L=list(enumerate(s))\n",
    "K=set(L)\n",
    "print(K)"
   ]
  },
  {
   "cell_type": "code",
   "execution_count": 44,
   "id": "98b9a7f6-f126-4d41-a206-0a3f440cf2da",
   "metadata": {},
   "outputs": [
    {
     "data": {
      "text/plain": [
       "6"
      ]
     },
     "execution_count": 44,
     "metadata": {},
     "output_type": "execute_result"
    }
   ],
   "source": [
    "len(K)"
   ]
  }
 ],
 "metadata": {
  "kernelspec": {
   "display_name": "Python 3",
   "language": "python",
   "name": "python3"
  },
  "language_info": {
   "codemirror_mode": {
    "name": "ipython",
    "version": 3
   },
   "file_extension": ".py",
   "mimetype": "text/x-python",
   "name": "python",
   "nbconvert_exporter": "python",
   "pygments_lexer": "ipython3",
   "version": "3.8.8"
  }
 },
 "nbformat": 4,
 "nbformat_minor": 5
}
