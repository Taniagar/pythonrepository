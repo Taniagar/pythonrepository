{
 "cells": [
  {
   "cell_type": "code",
   "execution_count": 14,
   "id": "95ed6edd-5b73-48ec-a205-fc70ca735557",
   "metadata": {},
   "outputs": [
    {
     "name": "stdout",
     "output_type": "stream",
     "text": [
      "216\n"
     ]
    }
   ],
   "source": [
    "L=[1,2,9,3,4]\n",
    "a=L[0]\n",
    "for i in range(len(L)-1):\n",
    "    a=a*L[i+1]\n",
    "print(a)\n"
   ]
  },
  {
   "cell_type": "code",
   "execution_count": 15,
   "id": "7a5b27e6-771e-4cc8-a05d-7c80d702165d",
   "metadata": {},
   "outputs": [
    {
     "name": "stdout",
     "output_type": "stream",
     "text": [
      "24\n"
     ]
    }
   ],
   "source": [
    "L=[2,4,1,3]\n",
    "a=1\n",
    "for i in L:\n",
    "    a=a*i\n",
    "print(a)"
   ]
  },
  {
   "cell_type": "code",
   "execution_count": null,
   "id": "8633a9ed-7773-4603-b937-01a83768a5df",
   "metadata": {},
   "outputs": [],
   "source": []
  }
 ],
 "metadata": {
  "kernelspec": {
   "display_name": "Python 3",
   "language": "python",
   "name": "python3"
  },
  "language_info": {
   "codemirror_mode": {
    "name": "ipython",
    "version": 3
   },
   "file_extension": ".py",
   "mimetype": "text/x-python",
   "name": "python",
   "nbconvert_exporter": "python",
   "pygments_lexer": "ipython3",
   "version": "3.8.8"
  }
 },
 "nbformat": 4,
 "nbformat_minor": 5
}
