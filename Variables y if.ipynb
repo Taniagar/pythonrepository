{
 "cells": [
  {
   "cell_type": "code",
   "execution_count": 2,
   "id": "8c29ea68-3597-4ec8-bc0d-b77437bcaa31",
   "metadata": {},
   "outputs": [
    {
     "data": {
      "text/plain": [
       "10"
      ]
     },
     "execution_count": 2,
     "metadata": {},
     "output_type": "execute_result"
    }
   ],
   "source": [
    "4+6"
   ]
  },
  {
   "cell_type": "code",
   "execution_count": 3,
   "id": "73c940fe-8093-48fd-83f5-df64ab487c26",
   "metadata": {},
   "outputs": [
    {
     "name": "stdout",
     "output_type": "stream",
     "text": [
      "Hola mundo!\n"
     ]
    }
   ],
   "source": [
    "print(\"Hola mundo!\")"
   ]
  },
  {
   "cell_type": "code",
   "execution_count": 4,
   "id": "d70d1e5b-f494-4402-b48a-3c25124aa530",
   "metadata": {},
   "outputs": [
    {
     "data": {
      "text/plain": [
       "'Hola mundo'"
      ]
     },
     "execution_count": 4,
     "metadata": {},
     "output_type": "execute_result"
    }
   ],
   "source": [
    "'Hola mundo'"
   ]
  },
  {
   "cell_type": "code",
   "execution_count": 5,
   "id": "346356e1-3693-4866-88ad-5f3297fa84a6",
   "metadata": {},
   "outputs": [
    {
     "data": {
      "text/plain": [
       "1"
      ]
     },
     "execution_count": 5,
     "metadata": {},
     "output_type": "execute_result"
    }
   ],
   "source": [
    "4//3"
   ]
  },
  {
   "cell_type": "code",
   "execution_count": 6,
   "id": "f521b6e2-eab7-4012-9624-fe59ba4f10b1",
   "metadata": {},
   "outputs": [
    {
     "data": {
      "text/plain": [
       "2"
      ]
     },
     "execution_count": 6,
     "metadata": {},
     "output_type": "execute_result"
    }
   ],
   "source": [
    "5%3 "
   ]
  },
  {
   "cell_type": "code",
   "execution_count": 7,
   "id": "b27cd78a-7a07-4ed7-90d1-b71016fc6273",
   "metadata": {},
   "outputs": [
    {
     "data": {
      "text/plain": [
       "True"
      ]
     },
     "execution_count": 7,
     "metadata": {},
     "output_type": "execute_result"
    }
   ],
   "source": [
    "True"
   ]
  },
  {
   "cell_type": "code",
   "execution_count": 8,
   "id": "2ff45774-2af4-485f-9694-16b2ef7262f9",
   "metadata": {},
   "outputs": [
    {
     "data": {
      "text/plain": [
       "9"
      ]
     },
     "execution_count": 8,
     "metadata": {},
     "output_type": "execute_result"
    }
   ],
   "source": [
    "max(3,9)"
   ]
  },
  {
   "cell_type": "code",
   "execution_count": 9,
   "id": "d0c74e54-5236-4040-8874-2400de3e976e",
   "metadata": {},
   "outputs": [
    {
     "data": {
      "text/plain": [
       "5"
      ]
     },
     "execution_count": 9,
     "metadata": {},
     "output_type": "execute_result"
    }
   ],
   "source": [
    "len('tania')"
   ]
  },
  {
   "cell_type": "code",
   "execution_count": 10,
   "id": "686da761-1bd3-4684-a998-fbcc1f35ceae",
   "metadata": {},
   "outputs": [],
   "source": [
    "a=1"
   ]
  },
  {
   "cell_type": "code",
   "execution_count": 11,
   "id": "10432923-fcdc-45d1-82b4-c912eefbb201",
   "metadata": {},
   "outputs": [
    {
     "data": {
      "text/plain": [
       "1"
      ]
     },
     "execution_count": 11,
     "metadata": {},
     "output_type": "execute_result"
    }
   ],
   "source": [
    "a"
   ]
  },
  {
   "cell_type": "code",
   "execution_count": 12,
   "id": "29e46a49-71a4-4551-8d29-5c8c4649014f",
   "metadata": {},
   "outputs": [
    {
     "data": {
      "text/plain": [
       "2"
      ]
     },
     "execution_count": 12,
     "metadata": {},
     "output_type": "execute_result"
    }
   ],
   "source": [
    "a+1"
   ]
  },
  {
   "cell_type": "code",
   "execution_count": 13,
   "id": "765baac4-5d10-421e-85f9-1d4528c3fb41",
   "metadata": {},
   "outputs": [
    {
     "data": {
      "text/plain": [
       "False"
      ]
     },
     "execution_count": 13,
     "metadata": {},
     "output_type": "execute_result"
    }
   ],
   "source": [
    "a==a+1"
   ]
  },
  {
   "cell_type": "code",
   "execution_count": 14,
   "id": "a7e4a88b-e45d-4a73-975a-ec21d63c23dd",
   "metadata": {},
   "outputs": [
    {
     "data": {
      "text/plain": [
       "True"
      ]
     },
     "execution_count": 14,
     "metadata": {},
     "output_type": "execute_result"
    }
   ],
   "source": [
    "a==1"
   ]
  },
  {
   "cell_type": "code",
   "execution_count": 15,
   "id": "48a8aab6-e4d1-48c4-a3a0-e5e01b1d9eac",
   "metadata": {},
   "outputs": [
    {
     "data": {
      "text/plain": [
       "1"
      ]
     },
     "execution_count": 15,
     "metadata": {},
     "output_type": "execute_result"
    }
   ],
   "source": [
    "a"
   ]
  },
  {
   "cell_type": "code",
   "execution_count": 16,
   "id": "7bee5d4b-5d99-444a-aef1-7760e76aa2be",
   "metadata": {},
   "outputs": [],
   "source": [
    "a=6"
   ]
  },
  {
   "cell_type": "code",
   "execution_count": 17,
   "id": "11fb7df3-22a3-4254-95f7-49a808595b44",
   "metadata": {},
   "outputs": [
    {
     "data": {
      "text/plain": [
       "1.5"
      ]
     },
     "execution_count": 17,
     "metadata": {},
     "output_type": "execute_result"
    }
   ],
   "source": [
    "a/4"
   ]
  },
  {
   "cell_type": "code",
   "execution_count": 18,
   "id": "5e0cf5bb-8dcc-4e3e-88b1-58fdf455a525",
   "metadata": {},
   "outputs": [
    {
     "data": {
      "text/plain": [
       "1"
      ]
     },
     "execution_count": 18,
     "metadata": {},
     "output_type": "execute_result"
    }
   ],
   "source": [
    "a//4"
   ]
  },
  {
   "cell_type": "code",
   "execution_count": 19,
   "id": "616ef882-103a-4b91-af71-320e8773d074",
   "metadata": {},
   "outputs": [
    {
     "data": {
      "text/plain": [
       "216"
      ]
     },
     "execution_count": 19,
     "metadata": {},
     "output_type": "execute_result"
    }
   ],
   "source": [
    "a**3"
   ]
  },
  {
   "cell_type": "code",
   "execution_count": 21,
   "id": "c718c03c-e9b3-4321-8dd5-814bf28d15b7",
   "metadata": {},
   "outputs": [],
   "source": [
    "a=a+5"
   ]
  },
  {
   "cell_type": "code",
   "execution_count": 22,
   "id": "271bb62d-0dd0-427a-ae95-95e0aeca9810",
   "metadata": {},
   "outputs": [
    {
     "data": {
      "text/plain": [
       "11"
      ]
     },
     "execution_count": 22,
     "metadata": {},
     "output_type": "execute_result"
    }
   ],
   "source": [
    "a"
   ]
  },
  {
   "cell_type": "code",
   "execution_count": 24,
   "id": "19a32efe-9525-4ead-9b57-9252badf6f3f",
   "metadata": {},
   "outputs": [],
   "source": [
    "a-=7"
   ]
  },
  {
   "cell_type": "code",
   "execution_count": 25,
   "id": "f54edb40-3740-415f-8d6a-0ca0d96d4646",
   "metadata": {},
   "outputs": [
    {
     "data": {
      "text/plain": [
       "4"
      ]
     },
     "execution_count": 25,
     "metadata": {},
     "output_type": "execute_result"
    }
   ],
   "source": [
    "a"
   ]
  },
  {
   "cell_type": "code",
   "execution_count": 26,
   "id": "2a8f0529-23d1-4357-92d3-7fc9df8ceb29",
   "metadata": {},
   "outputs": [],
   "source": [
    "a+=7"
   ]
  },
  {
   "cell_type": "code",
   "execution_count": 27,
   "id": "a9e2398b-f328-46cf-bb82-4088bc5bc5b9",
   "metadata": {},
   "outputs": [
    {
     "data": {
      "text/plain": [
       "11"
      ]
     },
     "execution_count": 27,
     "metadata": {},
     "output_type": "execute_result"
    }
   ],
   "source": [
    "a"
   ]
  },
  {
   "cell_type": "code",
   "execution_count": 35,
   "id": "77472b6e-dc20-4e62-a85d-a02fc5f4e06a",
   "metadata": {},
   "outputs": [
    {
     "data": {
      "text/plain": [
       "-3"
      ]
     },
     "execution_count": 35,
     "metadata": {},
     "output_type": "execute_result"
    }
   ],
   "source": [
    "a-=12; a"
   ]
  },
  {
   "cell_type": "code",
   "execution_count": 36,
   "id": "c48a68be-9228-4382-bc6d-5a0fa08eec77",
   "metadata": {},
   "outputs": [
    {
     "data": {
      "text/plain": [
       "-3"
      ]
     },
     "execution_count": 36,
     "metadata": {},
     "output_type": "execute_result"
    }
   ],
   "source": [
    "a"
   ]
  },
  {
   "cell_type": "code",
   "execution_count": 37,
   "id": "bdb31298-9b25-461a-978b-7066717fcd56",
   "metadata": {},
   "outputs": [],
   "source": [
    "a+=6"
   ]
  },
  {
   "cell_type": "code",
   "execution_count": 38,
   "id": "33c29eef-8fb6-4a2b-8d75-9293aa2f437f",
   "metadata": {},
   "outputs": [
    {
     "data": {
      "text/plain": [
       "3"
      ]
     },
     "execution_count": 38,
     "metadata": {},
     "output_type": "execute_result"
    }
   ],
   "source": [
    "a"
   ]
  },
  {
   "cell_type": "code",
   "execution_count": 39,
   "id": "90f07e23-eff9-4f35-b6a4-52af641fd0ad",
   "metadata": {},
   "outputs": [
    {
     "data": {
      "text/plain": [
       "3"
      ]
     },
     "execution_count": 39,
     "metadata": {},
     "output_type": "execute_result"
    }
   ],
   "source": [
    "a%5"
   ]
  },
  {
   "cell_type": "code",
   "execution_count": 40,
   "id": "b0ae8b6c-dd5e-4b93-9afe-ae241ecf6111",
   "metadata": {},
   "outputs": [
    {
     "data": {
      "text/plain": [
       "3"
      ]
     },
     "execution_count": 40,
     "metadata": {},
     "output_type": "execute_result"
    }
   ],
   "source": [
    "a"
   ]
  },
  {
   "cell_type": "code",
   "execution_count": 41,
   "id": "9cf8aa37-e17f-469f-ab27-1e6a43cd098f",
   "metadata": {},
   "outputs": [],
   "source": [
    "a%=2"
   ]
  },
  {
   "cell_type": "code",
   "execution_count": 42,
   "id": "df835645-df70-48fb-9d1b-2065b3f31f76",
   "metadata": {},
   "outputs": [
    {
     "data": {
      "text/plain": [
       "1"
      ]
     },
     "execution_count": 42,
     "metadata": {},
     "output_type": "execute_result"
    }
   ],
   "source": [
    "a"
   ]
  },
  {
   "cell_type": "code",
   "execution_count": 43,
   "id": "1f1b75af-2b5d-405e-8bbf-d9285b395b21",
   "metadata": {},
   "outputs": [],
   "source": [
    "a+=8"
   ]
  },
  {
   "cell_type": "code",
   "execution_count": 44,
   "id": "abcf274d-4067-4fe7-94de-44f81dde6dd1",
   "metadata": {},
   "outputs": [
    {
     "data": {
      "text/plain": [
       "9"
      ]
     },
     "execution_count": 44,
     "metadata": {},
     "output_type": "execute_result"
    }
   ],
   "source": [
    "a"
   ]
  },
  {
   "cell_type": "code",
   "execution_count": 45,
   "id": "d07c32a6-4ffb-41e5-99f6-233a159d91fc",
   "metadata": {},
   "outputs": [],
   "source": [
    "a/=4"
   ]
  },
  {
   "cell_type": "code",
   "execution_count": 46,
   "id": "5aa3dfda-0d5e-482e-9ad7-30f7a8f633c8",
   "metadata": {},
   "outputs": [
    {
     "data": {
      "text/plain": [
       "2.25"
      ]
     },
     "execution_count": 46,
     "metadata": {},
     "output_type": "execute_result"
    }
   ],
   "source": [
    "a"
   ]
  },
  {
   "cell_type": "code",
   "execution_count": 47,
   "id": "ebbe08d2-42cd-4b98-9def-2b607fda3a38",
   "metadata": {},
   "outputs": [],
   "source": [
    "a//=1"
   ]
  },
  {
   "cell_type": "code",
   "execution_count": 48,
   "id": "99d01bfb-1eb2-42e1-944e-6b29a0a8afe2",
   "metadata": {},
   "outputs": [
    {
     "data": {
      "text/plain": [
       "2.0"
      ]
     },
     "execution_count": 48,
     "metadata": {},
     "output_type": "execute_result"
    }
   ],
   "source": [
    "a"
   ]
  },
  {
   "cell_type": "code",
   "execution_count": 49,
   "id": "ae8782fd-da7e-4c70-a225-584e2b131469",
   "metadata": {},
   "outputs": [
    {
     "data": {
      "text/plain": [
       "16.0"
      ]
     },
     "execution_count": 49,
     "metadata": {},
     "output_type": "execute_result"
    }
   ],
   "source": [
    "a**=4; a"
   ]
  },
  {
   "cell_type": "code",
   "execution_count": 50,
   "id": "bf01305c-a562-45d6-a94e-0efc66216e9e",
   "metadata": {},
   "outputs": [
    {
     "data": {
      "text/plain": [
       "14"
      ]
     },
     "execution_count": 50,
     "metadata": {},
     "output_type": "execute_result"
    }
   ],
   "source": [
    "variable1=6\n",
    "pedrito=variable1+8\n",
    "pedrito"
   ]
  },
  {
   "cell_type": "code",
   "execution_count": 57,
   "id": "cc51568d-476a-4aad-a7df-f71bfd914420",
   "metadata": {},
   "outputs": [
    {
     "data": {
      "text/plain": [
       "11"
      ]
     },
     "execution_count": 57,
     "metadata": {},
     "output_type": "execute_result"
    }
   ],
   "source": [
    "hola=9\n",
    "tania=hola+2; tania"
   ]
  },
  {
   "cell_type": "code",
   "execution_count": 58,
   "id": "4e711ab2-27f6-4bd2-ae2f-8043d59d18ef",
   "metadata": {},
   "outputs": [
    {
     "data": {
      "text/plain": [
       "18"
      ]
     },
     "execution_count": 58,
     "metadata": {},
     "output_type": "execute_result"
    }
   ],
   "source": [
    "tania+=7; tania"
   ]
  },
  {
   "cell_type": "code",
   "execution_count": 59,
   "id": "fd0d196c-509e-4a97-a0bc-a20dec9f77cd",
   "metadata": {},
   "outputs": [
    {
     "data": {
      "text/plain": [
       "18"
      ]
     },
     "execution_count": 59,
     "metadata": {},
     "output_type": "execute_result"
    }
   ],
   "source": [
    "tania"
   ]
  },
  {
   "cell_type": "code",
   "execution_count": 61,
   "id": "1da88edb-7d86-44ca-af0c-4ee570164b10",
   "metadata": {},
   "outputs": [
    {
     "data": {
      "text/plain": [
       "'Hola mundo'"
      ]
     },
     "execution_count": 61,
     "metadata": {},
     "output_type": "execute_result"
    }
   ],
   "source": [
    "hola='Hola'\n",
    "hola+=' mundo'; hola"
   ]
  },
  {
   "cell_type": "code",
   "execution_count": 62,
   "id": "39689c4c-d7d9-4ef7-9f8c-83a758d4f41c",
   "metadata": {},
   "outputs": [],
   "source": [
    "a=True"
   ]
  },
  {
   "cell_type": "code",
   "execution_count": 63,
   "id": "24b8f7df-6a9b-4429-92ee-6864f6bdd0ab",
   "metadata": {},
   "outputs": [
    {
     "data": {
      "text/plain": [
       "True"
      ]
     },
     "execution_count": 63,
     "metadata": {},
     "output_type": "execute_result"
    }
   ],
   "source": [
    "a"
   ]
  },
  {
   "cell_type": "code",
   "execution_count": 68,
   "id": "f96edc6d-6f80-4400-ad97-b068fc510f9c",
   "metadata": {},
   "outputs": [
    {
     "name": "stdout",
     "output_type": "stream",
     "text": [
      "a es verdadero\n",
      "Ya acabe\n"
     ]
    }
   ],
   "source": [
    "if (1<3 and 3>5):\n",
    "    print('a es verdadero')\n",
    "if a:\n",
    "    print('a es verdadero')\n",
    "else:\n",
    "    print('a es falso')\n",
    "    print('y ademas las lineas identadas se ejecutan todas')\n",
    "print('Ya acabe')"
   ]
  },
  {
   "cell_type": "code",
   "execution_count": 73,
   "id": "c798070b-0db6-48ff-bc59-091eca18b00f",
   "metadata": {},
   "outputs": [
    {
     "name": "stdout",
     "output_type": "stream",
     "text": [
      "5 < a\n",
      "5 < a < 6!!!\n"
     ]
    }
   ],
   "source": [
    "a = 6\n",
    "if 5 < a:\n",
    "    print(\"5 < a\")\n",
    "    if a <= 6:\n",
    "        print(\"5 < a < 6!!!\")"
   ]
  },
  {
   "cell_type": "code",
   "execution_count": 80,
   "id": "6152db3d-f13c-4ef6-aa0f-e20be450eedf",
   "metadata": {},
   "outputs": [
    {
     "name": "stdout",
     "output_type": "stream",
     "text": [
      "1 4 5\n"
     ]
    }
   ],
   "source": [
    "a=5; b=4; c=1\n",
    "if a<b<c:\n",
    "    print(a,b,c)\n",
    "if a<c<b:\n",
    "    print(a,c,b)\n",
    "if b<c<a:\n",
    "    print(b,c,a)\n",
    "if b<a<c:\n",
    "    print(b,a,c)\n",
    "if c<a<b:\n",
    "    print(c,a,b)\n",
    "if c<b<a:\n",
    "    print(c,b,a)"
   ]
  },
  {
   "cell_type": "code",
   "execution_count": 3,
   "id": "083c5e2d-ef0f-4a68-aacb-e38d1249c647",
   "metadata": {},
   "outputs": [
    {
     "name": "stdout",
     "output_type": "stream",
     "text": [
      "1 3 6\n"
     ]
    }
   ],
   "source": [
    "a=6; b=3; c=1\n",
    "if a<b and a<c:\n",
    "    if b<c:\n",
    "        print(a,b,c)\n",
    "    else:\n",
    "        print(a,c,b)\n",
    "elif b<c or a<b:\n",
    "    if c<a:\n",
    "        print(b,c,a)\n",
    "    else:\n",
    "        print(b,a,c)\n",
    "    if a<b:\n",
    "        print(c,a,b)\n",
    "else:\n",
    "    print(c,b,a)"
   ]
  },
  {
   "cell_type": "code",
   "execution_count": 88,
   "id": "41a933a8-0cc6-4bee-8f7c-d8afba235cca",
   "metadata": {},
   "outputs": [
    {
     "data": {
      "text/plain": [
       "1"
      ]
     },
     "execution_count": 88,
     "metadata": {},
     "output_type": "execute_result"
    }
   ],
   "source": [
    "a"
   ]
  },
  {
   "cell_type": "code",
   "execution_count": 4,
   "id": "ee613b37-45ff-4bba-8530-fe954443fc27",
   "metadata": {},
   "outputs": [
    {
     "name": "stdin",
     "output_type": "stream",
     "text": [
      "Dame un número:  7\n"
     ]
    },
    {
     "name": "stdout",
     "output_type": "stream",
     "text": [
      "Otro\n"
     ]
    }
   ],
   "source": [
    "x = int(input(\"Dame un número: \"))\n",
    "if x < 0:\n",
    "    x = 0\n",
    "    print('Negativo... convertido en cero')\n",
    "elif x == 0:\n",
    "    print('Cero')\n",
    "elif x == 1:\n",
    "    print('Uno')\n",
    "else:\n",
    "    print('Otro')"
   ]
  },
  {
   "cell_type": "code",
   "execution_count": 5,
   "id": "b3712fdd-00d3-4b29-b4b8-979e260ed665",
   "metadata": {},
   "outputs": [
    {
     "name": "stdin",
     "output_type": "stream",
     "text": [
      " 8\n"
     ]
    }
   ],
   "source": [
    "a=input()"
   ]
  },
  {
   "cell_type": "code",
   "execution_count": 6,
   "id": "9fae8166-3c11-4af0-98f9-4a4a61f9a55d",
   "metadata": {},
   "outputs": [
    {
     "data": {
      "text/plain": [
       "'8'"
      ]
     },
     "execution_count": 6,
     "metadata": {},
     "output_type": "execute_result"
    }
   ],
   "source": [
    "a"
   ]
  },
  {
   "cell_type": "code",
   "execution_count": 7,
   "id": "f51b3464-f97b-48dd-8765-0cf141190212",
   "metadata": {},
   "outputs": [
    {
     "name": "stdout",
     "output_type": "stream",
     "text": [
      "Cómo te llamas?\n"
     ]
    },
    {
     "name": "stdin",
     "output_type": "stream",
     "text": [
      " pedro\n"
     ]
    },
    {
     "name": "stdout",
     "output_type": "stream",
     "text": [
      "Fuchi!\n"
     ]
    }
   ],
   "source": [
    "print(\"Cómo te llamas?\")\n",
    "nombre=input()\n",
    "if nombre == \"Pepito\":\n",
    "    print(\"Hola Pepito!\")\n",
    "else:\n",
    "    print(\"Fuchi!\")"
   ]
  },
  {
   "cell_type": "code",
   "execution_count": 8,
   "id": "ea5ade37-ee01-4d4a-87cb-97b631c45b86",
   "metadata": {},
   "outputs": [
    {
     "name": "stdin",
     "output_type": "stream",
     "text": [
      " 23\n"
     ]
    }
   ],
   "source": [
    "a=int(input())"
   ]
  },
  {
   "cell_type": "code",
   "execution_count": 9,
   "id": "c6f96309-bb35-4473-ab06-ce446809e533",
   "metadata": {},
   "outputs": [
    {
     "data": {
      "text/plain": [
       "23"
      ]
     },
     "execution_count": 9,
     "metadata": {},
     "output_type": "execute_result"
    }
   ],
   "source": [
    "a"
   ]
  }
 ],
 "metadata": {
  "kernelspec": {
   "display_name": "Python 3",
   "language": "python",
   "name": "python3"
  },
  "language_info": {
   "codemirror_mode": {
    "name": "ipython",
    "version": 3
   },
   "file_extension": ".py",
   "mimetype": "text/x-python",
   "name": "python",
   "nbconvert_exporter": "python",
   "pygments_lexer": "ipython3",
   "version": "3.8.8"
  }
 },
 "nbformat": 4,
 "nbformat_minor": 5
}
