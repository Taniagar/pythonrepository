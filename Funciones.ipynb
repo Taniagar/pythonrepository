{
 "cells": [
  {
   "cell_type": "code",
   "execution_count": 2,
   "id": "8103f18e-0ad8-4884-9007-ec91c0932403",
   "metadata": {},
   "outputs": [],
   "source": [
    "def f(x):\n",
    "    return x**2"
   ]
  },
  {
   "cell_type": "code",
   "execution_count": 3,
   "id": "69968693-dfee-482e-b6b1-292021708192",
   "metadata": {},
   "outputs": [
    {
     "data": {
      "text/plain": [
       "4"
      ]
     },
     "execution_count": 3,
     "metadata": {},
     "output_type": "execute_result"
    }
   ],
   "source": [
    "f(2)"
   ]
  },
  {
   "cell_type": "code",
   "execution_count": 4,
   "id": "df461c94-ebcb-4075-ad3f-8e17c9acb722",
   "metadata": {
    "collapsed": true,
    "jupyter": {
     "outputs_hidden": true
    },
    "tags": []
   },
   "outputs": [
    {
     "data": {
      "text/plain": [
       "4"
      ]
     },
     "execution_count": 4,
     "metadata": {},
     "output_type": "execute_result"
    }
   ],
   "source": [
    "f(-2)"
   ]
  },
  {
   "cell_type": "code",
   "execution_count": 5,
   "id": "0b12705d-ff7c-4509-be8e-da0d6a2a40be",
   "metadata": {},
   "outputs": [],
   "source": [
    "def g(x):\n",
    "    return x*10"
   ]
  },
  {
   "cell_type": "code",
   "execution_count": 8,
   "id": "4ca89508-d5bf-4af2-9bd4-8c4cc307ce9f",
   "metadata": {},
   "outputs": [
    {
     "data": {
      "text/plain": [
       "90"
      ]
     },
     "execution_count": 8,
     "metadata": {},
     "output_type": "execute_result"
    }
   ],
   "source": [
    "g(9)"
   ]
  },
  {
   "cell_type": "code",
   "execution_count": 6,
   "id": "c994679b-8f07-46d2-a8f4-53afd71425a0",
   "metadata": {},
   "outputs": [],
   "source": [
    "def h():\n",
    "    return \"Yo no hago nada interesante.\""
   ]
  },
  {
   "cell_type": "code",
   "execution_count": 11,
   "id": "e9c1efb7-18e4-459f-a145-ae8957083264",
   "metadata": {},
   "outputs": [
    {
     "data": {
      "text/plain": [
       "'Yo no hago nada interesante.'"
      ]
     },
     "execution_count": 11,
     "metadata": {},
     "output_type": "execute_result"
    }
   ],
   "source": [
    "h()"
   ]
  },
  {
   "cell_type": "code",
   "execution_count": 13,
   "id": "dddd12ba-ab36-4e47-a8bd-eba43ac32b00",
   "metadata": {},
   "outputs": [],
   "source": [
    "a=h()"
   ]
  },
  {
   "cell_type": "code",
   "execution_count": 14,
   "id": "905d49dd-c6c4-4040-a88d-e2f1375067b3",
   "metadata": {},
   "outputs": [
    {
     "data": {
      "text/plain": [
       "'Yo no hago nada interesante.'"
      ]
     },
     "execution_count": 14,
     "metadata": {},
     "output_type": "execute_result"
    }
   ],
   "source": [
    "a"
   ]
  },
  {
   "cell_type": "code",
   "execution_count": 15,
   "id": "3552b369-d429-435a-8789-76099d4d709b",
   "metadata": {},
   "outputs": [
    {
     "name": "stdout",
     "output_type": "stream",
     "text": [
      "Yo no hago nada interesante.\n"
     ]
    }
   ],
   "source": [
    "print(a)"
   ]
  },
  {
   "cell_type": "code",
   "execution_count": 8,
   "id": "c7afcaaa-ed9f-4634-ba14-836bdf0fbd6f",
   "metadata": {},
   "outputs": [],
   "source": [
    "def sumar(a,b):\n",
    "    return a+b"
   ]
  },
  {
   "cell_type": "code",
   "execution_count": 9,
   "id": "799d0c89-a190-48e7-8620-dd08e39545d4",
   "metadata": {},
   "outputs": [
    {
     "ename": "TypeError",
     "evalue": "unsupported operand type(s) for +: 'int' and 'str'",
     "output_type": "error",
     "traceback": [
      "\u001b[0;31m---------------------------------------------------------------------------\u001b[0m",
      "\u001b[0;31mTypeError\u001b[0m                                 Traceback (most recent call last)",
      "\u001b[0;32m<ipython-input-9-918e07965daf>\u001b[0m in \u001b[0;36m<module>\u001b[0;34m\u001b[0m\n\u001b[0;32m----> 1\u001b[0;31m \u001b[0msumar\u001b[0m\u001b[0;34m(\u001b[0m\u001b[0;36m5\u001b[0m\u001b[0;34m,\u001b[0m\u001b[0;34m\"daf\"\u001b[0m\u001b[0;34m)\u001b[0m\u001b[0;34m\u001b[0m\u001b[0;34m\u001b[0m\u001b[0m\n\u001b[0m",
      "\u001b[0;32m<ipython-input-8-c2f681615d45>\u001b[0m in \u001b[0;36msumar\u001b[0;34m(a, b)\u001b[0m\n\u001b[1;32m      1\u001b[0m \u001b[0;32mdef\u001b[0m \u001b[0msumar\u001b[0m\u001b[0;34m(\u001b[0m\u001b[0ma\u001b[0m\u001b[0;34m,\u001b[0m\u001b[0mb\u001b[0m\u001b[0;34m)\u001b[0m\u001b[0;34m:\u001b[0m\u001b[0;34m\u001b[0m\u001b[0;34m\u001b[0m\u001b[0m\n\u001b[0;32m----> 2\u001b[0;31m     \u001b[0;32mreturn\u001b[0m \u001b[0ma\u001b[0m\u001b[0;34m+\u001b[0m\u001b[0mb\u001b[0m\u001b[0;34m\u001b[0m\u001b[0;34m\u001b[0m\u001b[0m\n\u001b[0m",
      "\u001b[0;31mTypeError\u001b[0m: unsupported operand type(s) for +: 'int' and 'str'"
     ]
    }
   ],
   "source": [
    "sumar(5,\"daf\")"
   ]
  },
  {
   "cell_type": "code",
   "execution_count": 10,
   "id": "511f3b40-161a-4b44-a7c7-ed534435f9ee",
   "metadata": {},
   "outputs": [],
   "source": [
    "def antonio(x,f):\n",
    "    return f(x+2)"
   ]
  },
  {
   "cell_type": "code",
   "execution_count": 14,
   "id": "b5c2514c-9342-4741-9b71-d66f95949658",
   "metadata": {},
   "outputs": [
    {
     "data": {
      "text/plain": [
       "90"
      ]
     },
     "execution_count": 14,
     "metadata": {},
     "output_type": "execute_result"
    }
   ],
   "source": [
    "antonio(7,g)"
   ]
  },
  {
   "cell_type": "code",
   "execution_count": 15,
   "id": "64db5a64-9eec-4e87-8c16-bee14f18c086",
   "metadata": {},
   "outputs": [],
   "source": [
    "def h(n):\n",
    "    for i in range(n):\n",
    "        if i==5:\n",
    "            return \"Llegue a 5\"\n",
    "    print(f\"Llegué a {n} sin pasar por 5.\")"
   ]
  },
  {
   "cell_type": "code",
   "execution_count": 16,
   "id": "a0589621-36d4-4d38-94d6-fc1ce64a8bbf",
   "metadata": {},
   "outputs": [
    {
     "name": "stdout",
     "output_type": "stream",
     "text": [
      "Llegué a 4 sin pasar por 5.\n"
     ]
    }
   ],
   "source": [
    "h(4)"
   ]
  },
  {
   "cell_type": "code",
   "execution_count": 17,
   "id": "2f8e4ff6-dc7f-4a3b-a53b-c330025fe425",
   "metadata": {},
   "outputs": [
    {
     "data": {
      "text/plain": [
       "<function __main__.g(x)>"
      ]
     },
     "execution_count": 17,
     "metadata": {},
     "output_type": "execute_result"
    }
   ],
   "source": [
    "g"
   ]
  },
  {
   "cell_type": "code",
   "execution_count": 18,
   "id": "1b73d095-7192-4a2c-b2d7-7dd36dd8ba5d",
   "metadata": {},
   "outputs": [
    {
     "data": {
      "text/plain": [
       "False"
      ]
     },
     "execution_count": 18,
     "metadata": {},
     "output_type": "execute_result"
    }
   ],
   "source": [
    "type(g) == type(5)"
   ]
  },
  {
   "cell_type": "code",
   "execution_count": 19,
   "id": "bb3aee65-9400-4937-af5e-51196b69af89",
   "metadata": {},
   "outputs": [
    {
     "data": {
      "text/plain": [
       "str"
      ]
     },
     "execution_count": 19,
     "metadata": {},
     "output_type": "execute_result"
    }
   ],
   "source": [
    "type(\"5\")"
   ]
  },
  {
   "cell_type": "code",
   "execution_count": 20,
   "id": "afc6e737-2017-437a-8537-ae9d81ca98ac",
   "metadata": {},
   "outputs": [
    {
     "ename": "TypeError",
     "evalue": "'str' object cannot be interpreted as an integer",
     "output_type": "error",
     "traceback": [
      "\u001b[0;31m---------------------------------------------------------------------------\u001b[0m",
      "\u001b[0;31mTypeError\u001b[0m                                 Traceback (most recent call last)",
      "\u001b[0;32m<ipython-input-20-49a058583afc>\u001b[0m in \u001b[0;36m<module>\u001b[0;34m\u001b[0m\n\u001b[0;32m----> 1\u001b[0;31m \u001b[0mh\u001b[0m\u001b[0;34m(\u001b[0m\u001b[0;34m\"hola\"\u001b[0m\u001b[0;34m)\u001b[0m\u001b[0;34m\u001b[0m\u001b[0;34m\u001b[0m\u001b[0m\n\u001b[0m",
      "\u001b[0;32m<ipython-input-15-7c3b518b01e2>\u001b[0m in \u001b[0;36mh\u001b[0;34m(n)\u001b[0m\n\u001b[1;32m      1\u001b[0m \u001b[0;32mdef\u001b[0m \u001b[0mh\u001b[0m\u001b[0;34m(\u001b[0m\u001b[0mn\u001b[0m\u001b[0;34m)\u001b[0m\u001b[0;34m:\u001b[0m\u001b[0;34m\u001b[0m\u001b[0;34m\u001b[0m\u001b[0m\n\u001b[0;32m----> 2\u001b[0;31m     \u001b[0;32mfor\u001b[0m \u001b[0mi\u001b[0m \u001b[0;32min\u001b[0m \u001b[0mrange\u001b[0m\u001b[0;34m(\u001b[0m\u001b[0mn\u001b[0m\u001b[0;34m)\u001b[0m\u001b[0;34m:\u001b[0m\u001b[0;34m\u001b[0m\u001b[0;34m\u001b[0m\u001b[0m\n\u001b[0m\u001b[1;32m      3\u001b[0m         \u001b[0;32mif\u001b[0m \u001b[0mi\u001b[0m\u001b[0;34m==\u001b[0m\u001b[0;36m5\u001b[0m\u001b[0;34m:\u001b[0m\u001b[0;34m\u001b[0m\u001b[0;34m\u001b[0m\u001b[0m\n\u001b[1;32m      4\u001b[0m             \u001b[0;32mreturn\u001b[0m \u001b[0;34m\"Llegue a 5\"\u001b[0m\u001b[0;34m\u001b[0m\u001b[0;34m\u001b[0m\u001b[0m\n\u001b[1;32m      5\u001b[0m     \u001b[0mprint\u001b[0m\u001b[0;34m(\u001b[0m\u001b[0;34mf\"Llegué a {n} sin pasar por 5.\"\u001b[0m\u001b[0;34m)\u001b[0m\u001b[0;34m\u001b[0m\u001b[0;34m\u001b[0m\u001b[0m\n",
      "\u001b[0;31mTypeError\u001b[0m: 'str' object cannot be interpreted as an integer"
     ]
    }
   ],
   "source": [
    "h(\"hola\")"
   ]
  },
  {
   "cell_type": "code",
   "execution_count": 21,
   "id": "33a9a7d3-04ec-4a29-8244-af9c72614240",
   "metadata": {},
   "outputs": [
    {
     "name": "stdout",
     "output_type": "stream",
     "text": [
      "Llegue a 5\n"
     ]
    }
   ],
   "source": [
    "print(h(1000000))"
   ]
  },
  {
   "cell_type": "code",
   "execution_count": 22,
   "id": "1937d1a0-86ec-4689-bee7-3c20bc1834fe",
   "metadata": {},
   "outputs": [],
   "source": [
    "def son_todos_distintos(a,b,c):\n",
    "    if a==b or a==c or b==c:\n",
    "        return False\n",
    "    else:\n",
    "        return True"
   ]
  },
  {
   "cell_type": "code",
   "execution_count": 25,
   "id": "68fac191-9bfb-4f1e-ac48-8f5cbd05843d",
   "metadata": {},
   "outputs": [
    {
     "data": {
      "text/plain": [
       "True"
      ]
     },
     "execution_count": 25,
     "metadata": {},
     "output_type": "execute_result"
    }
   ],
   "source": [
    "son_todos_distintos(6,5,4)"
   ]
  },
  {
   "cell_type": "code",
   "execution_count": 24,
   "id": "e41dab7f-0440-4eae-b70e-6b706e9d3552",
   "metadata": {},
   "outputs": [
    {
     "data": {
      "text/plain": [
       "False"
      ]
     },
     "execution_count": 24,
     "metadata": {},
     "output_type": "execute_result"
    }
   ],
   "source": [
    "son_todos_distintos(\"hola\",\"hola\",\"adios\")"
   ]
  },
  {
   "cell_type": "markdown",
   "id": "9d83d299-da9a-4374-81ca-60334e27f3f6",
   "metadata": {},
   "source": [
    "### Una vez que llegas a un \"return\", ya nada más se ejecuta."
   ]
  },
  {
   "cell_type": "code",
   "execution_count": 26,
   "id": "266c63d9-1f3f-4c4a-a6d6-0634c251066c",
   "metadata": {},
   "outputs": [],
   "source": [
    "def son_todos_distintos(a,b,c):\n",
    "    if a==b or a==c or b==c:\n",
    "        return False\n",
    "    print(\"Esto no se ejecuta si hay dos iguales\")\n",
    "    return True"
   ]
  },
  {
   "cell_type": "code",
   "execution_count": 28,
   "id": "fe6c7ed4-db87-4ad8-ba04-cbb8e7f49103",
   "metadata": {},
   "outputs": [
    {
     "data": {
      "text/plain": [
       "False"
      ]
     },
     "execution_count": 28,
     "metadata": {},
     "output_type": "execute_result"
    }
   ],
   "source": [
    "son_todos_distintos(2,2,5)"
   ]
  },
  {
   "cell_type": "code",
   "execution_count": 37,
   "id": "0683ff0a-a83a-45f3-bb69-5aea8e185fef",
   "metadata": {},
   "outputs": [
    {
     "name": "stdout",
     "output_type": "stream",
     "text": [
      "Esto no se ejecuta si hay dos iguales\n"
     ]
    },
    {
     "data": {
      "text/plain": [
       "True"
      ]
     },
     "execution_count": 37,
     "metadata": {},
     "output_type": "execute_result"
    }
   ],
   "source": [
    "son_todos_distintos(2,1,5)"
   ]
  },
  {
   "cell_type": "markdown",
   "id": "0449547d-8e31-4a27-9f94-029804c4b217",
   "metadata": {},
   "source": [
    "#### Las variables adentro de las funciones son locales, no interactúan con las variables exteriores."
   ]
  },
  {
   "cell_type": "code",
   "execution_count": 29,
   "id": "6997eb93-3b88-4fb1-8c76-d14ee19c4313",
   "metadata": {},
   "outputs": [],
   "source": [
    "a=5"
   ]
  },
  {
   "cell_type": "code",
   "execution_count": 31,
   "id": "2b12c1db-2b46-44df-8a2b-4d01de0c2d9d",
   "metadata": {},
   "outputs": [],
   "source": [
    "def cambia_a():\n",
    "    a=0\n",
    "    return a"
   ]
  },
  {
   "cell_type": "code",
   "execution_count": 32,
   "id": "528f5f7a-7a05-4fb4-b8b3-295520315bd3",
   "metadata": {},
   "outputs": [
    {
     "data": {
      "text/plain": [
       "0"
      ]
     },
     "execution_count": 32,
     "metadata": {},
     "output_type": "execute_result"
    }
   ],
   "source": [
    "cambia_a()"
   ]
  },
  {
   "cell_type": "code",
   "execution_count": 33,
   "id": "0fe47052-a445-4936-ac97-2a8f04ce142c",
   "metadata": {},
   "outputs": [
    {
     "data": {
      "text/plain": [
       "5"
      ]
     },
     "execution_count": 33,
     "metadata": {},
     "output_type": "execute_result"
    }
   ],
   "source": [
    "a"
   ]
  },
  {
   "cell_type": "markdown",
   "id": "57ba78a0-b168-4371-97b0-628bf259c283",
   "metadata": {},
   "source": [
    "#### No hagan esto, pero las funciones pueden accesar a variables que se definieron afuera de ellas.\n",
    "#### En realidad el problema no es accesar variables que se definieron fuera, sino de hecho definir variables fuera (globales)."
   ]
  },
  {
   "cell_type": "code",
   "execution_count": 36,
   "id": "646573ae-5e99-497b-b6a4-62c58dc8b23e",
   "metadata": {},
   "outputs": [],
   "source": [
    "def imprime_a():\n",
    "    return a"
   ]
  },
  {
   "cell_type": "code",
   "execution_count": 37,
   "id": "8659e8cd-abec-4538-a4ea-22550a715f27",
   "metadata": {},
   "outputs": [
    {
     "data": {
      "text/plain": [
       "5"
      ]
     },
     "execution_count": 37,
     "metadata": {},
     "output_type": "execute_result"
    }
   ],
   "source": [
    "imprime_a()"
   ]
  },
  {
   "cell_type": "markdown",
   "id": "5b1eaba1-78ad-4d77-b719-ad21f2ada303",
   "metadata": {},
   "source": [
    "#### Cosas definidas dentro de un bloque de código sólo sirven dentro de ese mismo bloque de código"
   ]
  },
  {
   "cell_type": "code",
   "execution_count": 38,
   "id": "d6a90c75-d47f-4ac9-9e5e-a8ccc7cd8332",
   "metadata": {},
   "outputs": [],
   "source": [
    "def define_aaa():\n",
    "    aaa=5"
   ]
  },
  {
   "cell_type": "code",
   "execution_count": 39,
   "id": "758ad9a1-2763-43f1-8573-f852554f90be",
   "metadata": {},
   "outputs": [],
   "source": [
    "define_aaa()"
   ]
  },
  {
   "cell_type": "code",
   "execution_count": 40,
   "id": "1d4b5a55-65d8-4d26-8a47-662d57ac14e2",
   "metadata": {},
   "outputs": [
    {
     "ename": "NameError",
     "evalue": "name 'aaa' is not defined",
     "output_type": "error",
     "traceback": [
      "\u001b[0;31m---------------------------------------------------------------------------\u001b[0m",
      "\u001b[0;31mNameError\u001b[0m                                 Traceback (most recent call last)",
      "\u001b[0;32m<ipython-input-40-972a1a11f199>\u001b[0m in \u001b[0;36m<module>\u001b[0;34m\u001b[0m\n\u001b[0;32m----> 1\u001b[0;31m \u001b[0maaa\u001b[0m\u001b[0;34m\u001b[0m\u001b[0;34m\u001b[0m\u001b[0m\n\u001b[0m",
      "\u001b[0;31mNameError\u001b[0m: name 'aaa' is not defined"
     ]
    }
   ],
   "source": [
    "aaa"
   ]
  },
  {
   "cell_type": "code",
   "execution_count": 41,
   "id": "a984f73b-07d7-4e9a-9d1d-b701fd0ab6ec",
   "metadata": {},
   "outputs": [],
   "source": [
    "def hola():\n",
    "    return 5, 8"
   ]
  },
  {
   "cell_type": "code",
   "execution_count": 42,
   "id": "8ce5f6dc-84cb-40fd-ae6e-480dd9bf139e",
   "metadata": {},
   "outputs": [
    {
     "data": {
      "text/plain": [
       "(5, 8)"
      ]
     },
     "execution_count": 42,
     "metadata": {},
     "output_type": "execute_result"
    }
   ],
   "source": [
    "hola()"
   ]
  },
  {
   "cell_type": "code",
   "execution_count": 8,
   "id": "c3243dcd-06a3-4f07-a89b-175e2a0024d1",
   "metadata": {},
   "outputs": [],
   "source": [
    "a=hola()"
   ]
  },
  {
   "cell_type": "code",
   "execution_count": 9,
   "id": "749233c2-58ed-41b2-8f7a-710c5d40a00a",
   "metadata": {},
   "outputs": [
    {
     "data": {
      "text/plain": [
       "(5, 8)"
      ]
     },
     "execution_count": 9,
     "metadata": {},
     "output_type": "execute_result"
    }
   ],
   "source": [
    "a"
   ]
  },
  {
   "cell_type": "markdown",
   "id": "8900910d-25bc-4181-9050-de66a218329e",
   "metadata": {},
   "source": [
    "#### Argumentos predeterminados"
   ]
  },
  {
   "cell_type": "code",
   "execution_count": 43,
   "id": "e3706015-7188-4b03-8d9b-959184cae78e",
   "metadata": {},
   "outputs": [],
   "source": [
    "def multiplica(a,b=1):\n",
    "    return a*b"
   ]
  },
  {
   "cell_type": "code",
   "execution_count": 44,
   "id": "57ee5d26-0247-41e5-90b0-acfa54bc60cb",
   "metadata": {},
   "outputs": [
    {
     "data": {
      "text/plain": [
       "5"
      ]
     },
     "execution_count": 44,
     "metadata": {},
     "output_type": "execute_result"
    }
   ],
   "source": [
    "multiplica(5)"
   ]
  },
  {
   "cell_type": "code",
   "execution_count": 45,
   "id": "abc08f1e-5303-4cde-bbd2-86a6b426ceb7",
   "metadata": {},
   "outputs": [
    {
     "data": {
      "text/plain": [
       "20"
      ]
     },
     "execution_count": 45,
     "metadata": {},
     "output_type": "execute_result"
    }
   ],
   "source": [
    "multiplica(4,5)"
   ]
  },
  {
   "cell_type": "code",
   "execution_count": 46,
   "id": "4569dd8e-a726-4e9f-9762-7245fa396f22",
   "metadata": {},
   "outputs": [
    {
     "data": {
      "text/plain": [
       "3"
      ]
     },
     "execution_count": 46,
     "metadata": {},
     "output_type": "execute_result"
    }
   ],
   "source": [
    "multiplica(3)"
   ]
  },
  {
   "cell_type": "code",
   "execution_count": 47,
   "id": "80498769-a281-4001-a3c1-c8348b228f62",
   "metadata": {},
   "outputs": [
    {
     "data": {
      "text/plain": [
       "16"
      ]
     },
     "execution_count": 47,
     "metadata": {},
     "output_type": "execute_result"
    }
   ],
   "source": [
    "multiplica(b=2,a=8)"
   ]
  },
  {
   "cell_type": "code",
   "execution_count": 82,
   "id": "e1dc898f-8ee4-4832-9449-6fc14d1c741b",
   "metadata": {},
   "outputs": [],
   "source": [
    "def borra(s):\n",
    "    if len(s)==1:\n",
    "        return s\n",
    "    #print(s[:-1])\n",
    "    return borra(s[:-1])"
   ]
  },
  {
   "cell_type": "code",
   "execution_count": 80,
   "id": "38825eaa-408e-4187-b4c3-c763aae99e9e",
   "metadata": {},
   "outputs": [
    {
     "data": {
      "text/plain": [
       "'tani'"
      ]
     },
     "execution_count": 80,
     "metadata": {},
     "output_type": "execute_result"
    }
   ],
   "source": [
    "s=\"tania\"\n",
    "s[:-1]"
   ]
  },
  {
   "cell_type": "code",
   "execution_count": 83,
   "id": "662ca516-6c8d-4389-9338-1b78987432a3",
   "metadata": {},
   "outputs": [
    {
     "name": "stdout",
     "output_type": "stream",
     "text": [
      "tani\n",
      "tan\n",
      "ta\n",
      "t\n"
     ]
    },
    {
     "data": {
      "text/plain": [
       "'t'"
      ]
     },
     "execution_count": 83,
     "metadata": {},
     "output_type": "execute_result"
    }
   ],
   "source": [
    "borra('tania')"
   ]
  },
  {
   "cell_type": "markdown",
   "id": "14b6b1d3-fc21-45e5-ad24-0099d5e4e136",
   "metadata": {},
   "source": [
    "#### Ejercicios\n",
    "1. Haz una función que cuente cuántas veces ocurre una letra dada en un string.\n",
    "2. Volver a hacer Collatz definiendo funciones adecuadas.\n",
    "3. Volver a hacer Primos definiendo funciones adecuadas. En particular, hacer una función: \"es_primo(n)\" que responda verdadero o falso.\n",
    "4. Haz una función que calcule exponentes (sin usar **).\n",
    "5. Haz la misma función pero que para elevar a la  n  solamente haga como  log2(n)  operaciones.\n",
    "6. Haz un programa que cuente en binario hasta  n ."
   ]
  },
  {
   "cell_type": "markdown",
   "id": "7d1d2f09-3f56-4249-b49e-920b51f0e9f4",
   "metadata": {},
   "source": [
    "Ejercicio 1."
   ]
  },
  {
   "cell_type": "code",
   "execution_count": 105,
   "id": "a508ae76-cf77-4279-b678-6b619f021591",
   "metadata": {},
   "outputs": [],
   "source": [
    "def cuenta_letra(s,a):\n",
    "    t=0\n",
    "    for i in s:\n",
    "        if i==a:\n",
    "            t+=1\n",
    "    return t"
   ]
  },
  {
   "cell_type": "code",
   "execution_count": 106,
   "id": "f3193486-b730-407b-b17f-aac6d1e4e2f4",
   "metadata": {},
   "outputs": [
    {
     "data": {
      "text/plain": [
       "8"
      ]
     },
     "execution_count": 106,
     "metadata": {},
     "output_type": "execute_result"
    }
   ],
   "source": [
    "cuenta_letra(\"fpiaaaaaaaaaaaajaafornraaaaaongroghtdfrfreferoifrfrgnirgf\",'f')"
   ]
  },
  {
   "cell_type": "markdown",
   "id": "4adfdae8-25ec-4fe9-b80b-c4e0efb577b8",
   "metadata": {},
   "source": [
    "Ejercicio 2."
   ]
  },
  {
   "cell_type": "code",
   "execution_count": 36,
   "id": "fe10696b-3189-4c6c-acf2-ef1bb0a0b504",
   "metadata": {
    "tags": []
   },
   "outputs": [],
   "source": [
    "def collatz(n):\n",
    "    L=[n]\n",
    "    while n>1:\n",
    "        if n%2==0:\n",
    "            n//=2\n",
    "            L+=[n]\n",
    "        else:\n",
    "            n=3*n+1\n",
    "            L+=[n]\n",
    "    return L"
   ]
  },
  {
   "cell_type": "code",
   "execution_count": 37,
   "id": "820e73f7-f76d-42d9-9d5e-e11a593a8767",
   "metadata": {
    "tags": []
   },
   "outputs": [
    {
     "data": {
      "text/plain": [
       "[6, 3, 10, 5, 16, 8, 4, 2, 1]"
      ]
     },
     "execution_count": 37,
     "metadata": {},
     "output_type": "execute_result"
    }
   ],
   "source": [
    "collatz(6)"
   ]
  },
  {
   "cell_type": "markdown",
   "id": "04aeb0dc-7746-4795-8ba5-86370abfbe2f",
   "metadata": {},
   "source": [
    "Ejercicio 3."
   ]
  },
  {
   "cell_type": "code",
   "execution_count": 8,
   "id": "e6c1b27b-93e5-48ac-be63-6e63ee48d618",
   "metadata": {},
   "outputs": [],
   "source": [
    "def es_primo(n):\n",
    "    if n<2:\n",
    "        return False\n",
    "    for i in range(2,n):\n",
    "        if n%i==0:\n",
    "            return False\n",
    "    return True\n",
    "def list_primo(m):\n",
    "    L=[]\n",
    "    #while len(L)<m:\n",
    "    for i in range(m):\n",
    "        if es_primo(i)==True:\n",
    "            L+=[i]\n",
    "    return L \n",
    "def list_m_primo(m):\n",
    "    L=[]\n",
    "    i=2\n",
    "    while len(L)<m:\n",
    "        if es_primo(i)==True:\n",
    "            L+=[i]\n",
    "        i+=1\n",
    "    return L, len(L)"
   ]
  },
  {
   "cell_type": "code",
   "execution_count": 9,
   "id": "6e79cefb-3bf7-4db6-a4e4-2741a516159e",
   "metadata": {
    "tags": []
   },
   "outputs": [
    {
     "data": {
      "text/plain": [
       "([2, 3, 5, 7, 11, 13, 17, 19, 23, 29], 10)"
      ]
     },
     "execution_count": 9,
     "metadata": {},
     "output_type": "execute_result"
    }
   ],
   "source": [
    "list_m_primo(10)"
   ]
  },
  {
   "cell_type": "code",
   "execution_count": 2,
   "id": "7b61f501-23a0-43d8-b1f3-8ca454d98d59",
   "metadata": {},
   "outputs": [
    {
     "data": {
      "text/plain": [
       "True"
      ]
     },
     "execution_count": 2,
     "metadata": {},
     "output_type": "execute_result"
    }
   ],
   "source": [
    "es_primo(71)"
   ]
  },
  {
   "cell_type": "code",
   "execution_count": 4,
   "id": "5035900f-8049-497a-ad13-f1d7bd599914",
   "metadata": {
    "tags": []
   },
   "outputs": [
    {
     "data": {
      "text/plain": [
       "[2, 3, 5, 7]"
      ]
     },
     "execution_count": 4,
     "metadata": {},
     "output_type": "execute_result"
    }
   ],
   "source": [
    "list_primo(10)"
   ]
  },
  {
   "cell_type": "markdown",
   "id": "08f66279-fee0-40c8-b338-9ca02a858cf9",
   "metadata": {},
   "source": [
    "Ejercicio 4."
   ]
  },
  {
   "cell_type": "code",
   "execution_count": 24,
   "id": "d61518be-7ae3-41b9-854e-b638b9959984",
   "metadata": {},
   "outputs": [],
   "source": [
    "def potencias(a,n):\n",
    "    b=1\n",
    "    for i in range(n):\n",
    "        b*=a\n",
    "    return b"
   ]
  },
  {
   "cell_type": "code",
   "execution_count": 25,
   "id": "a2905457-680e-462a-bd79-ad08ff0881ca",
   "metadata": {},
   "outputs": [
    {
     "data": {
      "text/plain": [
       "243"
      ]
     },
     "execution_count": 25,
     "metadata": {},
     "output_type": "execute_result"
    }
   ],
   "source": [
    "potencias(3,5)"
   ]
  },
  {
   "cell_type": "markdown",
   "id": "2eacaa88-f6f2-4dc2-b147-2c1a404db75c",
   "metadata": {},
   "source": [
    "Ejercicio 5."
   ]
  },
  {
   "cell_type": "code",
   "execution_count": 14,
   "id": "7fb8bc59-c000-4154-8a22-ad1e3664ae68",
   "metadata": {},
   "outputs": [],
   "source": [
    "def log2(n):\n",
    "    i=0\n",
    "    while n>=2:\n",
    "        n/=2\n",
    "        i+=1\n",
    "    return i\n",
    "def polog2(a,f,n):\n",
    "    b=a**f(n)\n",
    "    return b"
   ]
  },
  {
   "cell_type": "code",
   "execution_count": 17,
   "id": "90ddfed7-e25a-4174-b29c-8e89bf2db27b",
   "metadata": {},
   "outputs": [
    {
     "data": {
      "text/plain": [
       "27"
      ]
     },
     "execution_count": 17,
     "metadata": {},
     "output_type": "execute_result"
    }
   ],
   "source": [
    "polog2(3,log2,13)"
   ]
  },
  {
   "cell_type": "code",
   "execution_count": 12,
   "id": "fe513a44-a5db-45a7-b89a-062b4b2611d4",
   "metadata": {},
   "outputs": [
    {
     "data": {
      "text/plain": [
       "3"
      ]
     },
     "execution_count": 12,
     "metadata": {},
     "output_type": "execute_result"
    }
   ],
   "source": [
    "log2(13)"
   ]
  },
  {
   "cell_type": "markdown",
   "id": "ddd2ceb5-8c83-46fc-aa55-1e4aa0e11f44",
   "metadata": {},
   "source": [
    "Ejercicio 6."
   ]
  },
  {
   "cell_type": "code",
   "execution_count": 18,
   "id": "3e77e888-d9b0-4990-adb0-7de0859816da",
   "metadata": {},
   "outputs": [],
   "source": [
    "def NumBinario(n):\n",
    "    c=0\n",
    "    while n>1:\n",
    "        a=polog2(2,log2,n)\n",
    "        b=polog2(10,log2,n)\n",
    "        c+=b\n",
    "        n-=a\n",
    "       # print(c)\n",
    "    if n==1:\n",
    "        c+=1\n",
    "    return c\n",
    "def CuentaBinario(n):\n",
    "    L=[]\n",
    "    for i in range(n):\n",
    "        L+=[NumBinario(i)]\n",
    "    return L"
   ]
  },
  {
   "cell_type": "code",
   "execution_count": 26,
   "id": "1027e85d-44a7-4bf3-9997-6c73ff6f980b",
   "metadata": {},
   "outputs": [
    {
     "data": {
      "text/plain": [
       "[0, 1, 10, 11, 100, 101, 110, 111, 1000, 1001]"
      ]
     },
     "execution_count": 26,
     "metadata": {},
     "output_type": "execute_result"
    }
   ],
   "source": [
    "CuentaBinario(10)"
   ]
  },
  {
   "cell_type": "code",
   "execution_count": 20,
   "id": "c1350941-002f-4af9-8ff5-4df099bdbc9b",
   "metadata": {},
   "outputs": [
    {
     "data": {
      "text/plain": [
       "1101"
      ]
     },
     "execution_count": 20,
     "metadata": {},
     "output_type": "execute_result"
    }
   ],
   "source": [
    "NumBinario(13)"
   ]
  },
  {
   "cell_type": "markdown",
   "id": "f7a8d48d-03b9-4272-b9dc-33b832ea55d9",
   "metadata": {},
   "source": [
    "#### Soluciones hechas por edgardo "
   ]
  },
  {
   "cell_type": "code",
   "execution_count": 107,
   "id": "d32bb429-09c7-49da-af2b-5e56b1748584",
   "metadata": {},
   "outputs": [],
   "source": [
    "def contar(frase,letra):\n",
    "    m=0\n",
    "    for i in frase:\n",
    "        if i==letra:\n",
    "            m+=1\n",
    "    return m"
   ]
  },
  {
   "cell_type": "code",
   "execution_count": 121,
   "id": "85726ee8-058c-46e7-874d-fdbe816a1925",
   "metadata": {},
   "outputs": [
    {
     "data": {
      "text/plain": [
       "1"
      ]
     },
     "execution_count": 121,
     "metadata": {},
     "output_type": "execute_result"
    }
   ],
   "source": [
    "contar('sssagtrhijbcwifbwifbe','r')"
   ]
  },
  {
   "cell_type": "code",
   "execution_count": 18,
   "id": "90666613-0c1a-4af2-9d69-413d2e4c75e9",
   "metadata": {},
   "outputs": [
    {
     "name": "stdout",
     "output_type": "stream",
     "text": [
      "5\n",
      "34\n",
      "-------\n",
      "[11, 34, 17, 52, 26, 13, 40, 20, 10, 5, 16, 8, 4, 2, 1]\n"
     ]
    }
   ],
   "source": [
    "def collatz_sig(n):\n",
    "    if n%2==0:\n",
    "        return n//2\n",
    "    else:\n",
    "        return 3*n+1\n",
    "\n",
    "def collatz(n):\n",
    "    L=[n]\n",
    "    while n!=1:\n",
    "        n=collatz_sig(n)\n",
    "        L.append(n)\n",
    "    return L\n",
    "        \n",
    "print(collatz_sig(10))\n",
    "print(collatz_sig(11))\n",
    "print(\"-------\")\n",
    "print(collatz(11))"
   ]
  },
  {
   "cell_type": "code",
   "execution_count": 14,
   "id": "a55b7aef-56e6-46ec-8e83-06f511f484e7",
   "metadata": {},
   "outputs": [
    {
     "data": {
      "text/plain": [
       "4"
      ]
     },
     "execution_count": 14,
     "metadata": {},
     "output_type": "execute_result"
    }
   ],
   "source": [
    "len({4,7,0,9,9})"
   ]
  },
  {
   "cell_type": "markdown",
   "id": "5c257f8f-c12e-4be1-bcd9-58e5197c08df",
   "metadata": {},
   "source": [
    "### LLamar funciones"
   ]
  },
  {
   "cell_type": "markdown",
   "id": "0e6ebda9-70c8-4095-8f15-d809f0fb0e6b",
   "metadata": {},
   "source": [
    "#### Llamando funciones recursivamente\n",
    "\n",
    "Una función se puede llamar a si misma."
   ]
  },
  {
   "cell_type": "code",
   "execution_count": 15,
   "id": "75a9223d-aa5f-439d-b0cd-2ff9b00810b9",
   "metadata": {},
   "outputs": [],
   "source": [
    "def factorial(n):\n",
    "    if n == 0:\n",
    "        return 1\n",
    "    return n*factorial(n-1)"
   ]
  },
  {
   "cell_type": "code",
   "execution_count": 16,
   "id": "2981ccf2-a8a6-44f3-9f42-8f1ba32175f1",
   "metadata": {},
   "outputs": [
    {
     "data": {
      "text/plain": [
       "120"
      ]
     },
     "execution_count": 16,
     "metadata": {},
     "output_type": "execute_result"
    }
   ],
   "source": [
    "factorial(5)"
   ]
  },
  {
   "cell_type": "code",
   "execution_count": 17,
   "id": "bd779719-a602-4e15-8530-eeb7b8a7d008",
   "metadata": {},
   "outputs": [
    {
     "data": {
      "text/plain": [
       "1"
      ]
     },
     "execution_count": 17,
     "metadata": {},
     "output_type": "execute_result"
    }
   ],
   "source": [
    "factorial(1)"
   ]
  },
  {
   "cell_type": "markdown",
   "id": "4a123cc4-9127-45c5-a92d-3604476a578f",
   "metadata": {},
   "source": [
    "Claro, hay que tener cuidado!"
   ]
  },
  {
   "cell_type": "code",
   "execution_count": 19,
   "id": "396b7362-8b6a-45e0-8bb4-032fe81fbea2",
   "metadata": {},
   "outputs": [],
   "source": [
    "def fibonacci(n):\n",
    "    if n < 2:\n",
    "        return n\n",
    "    return fibonacci(n-1) + fibonacci(n-2)"
   ]
  },
  {
   "cell_type": "code",
   "execution_count": 20,
   "id": "ca665f22-612c-4dea-a0ec-d31bd8cab138",
   "metadata": {},
   "outputs": [
    {
     "data": {
      "text/plain": [
       "1"
      ]
     },
     "execution_count": 20,
     "metadata": {},
     "output_type": "execute_result"
    }
   ],
   "source": [
    "fibonacci(1)"
   ]
  },
  {
   "cell_type": "code",
   "execution_count": 21,
   "id": "f467ceaa-d4d9-43c8-b463-f99f83b9f3b7",
   "metadata": {},
   "outputs": [
    {
     "data": {
      "text/plain": [
       "0"
      ]
     },
     "execution_count": 21,
     "metadata": {},
     "output_type": "execute_result"
    }
   ],
   "source": [
    "fibonacci(0)"
   ]
  },
  {
   "cell_type": "code",
   "execution_count": 22,
   "id": "821bdba2-7339-4497-943a-a61c5d3fca74",
   "metadata": {},
   "outputs": [
    {
     "data": {
      "text/plain": [
       "1"
      ]
     },
     "execution_count": 22,
     "metadata": {},
     "output_type": "execute_result"
    }
   ],
   "source": [
    "fibonacci(2)"
   ]
  },
  {
   "cell_type": "code",
   "execution_count": 23,
   "id": "2eed49f8-7e68-4aa4-a35d-78a4cd87b31b",
   "metadata": {},
   "outputs": [
    {
     "data": {
      "text/plain": [
       "2"
      ]
     },
     "execution_count": 23,
     "metadata": {},
     "output_type": "execute_result"
    }
   ],
   "source": [
    "fibonacci(3)"
   ]
  },
  {
   "cell_type": "markdown",
   "id": "fbbe0641-e0c1-4bb6-a583-f7dd02d1a275",
   "metadata": {},
   "source": [
    "#### Lo siguiente es increíblemente lento. ¿Por qué?"
   ]
  },
  {
   "cell_type": "code",
   "execution_count": 24,
   "id": "a90f78e6-6c5e-41bd-9c38-0502c135a89a",
   "metadata": {},
   "outputs": [
    {
     "data": {
      "text/plain": [
       "102334155"
      ]
     },
     "execution_count": 24,
     "metadata": {},
     "output_type": "execute_result"
    }
   ],
   "source": [
    "fibonacci(40)"
   ]
  },
  {
   "cell_type": "markdown",
   "id": "a3ddf183-fa9c-4f70-90c6-99a0229caac7",
   "metadata": {},
   "source": [
    "#### Lo siguiente es rapido. ¿Por qué?"
   ]
  },
  {
   "cell_type": "code",
   "execution_count": 25,
   "id": "d3b98309-418d-40f1-aad1-477f26c68560",
   "metadata": {},
   "outputs": [],
   "source": [
    "def fibonacci_rapido(n):\n",
    "    a,b = 0,1\n",
    "    for i in range(n-1):\n",
    "        a,b = b, a+b\n",
    "    return b"
   ]
  },
  {
   "cell_type": "code",
   "execution_count": 28,
   "id": "07c26ed2-19d2-4d3c-bc0c-279a5da3df01",
   "metadata": {},
   "outputs": [
    {
     "data": {
      "text/plain": [
       "1"
      ]
     },
     "execution_count": 28,
     "metadata": {},
     "output_type": "execute_result"
    }
   ],
   "source": [
    "fibonacci_rapido(1)"
   ]
  },
  {
   "cell_type": "code",
   "execution_count": 29,
   "id": "dac25f0e-32a8-409a-abc5-ff39c1b50470",
   "metadata": {},
   "outputs": [
    {
     "data": {
      "text/plain": [
       "102334155"
      ]
     },
     "execution_count": 29,
     "metadata": {},
     "output_type": "execute_result"
    }
   ],
   "source": [
    "fibonacci_rapido(40)"
   ]
  },
  {
   "cell_type": "code",
   "execution_count": 30,
   "id": "36b28d96-df80-499a-97e6-9c4196bf8527",
   "metadata": {},
   "outputs": [],
   "source": [
    "def hola(n,h=5,l=0):\n",
    "    return h"
   ]
  },
  {
   "cell_type": "code",
   "execution_count": 31,
   "id": "704a2cea-89ed-4a11-a4bf-0b2a8d515c9b",
   "metadata": {},
   "outputs": [
    {
     "data": {
      "text/plain": [
       "2"
      ]
     },
     "execution_count": 31,
     "metadata": {},
     "output_type": "execute_result"
    }
   ],
   "source": [
    "hola(2,l=3,h=2)"
   ]
  },
  {
   "cell_type": "markdown",
   "id": "f60f73d5-7a7c-4afc-8061-acddb69187c2",
   "metadata": {},
   "source": [
    "#### Ahora cosas con texto"
   ]
  },
  {
   "cell_type": "code",
   "execution_count": 32,
   "id": "8750e595-2a8b-4f7a-abac-328c83b195f1",
   "metadata": {},
   "outputs": [],
   "source": [
    "mensaje = \"hola Perenganito, cómo estás? Yo muy bien. Sabías que en este mensaje hay 15 palabras?\""
   ]
  },
  {
   "cell_type": "code",
   "execution_count": 33,
   "id": "ee12566c-9159-4dff-882c-f3dbd624e9d1",
   "metadata": {},
   "outputs": [
    {
     "name": "stdout",
     "output_type": "stream",
     "text": [
      "14\n"
     ]
    }
   ],
   "source": [
    "espacios_encontrados=0\n",
    "\n",
    "for t in mensaje:\n",
    "    if t == ' ':\n",
    "        espacios_encontrados += 1\n",
    "\n",
    "print(espacios_encontrados)"
   ]
  },
  {
   "cell_type": "code",
   "execution_count": 34,
   "id": "102a01d6-c791-4a92-95b0-8db2ec51d897",
   "metadata": {},
   "outputs": [
    {
     "data": {
      "text/plain": [
       "1"
      ]
     },
     "execution_count": 34,
     "metadata": {},
     "output_type": "execute_result"
    }
   ],
   "source": [
    "mensaje.count('hola')"
   ]
  },
  {
   "cell_type": "code",
   "execution_count": 35,
   "id": "84fa769c-5306-4a75-a9a2-87f07b4d5fbc",
   "metadata": {},
   "outputs": [
    {
     "name": "stdout",
     "output_type": "stream",
     "text": [
      "occurrence of letter a: 5\n"
     ]
    }
   ],
   "source": [
    "sentence = 'Cats, rats, bats, and hats.'\n",
    "\n",
    "print('occurrence of letter a:', sentence.count('a'))"
   ]
  },
  {
   "cell_type": "code",
   "execution_count": 36,
   "id": "ee3887c7-3b66-4b69-ba6e-b9967b963556",
   "metadata": {},
   "outputs": [
    {
     "name": "stdout",
     "output_type": "stream",
     "text": [
      "occurrence of substring ats: 4\n"
     ]
    }
   ],
   "source": [
    "print('occurrence of substring ats:', sentence.count('ats'))"
   ]
  },
  {
   "cell_type": "code",
   "execution_count": 37,
   "id": "78053fc3-c9fa-4030-a775-fd09cb23dcc9",
   "metadata": {},
   "outputs": [
    {
     "name": "stdout",
     "output_type": "stream",
     "text": [
      "occurrence of letter a: 5\n"
     ]
    }
   ],
   "source": [
    "import re\n",
    "sentence = 'Cats, rats, bats, and hats.'\n",
    "\n",
    "print('occurrence of letter a:', len(re.findall('a', sentence)))"
   ]
  },
  {
   "cell_type": "code",
   "execution_count": 39,
   "id": "95f55c1c-6e7d-4d91-bb0b-fba8ebd299a0",
   "metadata": {},
   "outputs": [
    {
     "name": "stdout",
     "output_type": "stream",
     "text": [
      "occurrences of vowels: 11\n"
     ]
    }
   ],
   "source": [
    "import re\n",
    "\n",
    "sentence = 'The quick brown fox jumps over the lazy dog'\n",
    "vowels = re.findall('[aeiou]', sentence)\n",
    "\n",
    "print(\"occurrences of vowels:\", len(vowels))"
   ]
  },
  {
   "cell_type": "code",
   "execution_count": 41,
   "id": "8532b4cd-8da8-4a33-8f79-a74f37367cd3",
   "metadata": {},
   "outputs": [
    {
     "name": "stdout",
     "output_type": "stream",
     "text": [
      "THIS IS A STRING.\n"
     ]
    }
   ],
   "source": [
    "string = \"this is a string.\"\n",
    "\n",
    "uppercasestring = string.upper()\n",
    "\n",
    "print(uppercasestring)"
   ]
  },
  {
   "cell_type": "code",
   "execution_count": 40,
   "id": "60efb5c2-a425-4e51-9683-6fabb7e905b6",
   "metadata": {},
   "outputs": [
    {
     "name": "stdout",
     "output_type": "stream",
     "text": [
      "This is a string.\n"
     ]
    }
   ],
   "source": [
    "string = \"this is a string.\"\n",
    "\n",
    "capitalizedstring = string.capitalize()\n",
    "\n",
    "print(capitalizedstring)"
   ]
  },
  {
   "cell_type": "code",
   "execution_count": 43,
   "id": "64b96087-e38d-40b5-921b-d6b131c67308",
   "metadata": {},
   "outputs": [
    {
     "name": "stdout",
     "output_type": "stream",
     "text": [
      "Hola perenganito, cómo estás? yo muy bien. sabías que en este mensaje hay 15 palabras?\n"
     ]
    }
   ],
   "source": [
    "mensaje2 = mensaje.capitalize()\n",
    "print(mensaje2)"
   ]
  },
  {
   "cell_type": "code",
   "execution_count": 44,
   "id": "b777b09b-5419-4544-807c-19b8dd611dd3",
   "metadata": {},
   "outputs": [
    {
     "name": "stdout",
     "output_type": "stream",
     "text": [
      "0 h H\n",
      "5 P p\n",
      "30 Y y\n",
      "43 S s\n"
     ]
    }
   ],
   "source": [
    "n=len(mensaje)\n",
    "for i in range(n):\n",
    "    if mensaje[i] != mensaje2[i]:\n",
    "        print(i,mensaje[i],mensaje2[i])"
   ]
  },
  {
   "cell_type": "code",
   "execution_count": 45,
   "id": "0d6ae708-746a-4727-9aac-67ba2f5d48f7",
   "metadata": {},
   "outputs": [
    {
     "data": {
      "text/plain": [
       "'h'"
      ]
     },
     "execution_count": 45,
     "metadata": {},
     "output_type": "execute_result"
    }
   ],
   "source": [
    "mensaje[0]"
   ]
  },
  {
   "cell_type": "code",
   "execution_count": 46,
   "id": "a4cbe2e0-1af6-4649-b99a-204de0daa7f6",
   "metadata": {},
   "outputs": [
    {
     "data": {
      "text/plain": [
       "'H'"
      ]
     },
     "execution_count": 46,
     "metadata": {},
     "output_type": "execute_result"
    }
   ],
   "source": [
    "mensaje2[0]"
   ]
  },
  {
   "cell_type": "code",
   "execution_count": 53,
   "id": "bd05c88e-4deb-483f-bb26-f4fed9bb62d4",
   "metadata": {},
   "outputs": [
    {
     "data": {
      "text/plain": [
       "18"
      ]
     },
     "execution_count": 53,
     "metadata": {},
     "output_type": "execute_result"
    }
   ],
   "source": [
    "mensaje.find('cómo')"
   ]
  },
  {
   "cell_type": "code",
   "execution_count": 55,
   "id": "cd4244b4-8e2d-400e-8790-7574a0a2455e",
   "metadata": {},
   "outputs": [
    {
     "data": {
      "text/plain": [
       "'c'"
      ]
     },
     "execution_count": 55,
     "metadata": {},
     "output_type": "execute_result"
    }
   ],
   "source": [
    "mensaje[18]"
   ]
  },
  {
   "cell_type": "code",
   "execution_count": 56,
   "id": "1b8362c9-d976-46ec-bceb-13918ce276f8",
   "metadata": {},
   "outputs": [
    {
     "data": {
      "text/plain": [
       "True"
      ]
     },
     "execution_count": 56,
     "metadata": {},
     "output_type": "execute_result"
    }
   ],
   "source": [
    "mensaje[18]=='c'"
   ]
  },
  {
   "cell_type": "code",
   "execution_count": 57,
   "id": "7e1596ad-a9bd-4f1c-b638-8a60ee1b19a3",
   "metadata": {},
   "outputs": [
    {
     "name": "stdout",
     "output_type": "stream",
     "text": [
      "1-2-3-4\n"
     ]
    }
   ],
   "source": [
    "list1 = ['1','2','3','4']  \n",
    "  \n",
    "s = \"-\"\n",
    "  \n",
    "s = s.join(list1) \n",
    "  \n",
    "print(s) "
   ]
  },
  {
   "cell_type": "code",
   "execution_count": 59,
   "id": "ae585443-3f7a-45ea-a501-a6abbda33152",
   "metadata": {},
   "outputs": [
    {
     "name": "stdout",
     "output_type": "stream",
     "text": [
      "geeks\n"
     ]
    }
   ],
   "source": [
    "list1 = ['g','e','e','k', 's']  \n",
    "print(\"\".join(list1)) "
   ]
  },
  {
   "cell_type": "code",
   "execution_count": 60,
   "id": "84871da1-1e87-4cfc-a655-7770f6bba155",
   "metadata": {},
   "outputs": [
    {
     "data": {
      "text/plain": [
       "<function str.join(iterable, /)>"
      ]
     },
     "execution_count": 60,
     "metadata": {},
     "output_type": "execute_result"
    }
   ],
   "source": [
    "\"-2234\".join"
   ]
  },
  {
   "cell_type": "code",
   "execution_count": 61,
   "id": "9c1cb7c8-6ef5-4902-ab58-a8cd1d4e4590",
   "metadata": {},
   "outputs": [
    {
     "data": {
      "text/plain": [
       "'sadf/asdf/gegege'"
      ]
     },
     "execution_count": 61,
     "metadata": {},
     "output_type": "execute_result"
    }
   ],
   "source": [
    "'/'.join([\"sadf\",\"asdf\",\"gegege\"])"
   ]
  },
  {
   "cell_type": "markdown",
   "id": "2dd04293-db39-473a-a3e1-da92cd251724",
   "metadata": {},
   "source": [
    "##### split es importante para tareas!!"
   ]
  },
  {
   "cell_type": "code",
   "execution_count": 62,
   "id": "62923779-0c27-4774-a845-510839d07cdd",
   "metadata": {},
   "outputs": [],
   "source": [
    "a = int(\"248 1 4\".split()[0])"
   ]
  },
  {
   "cell_type": "code",
   "execution_count": 63,
   "id": "bee54ce9-c058-44f1-9bea-30c42cf41065",
   "metadata": {},
   "outputs": [
    {
     "name": "stdout",
     "output_type": "stream",
     "text": [
      "248\n"
     ]
    }
   ],
   "source": [
    "print(a)"
   ]
  },
  {
   "cell_type": "code",
   "execution_count": 65,
   "id": "50a8f426-98ed-427e-969d-847938138ea9",
   "metadata": {},
   "outputs": [
    {
     "data": {
      "text/plain": [
       "['Rapido', 'corren', 'los', 'carros']"
      ]
     },
     "execution_count": 65,
     "metadata": {},
     "output_type": "execute_result"
    }
   ],
   "source": [
    "str = \"Rapido corren los carros\"\n",
    "str.split()\n"
   ]
  },
  {
   "cell_type": "markdown",
   "id": "1e9f8e54-9f6b-472a-9361-55abe4ef90b3",
   "metadata": {},
   "source": [
    "#### Separa cada que ve una coma"
   ]
  },
  {
   "cell_type": "code",
   "execution_count": 66,
   "id": "408f4beb-db0a-4b9a-bfca-4c95c10bbddb",
   "metadata": {},
   "outputs": [
    {
     "data": {
      "text/plain": [
       "['Hola', ' mi nombre es Miguel']"
      ]
     },
     "execution_count": 66,
     "metadata": {},
     "output_type": "execute_result"
    }
   ],
   "source": [
    "str = \"Hola, mi nombre es Miguel\"\n",
    "str.split(\",\")\n"
   ]
  },
  {
   "cell_type": "code",
   "execution_count": 71,
   "id": "e2c1b1ca-b05d-4f5d-9d67-6eb1c801f3af",
   "metadata": {},
   "outputs": [
    {
     "data": {
      "text/plain": [
       "'     asdfasef   '"
      ]
     },
     "execution_count": 71,
     "metadata": {},
     "output_type": "execute_result"
    }
   ],
   "source": [
    "\"ffff     asdfasef   \".strip('f')"
   ]
  },
  {
   "cell_type": "code",
   "execution_count": 72,
   "id": "97e580c5-7b7d-4f08-813a-23548374cdf2",
   "metadata": {},
   "outputs": [
    {
     "name": "stdout",
     "output_type": "stream",
     "text": [
      "this is string exam0ple....wow!!!\n"
     ]
    }
   ],
   "source": [
    "str = \"0000000this is string exam0ple....wow!!!0000000\";\n",
    "print (str.strip( '0' ))"
   ]
  },
  {
   "cell_type": "code",
   "execution_count": 73,
   "id": "6b03a8eb-7481-40b5-9dd5-662baaec1460",
   "metadata": {},
   "outputs": [],
   "source": [
    "import math"
   ]
  },
  {
   "cell_type": "code",
   "execution_count": 74,
   "id": "9771335a-050e-463f-b65f-f604996c206d",
   "metadata": {},
   "outputs": [],
   "source": [
    "import random"
   ]
  },
  {
   "cell_type": "code",
   "execution_count": 76,
   "id": "019ea259-2770-413e-8e94-248da83b7b2a",
   "metadata": {},
   "outputs": [
    {
     "data": {
      "text/plain": [
       "1"
      ]
     },
     "execution_count": 76,
     "metadata": {},
     "output_type": "execute_result"
    }
   ],
   "source": [
    "random.choice([1,4,3])"
   ]
  },
  {
   "cell_type": "code",
   "execution_count": 77,
   "id": "04f6c010-d250-4f39-bcbc-69da34ba3b13",
   "metadata": {},
   "outputs": [
    {
     "data": {
      "text/plain": [
       "[3]"
      ]
     },
     "execution_count": 77,
     "metadata": {},
     "output_type": "execute_result"
    }
   ],
   "source": [
    "random.sample([1,2,3,4,5],1)"
   ]
  }
 ],
 "metadata": {
  "kernelspec": {
   "display_name": "Python 3",
   "language": "python",
   "name": "python3"
  },
  "language_info": {
   "codemirror_mode": {
    "name": "ipython",
    "version": 3
   },
   "file_extension": ".py",
   "mimetype": "text/x-python",
   "name": "python",
   "nbconvert_exporter": "python",
   "pygments_lexer": "ipython3",
   "version": "3.8.8"
  }
 },
 "nbformat": 4,
 "nbformat_minor": 5
}
