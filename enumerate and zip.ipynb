{
 "cells": [
  {
   "cell_type": "markdown",
   "id": "1e0cb1ee-8529-407f-b610-688f2a64e7fc",
   "metadata": {
    "tags": []
   },
   "source": [
    "# Técnicas para tener código más bonito: `enumerate`, `*`, `zip`\n",
    "\n",
    "\n",
    "## Intro\n",
    "En general es **mucho mejor** iterar directamente sobre una lista (string, etc.) que sobre los índices de esa lista. Es decir, es mejor esto:"
   ]
  },
  {
   "cell_type": "code",
   "execution_count": 1,
   "id": "f0b6c221-0b07-4a3b-8ae0-b6dc93d5efbe",
   "metadata": {},
   "outputs": [],
   "source": [
    "X = ['a',1,2]"
   ]
  },
  {
   "cell_type": "code",
   "execution_count": 2,
   "id": "c40c7690-d42b-4bd3-b694-3055e865e901",
   "metadata": {},
   "outputs": [
    {
     "name": "stdout",
     "output_type": "stream",
     "text": [
      "a\n",
      "1\n",
      "2\n"
     ]
    }
   ],
   "source": [
    "for x in X:\n",
    "    print(x)"
   ]
  },
  {
   "cell_type": "markdown",
   "id": "5444a6a3-a76e-4088-bcff-74b7c050e810",
   "metadata": {
    "tags": []
   },
   "source": [
    "Que esto:"
   ]
  },
  {
   "cell_type": "code",
   "execution_count": 4,
   "id": "960804b3-4186-422e-8bf5-1461f1d7e6e9",
   "metadata": {},
   "outputs": [
    {
     "name": "stdout",
     "output_type": "stream",
     "text": [
      "a\n",
      "1\n",
      "2\n"
     ]
    }
   ],
   "source": [
    "for i in range(len(X)):\n",
    "    print(X[i])"
   ]
  },
  {
   "cell_type": "markdown",
   "id": "4651be01-2b5c-4141-9c04-212c6a433c8b",
   "metadata": {},
   "source": [
    "## ¿Por qué podrías preferir los índices?\n",
    "\n",
    "Hay varias razones para usar los índices:\n",
    "\n",
    "1. A veces necesitas el índice, porque lo usas de cierta manera. Por ejemplo:"
   ]
  },
  {
   "cell_type": "code",
   "execution_count": 10,
   "id": "ee62a4b0-edb1-4a5d-b884-ee9389baf4d4",
   "metadata": {},
   "outputs": [],
   "source": [
    "for i in range(len(X)):\n",
    "    X[i] = i**2"
   ]
  },
  {
   "cell_type": "code",
   "execution_count": 6,
   "id": "d25b3d11-41ad-41ad-9b0f-536fbcf9b9d4",
   "metadata": {},
   "outputs": [
    {
     "data": {
      "text/plain": [
       "3"
      ]
     },
     "execution_count": 6,
     "metadata": {},
     "output_type": "execute_result"
    }
   ],
   "source": [
    "len(X)"
   ]
  },
  {
   "cell_type": "code",
   "execution_count": 11,
   "id": "0809b8bd-a9b1-4784-9ebb-b3a0d14c36ac",
   "metadata": {},
   "outputs": [
    {
     "data": {
      "text/plain": [
       "[0, 1, 4]"
      ]
     },
     "execution_count": 11,
     "metadata": {},
     "output_type": "execute_result"
    }
   ],
   "source": [
    "X"
   ]
  },
  {
   "cell_type": "markdown",
   "id": "0c7c6db2-04e5-430a-9f44-5462d54acbff",
   "metadata": {},
   "source": [
    "Es decir, si no usas el índice directamente, seguramente no lo necesitas."
   ]
  },
  {
   "cell_type": "markdown",
   "id": "0ee1ae9f-a6ac-4a15-9b84-d8fa07599a04",
   "metadata": {},
   "source": [
    "2. Otra posible razón es que quieras modificar la lista:"
   ]
  },
  {
   "cell_type": "code",
   "execution_count": 13,
   "id": "668dd532-f14b-43b3-b271-8fe7071099d6",
   "metadata": {},
   "outputs": [],
   "source": [
    "# No funciona como quisiéramos\n",
    "for x in X:\n",
    "    x += 10"
   ]
  },
  {
   "cell_type": "code",
   "execution_count": 14,
   "id": "fdc57124-a23e-4615-9f38-87bf99d93e08",
   "metadata": {},
   "outputs": [
    {
     "data": {
      "text/plain": [
       "[0, 1, 4]"
      ]
     },
     "execution_count": 14,
     "metadata": {},
     "output_type": "execute_result"
    }
   ],
   "source": [
    "X"
   ]
  },
  {
   "cell_type": "code",
   "execution_count": 31,
   "id": "4ee9720f-91fa-4b34-9b07-0239a8c27dfd",
   "metadata": {},
   "outputs": [],
   "source": [
    "# Esto sí funciona!\n",
    "for i in range(len(X)):\n",
    "    X[i] += 10"
   ]
  },
  {
   "cell_type": "code",
   "execution_count": 16,
   "id": "46b4b026-ee72-4558-9f3c-7a66e4a1b8d1",
   "metadata": {},
   "outputs": [
    {
     "data": {
      "text/plain": [
       "[10, 11, 14]"
      ]
     },
     "execution_count": 16,
     "metadata": {},
     "output_type": "execute_result"
    }
   ],
   "source": [
    "X"
   ]
  },
  {
   "cell_type": "markdown",
   "id": "d1fc1cb5-74fd-44a8-8ffe-bc22d555586d",
   "metadata": {},
   "source": [
    "## `enumerate`\n",
    "\n",
    "Hay una mejor manera!"
   ]
  },
  {
   "cell_type": "code",
   "execution_count": 17,
   "id": "a52d76de-e8d5-4403-9d9a-3dbf0b5eaef9",
   "metadata": {},
   "outputs": [
    {
     "name": "stdout",
     "output_type": "stream",
     "text": [
      "10 tiene índice 0\n",
      "11 tiene índice 1\n",
      "14 tiene índice 2\n"
     ]
    }
   ],
   "source": [
    "for i, x in enumerate(X):\n",
    "    print(f\"{x} tiene índice {i}\")"
   ]
  },
  {
   "cell_type": "code",
   "execution_count": 36,
   "id": "9442b331-aa01-4f8c-8d8e-850ec4fb38ca",
   "metadata": {},
   "outputs": [
    {
     "name": "stdout",
     "output_type": "stream",
     "text": [
      "0 0\n",
      "1 1\n",
      "4 2\n"
     ]
    }
   ],
   "source": [
    "for i, x in enumerate(X):\n",
    "    print(x,i)"
   ]
  },
  {
   "cell_type": "code",
   "execution_count": 4,
   "id": "f9cede7d-599c-4253-8d30-c58d2af25fa0",
   "metadata": {},
   "outputs": [
    {
     "data": {
      "text/plain": [
       "[(0, 'a'), (1, 1), (2, 2)]"
      ]
     },
     "execution_count": 4,
     "metadata": {},
     "output_type": "execute_result"
    }
   ],
   "source": [
    "list(enumerate(X))"
   ]
  },
  {
   "cell_type": "code",
   "execution_count": 20,
   "id": "d6793b04-80a1-42e2-a49b-fd9e80fe8031",
   "metadata": {},
   "outputs": [
    {
     "data": {
      "text/plain": [
       "[0, 1, 2, 3, 4, 5, 6, 7, 8, 9]"
      ]
     },
     "execution_count": 20,
     "metadata": {},
     "output_type": "execute_result"
    }
   ],
   "source": [
    "list(range(10))"
   ]
  },
  {
   "cell_type": "markdown",
   "id": "91b401e8-b69e-4527-860f-7492725b7030",
   "metadata": {},
   "source": [
    "Usar `for i in range(len(X))` básicamente nunca está bien. Siempre es mejor usar `enumerate`. Para modificar un elemento en la lista lo accesas con `[i]`, pero para usarlo simplemente accésalo con x."
   ]
  },
  {
   "cell_type": "code",
   "execution_count": 12,
   "id": "fe355307-b52d-4ee0-94c7-d2e6b6f105a3",
   "metadata": {},
   "outputs": [],
   "source": [
    "for i, x in enumerate(X):\n",
    "    X[i] = (x+1)**2/8\n",
    "   "
   ]
  },
  {
   "cell_type": "code",
   "execution_count": 13,
   "id": "b2f65d26-35a4-4406-acfd-31c21b2f2b78",
   "metadata": {},
   "outputs": [
    {
     "data": {
      "text/plain": [
       "[0.125, 0.5, 3.125]"
      ]
     },
     "execution_count": 13,
     "metadata": {},
     "output_type": "execute_result"
    }
   ],
   "source": [
    "X"
   ]
  },
  {
   "cell_type": "markdown",
   "id": "b7416b48-16be-429e-84c9-1126c463f74f",
   "metadata": {},
   "source": [
    "## Strings con formato"
   ]
  },
  {
   "cell_type": "code",
   "execution_count": 7,
   "id": "ccd14534-09a0-43b8-98c6-3a929ca10a93",
   "metadata": {},
   "outputs": [
    {
     "data": {
      "text/plain": [
       "'Hola'"
      ]
     },
     "execution_count": 7,
     "metadata": {},
     "output_type": "execute_result"
    }
   ],
   "source": [
    "\"Hola\""
   ]
  },
  {
   "cell_type": "code",
   "execution_count": 8,
   "id": "dc8c2fbf-1819-48de-b56a-380fdfe66347",
   "metadata": {},
   "outputs": [],
   "source": [
    "i=10"
   ]
  },
  {
   "cell_type": "code",
   "execution_count": 9,
   "id": "9672c60a-c100-4726-bd0d-2017db8d428d",
   "metadata": {},
   "outputs": [],
   "source": [
    "b=str(i)"
   ]
  },
  {
   "cell_type": "code",
   "execution_count": 11,
   "id": "a097125b-1983-4f2e-9ce8-11881ffaa0a1",
   "metadata": {},
   "outputs": [
    {
     "data": {
      "text/plain": [
       "'10'"
      ]
     },
     "execution_count": 11,
     "metadata": {},
     "output_type": "execute_result"
    }
   ],
   "source": [
    "b"
   ]
  },
  {
   "cell_type": "code",
   "execution_count": 12,
   "id": "0ac223a3-b699-4888-88f0-86187a3a9c4e",
   "metadata": {},
   "outputs": [],
   "source": [
    "S=str([1,2,3,4,5])"
   ]
  },
  {
   "cell_type": "code",
   "execution_count": 13,
   "id": "8e9c7542-82ba-4de9-b02f-1dd890a13db6",
   "metadata": {},
   "outputs": [
    {
     "data": {
      "text/plain": [
       "'[1, 2, 3, 4, 5]'"
      ]
     },
     "execution_count": 13,
     "metadata": {},
     "output_type": "execute_result"
    }
   ],
   "source": [
    "S"
   ]
  },
  {
   "cell_type": "code",
   "execution_count": 16,
   "id": "5ce0b454-813f-48ae-be67-80ececc8d490",
   "metadata": {},
   "outputs": [
    {
     "data": {
      "text/plain": [
       "'Hola [1, 2, 3, 4, 5]'"
      ]
     },
     "execution_count": 16,
     "metadata": {},
     "output_type": "execute_result"
    }
   ],
   "source": [
    "'Hola ' + S"
   ]
  },
  {
   "cell_type": "code",
   "execution_count": 17,
   "id": "d7d84ac8-4eff-42ab-9997-8a9065b64f3a",
   "metadata": {},
   "outputs": [],
   "source": [
    "i=4"
   ]
  },
  {
   "cell_type": "code",
   "execution_count": 18,
   "id": "f1383a6c-fd39-4a3b-881f-382277eb9744",
   "metadata": {},
   "outputs": [
    {
     "data": {
      "text/plain": [
       "'Hola 4 Adiós 16'"
      ]
     },
     "execution_count": 18,
     "metadata": {},
     "output_type": "execute_result"
    }
   ],
   "source": [
    "f\"Hola {i} Adiós {i*i}\""
   ]
  },
  {
   "cell_type": "code",
   "execution_count": 19,
   "id": "983091ae-ee2a-4c49-873e-ca8aee7faee8",
   "metadata": {},
   "outputs": [
    {
     "data": {
      "text/plain": [
       "'Hola {i}'"
      ]
     },
     "execution_count": 19,
     "metadata": {},
     "output_type": "execute_result"
    }
   ],
   "source": [
    "\"Hola {i}\""
   ]
  },
  {
   "cell_type": "code",
   "execution_count": 20,
   "id": "ef39eb4f-4745-4ae1-9717-97d5576d4617",
   "metadata": {},
   "outputs": [
    {
     "data": {
      "text/plain": [
       "'Hola 10'"
      ]
     },
     "execution_count": 20,
     "metadata": {},
     "output_type": "execute_result"
    }
   ],
   "source": [
    "f\"Hola {4+6}\""
   ]
  },
  {
   "cell_type": "code",
   "execution_count": 21,
   "id": "cf112bc6-e5f3-489d-9016-253fb00f6ac8",
   "metadata": {},
   "outputs": [
    {
     "data": {
      "text/plain": [
       "\"Las comillas las toma como caracteres: '\""
      ]
     },
     "execution_count": 21,
     "metadata": {},
     "output_type": "execute_result"
    }
   ],
   "source": [
    "\"Las comillas las toma como caracteres: '\""
   ]
  },
  {
   "cell_type": "code",
   "execution_count": 22,
   "id": "9540011a-1eb6-44bd-b109-b0370957bddb",
   "metadata": {},
   "outputs": [
    {
     "data": {
      "text/plain": [
       "'Las comillas las toma como caracteres: '"
      ]
     },
     "execution_count": 22,
     "metadata": {},
     "output_type": "execute_result"
    }
   ],
   "source": [
    "\"Las comillas las toma como caracteres: \""
   ]
  },
  {
   "cell_type": "code",
   "execution_count": 23,
   "id": "fc62b512-8c67-437a-84ee-8ea891d804bb",
   "metadata": {},
   "outputs": [
    {
     "data": {
      "text/plain": [
       "'Las comillas! \"'"
      ]
     },
     "execution_count": 23,
     "metadata": {},
     "output_type": "execute_result"
    }
   ],
   "source": [
    "'Las comillas! \"'"
   ]
  },
  {
   "cell_type": "code",
   "execution_count": 24,
   "id": "47bf5a83-0801-4dd7-b1e8-ebfe96cf6954",
   "metadata": {},
   "outputs": [],
   "source": [
    "S=\"'\"+'\"'"
   ]
  },
  {
   "cell_type": "code",
   "execution_count": 25,
   "id": "a1b8ea51-aca4-4e30-bcc8-cf6a3b40420c",
   "metadata": {},
   "outputs": [
    {
     "data": {
      "text/plain": [
       "'\\'\"'"
      ]
     },
     "execution_count": 25,
     "metadata": {},
     "output_type": "execute_result"
    }
   ],
   "source": [
    "S"
   ]
  },
  {
   "cell_type": "code",
   "execution_count": 28,
   "id": "25df3abe-dc9b-4748-af04-b695cfa4d548",
   "metadata": {},
   "outputs": [
    {
     "name": "stdout",
     "output_type": "stream",
     "text": [
      "'\n"
     ]
    }
   ],
   "source": [
    "print(S[0])"
   ]
  },
  {
   "cell_type": "code",
   "execution_count": 29,
   "id": "297e4502-10b3-4a71-9373-76a636facf3a",
   "metadata": {},
   "outputs": [
    {
     "name": "stdout",
     "output_type": "stream",
     "text": [
      "\"\n"
     ]
    }
   ],
   "source": [
    "print(S[1])"
   ]
  },
  {
   "cell_type": "code",
   "execution_count": 30,
   "id": "21b4e878-e327-4f48-9db9-fc3cd3506ce2",
   "metadata": {},
   "outputs": [],
   "source": [
    "S=\"\\\"'\""
   ]
  },
  {
   "cell_type": "code",
   "execution_count": 31,
   "id": "5ede26fe-5d78-441d-97a8-bce15cf602d4",
   "metadata": {},
   "outputs": [
    {
     "name": "stdout",
     "output_type": "stream",
     "text": [
      "\"\n"
     ]
    }
   ],
   "source": [
    "print(S[0])"
   ]
  },
  {
   "cell_type": "code",
   "execution_count": 32,
   "id": "f108fe1c-e100-4b54-ac11-93fc630630ec",
   "metadata": {},
   "outputs": [
    {
     "name": "stdout",
     "output_type": "stream",
     "text": [
      "'\n"
     ]
    }
   ],
   "source": [
    "print(S[1])"
   ]
  },
  {
   "cell_type": "code",
   "execution_count": 33,
   "id": "89a3e935-064b-4f2b-afe0-b5db2f309e5d",
   "metadata": {},
   "outputs": [
    {
     "name": "stdout",
     "output_type": "stream",
     "text": [
      "\"'\n"
     ]
    }
   ],
   "source": [
    "print(S)"
   ]
  },
  {
   "cell_type": "code",
   "execution_count": 34,
   "id": "bc411d39-7a43-4531-8ca7-28d214c49b96",
   "metadata": {},
   "outputs": [
    {
     "name": "stdout",
     "output_type": "stream",
     "text": [
      "Hola\n",
      "Cómo estás?\n"
     ]
    }
   ],
   "source": [
    "print(\"Hola\\nCómo estás?\")"
   ]
  },
  {
   "cell_type": "code",
   "execution_count": 35,
   "id": "dec98d89-401d-4c64-b0b4-190b0cfde48c",
   "metadata": {},
   "outputs": [
    {
     "name": "stdout",
     "output_type": "stream",
     "text": [
      "a\tb\tc\n"
     ]
    }
   ],
   "source": [
    "print(\"a\\tb\\tc\")"
   ]
  },
  {
   "cell_type": "code",
   "execution_count": 45,
   "id": "e916cdf4-5886-450d-a491-641c99d7829a",
   "metadata": {},
   "outputs": [
    {
     "name": "stdout",
     "output_type": "stream",
     "text": [
      "\\\n"
     ]
    }
   ],
   "source": [
    "print(\"\\\\\")"
   ]
  },
  {
   "cell_type": "code",
   "execution_count": 49,
   "id": "c744847f-52d5-42ad-afb1-3a1335a1072a",
   "metadata": {},
   "outputs": [
    {
     "name": "stdout",
     "output_type": "stream",
     "text": [
      "\\leq\n"
     ]
    }
   ],
   "source": [
    "print(\"\\\\leq\")"
   ]
  },
  {
   "cell_type": "code",
   "execution_count": 58,
   "id": "e038c21e-a122-4a5e-82ca-46d181fc4a08",
   "metadata": {},
   "outputs": [
    {
     "name": "stdout",
     "output_type": "stream",
     "text": [
      "e\n"
     ]
    }
   ],
   "source": [
    "print(\"\\\\leq\"[2])"
   ]
  },
  {
   "cell_type": "markdown",
   "id": "41b622f1-f0ba-421c-bb93-070e6a2d06c4",
   "metadata": {},
   "source": [
    "## Operador *\n",
    "\n",
    "Vimos que una función puede tomar dos o más parámetros. Por ejemplo:"
   ]
  },
  {
   "cell_type": "code",
   "execution_count": 62,
   "id": "8ec36a83-0fbe-4923-ab3b-6317a5ab1716",
   "metadata": {},
   "outputs": [],
   "source": [
    "def desplegar_mensaje(texto, color):\n",
    "    # bla bla bla\n",
    "    print(f\"El texto '{texto}' es {color}\")"
   ]
  },
  {
   "cell_type": "code",
   "execution_count": 66,
   "id": "0992e88e-4e51-4844-bc0e-eed2f02cfb59",
   "metadata": {},
   "outputs": [
    {
     "name": "stdout",
     "output_type": "stream",
     "text": [
      "El texto 'hola' es rojo\n"
     ]
    }
   ],
   "source": [
    "desplegar_mensaje('hola', 'rojo')"
   ]
  },
  {
   "cell_type": "code",
   "execution_count": 67,
   "id": "7b5b4862-6c8e-48c0-bbc3-a607baa7b71d",
   "metadata": {},
   "outputs": [],
   "source": [
    "def ladrar():\n",
    "    return \"guau\", \"azul\""
   ]
  },
  {
   "cell_type": "code",
   "execution_count": 68,
   "id": "fdd02098-66b7-4a9f-82db-8a90dce77a1a",
   "metadata": {},
   "outputs": [
    {
     "data": {
      "text/plain": [
       "('guau', 'azul')"
      ]
     },
     "execution_count": 68,
     "metadata": {},
     "output_type": "execute_result"
    }
   ],
   "source": [
    "ladrar()"
   ]
  },
  {
   "cell_type": "markdown",
   "id": "0a6583a7-e111-47b4-9838-4e82c2a55f27",
   "metadata": {},
   "source": [
    "### ¿Cómo le paso lo que regresa ladrar a desplegar_mensaje?\n",
    "\n",
    "Aquí hay una posiblidad:"
   ]
  },
  {
   "cell_type": "code",
   "execution_count": 69,
   "id": "20c0c5c8-f273-4812-a597-dcc6bb0bfa17",
   "metadata": {},
   "outputs": [
    {
     "name": "stdout",
     "output_type": "stream",
     "text": [
      "El texto 'guau' es azul\n"
     ]
    }
   ],
   "source": [
    "ladrido = ladrar()\n",
    "desplegar_mensaje(ladrido[0], ladrido[1])"
   ]
  },
  {
   "cell_type": "markdown",
   "id": "80b7ee04-5e8a-4dc5-83f7-7eb2b76b0903",
   "metadata": {},
   "source": [
    "#### Eso claramente está feíto. Otra posibilidad menos fea:"
   ]
  },
  {
   "cell_type": "code",
   "execution_count": 71,
   "id": "b7f7d31f-73ab-4438-9792-7cd59ac0529c",
   "metadata": {},
   "outputs": [
    {
     "name": "stdout",
     "output_type": "stream",
     "text": [
      "El texto 'guau' es azul\n"
     ]
    }
   ],
   "source": [
    "texto, color = ladrar()\n",
    "desplegar_mensaje(texto, color)"
   ]
  },
  {
   "cell_type": "markdown",
   "id": "fe5e1f1d-6237-4d11-b236-24e735c63d22",
   "metadata": {},
   "source": [
    "#### Pero claro, si tuviéramos 15 parámetros, se empieza a complicar. Por esto hay el operador *:"
   ]
  },
  {
   "cell_type": "code",
   "execution_count": 72,
   "id": "26b0baa1-b4d5-473b-9cdd-fcadb797017d",
   "metadata": {},
   "outputs": [
    {
     "name": "stdout",
     "output_type": "stream",
     "text": [
      "El texto 'guau' es azul\n"
     ]
    }
   ],
   "source": [
    "desplegar_mensaje(*ladrar())"
   ]
  },
  {
   "cell_type": "code",
   "execution_count": 73,
   "id": "913f1b30-5ad1-4f65-9a49-a5eaedbaa2c5",
   "metadata": {},
   "outputs": [
    {
     "name": "stdout",
     "output_type": "stream",
     "text": [
      "El texto 'hola' es negro\n"
     ]
    }
   ],
   "source": [
    "desplegar_mensaje(*('hola','negro'))"
   ]
  },
  {
   "cell_type": "code",
   "execution_count": 74,
   "id": "a340c687-7ede-4386-8faf-958aa984f809",
   "metadata": {},
   "outputs": [
    {
     "name": "stdout",
     "output_type": "stream",
     "text": [
      "El texto 'hola' es negro\n"
     ]
    }
   ],
   "source": [
    "desplegar_mensaje(*['hola','negro'])"
   ]
  },
  {
   "cell_type": "markdown",
   "id": "182a6e1f-82fe-49d6-b497-dd5d0bfe4262",
   "metadata": {},
   "source": [
    "#### Lo que hace el operador * es tomar una lista y \"desempaquetarla\" (i.e. quitarle los corchetes/paréntesis)\n",
    "\n",
    "[ ]\n"
   ]
  },
  {
   "cell_type": "code",
   "execution_count": 75,
   "id": "d2cc2983-e576-4fb3-be87-97be3b6c18e9",
   "metadata": {},
   "outputs": [
    {
     "ename": "SyntaxError",
     "evalue": "can't use starred expression here (<ipython-input-75-93dce5a5343a>, line 2)",
     "output_type": "error",
     "traceback": [
      "\u001b[1;36m  File \u001b[1;32m\"<ipython-input-75-93dce5a5343a>\"\u001b[1;36m, line \u001b[1;32m2\u001b[0m\n\u001b[1;33m    *[1,2,3]\u001b[0m\n\u001b[1;37m    ^\u001b[0m\n\u001b[1;31mSyntaxError\u001b[0m\u001b[1;31m:\u001b[0m can't use starred expression here\n"
     ]
    }
   ],
   "source": [
    "# Esto no sirve:\n",
    "*[1,2,3]"
   ]
  },
  {
   "cell_type": "code",
   "execution_count": 76,
   "id": "ff3986da-7802-4cb9-a5f7-02f1643eabee",
   "metadata": {},
   "outputs": [],
   "source": [
    "def sumar(a,b,c):\n",
    "    return a+b+c"
   ]
  },
  {
   "cell_type": "code",
   "execution_count": 77,
   "id": "2d5cbc57-4740-492d-b64a-94946d67ba73",
   "metadata": {},
   "outputs": [
    {
     "data": {
      "text/plain": [
       "8"
      ]
     },
     "execution_count": 77,
     "metadata": {},
     "output_type": "execute_result"
    }
   ],
   "source": [
    "sumar(*[1,2,5])"
   ]
  },
  {
   "cell_type": "markdown",
   "id": "94e890b1-df22-4f09-a981-c91a82f469d6",
   "metadata": {},
   "source": [
    "## zip\n",
    "\n",
    "zip es una función que toma dos listas y hace como si fuera un \"cierre\" (para iterar)"
   ]
  },
  {
   "cell_type": "code",
   "execution_count": 5,
   "id": "85241267-54fd-4717-9348-bc87b46c5cd7",
   "metadata": {},
   "outputs": [],
   "source": [
    "A = [1,2,3,4,5]\n",
    "B = [\"uno\", \"dos\", \"tres\", \"cuatro\"]"
   ]
  },
  {
   "cell_type": "code",
   "execution_count": 6,
   "id": "c7249ee0-e978-4f3f-88c0-4542628624cf",
   "metadata": {},
   "outputs": [
    {
     "name": "stdout",
     "output_type": "stream",
     "text": [
      "(1, 'uno')\n",
      "(2, 'dos')\n",
      "(3, 'tres')\n",
      "(4, 'cuatro')\n"
     ]
    }
   ],
   "source": [
    "for i in range(min(len(A),len(B))):\n",
    "    print((A[i],B[i]))"
   ]
  },
  {
   "cell_type": "code",
   "execution_count": 7,
   "id": "3bed88f0-c7c0-4eb2-b958-fdaf8ea64c77",
   "metadata": {},
   "outputs": [
    {
     "name": "stdout",
     "output_type": "stream",
     "text": [
      "1 se escribe uno\n",
      "2 se escribe dos\n",
      "3 se escribe tres\n",
      "4 se escribe cuatro\n"
     ]
    }
   ],
   "source": [
    "for x in zip(A,B):\n",
    "    print(f\"{x[0]} se escribe {x[1]}\")"
   ]
  },
  {
   "cell_type": "code",
   "execution_count": 8,
   "id": "06f0f479-d822-489c-9f26-1571af65cd76",
   "metadata": {},
   "outputs": [
    {
     "name": "stdout",
     "output_type": "stream",
     "text": [
      "1 se escribe uno\n",
      "2 se escribe dos\n",
      "3 se escribe tres\n",
      "4 se escribe cuatro\n"
     ]
    }
   ],
   "source": [
    "for a,b in zip(A,B):\n",
    "    print(f\"{a} se escribe {b}\")"
   ]
  },
  {
   "cell_type": "markdown",
   "id": "475ff379-0224-4f65-b0db-e798eec089b7",
   "metadata": {},
   "source": [
    "Por ejemplo, `enumerate` en realidad podría ser visto como un `zip` de un `range` con una colección:"
   ]
  },
  {
   "cell_type": "code",
   "execution_count": 78,
   "id": "2e3e29ff-c988-45c7-80d1-64ebff8d55f9",
   "metadata": {},
   "outputs": [],
   "source": [
    "X=\"asdf\""
   ]
  },
  {
   "cell_type": "code",
   "execution_count": 79,
   "id": "54aa8c79-29db-4be6-9397-386a52ec5fe3",
   "metadata": {},
   "outputs": [],
   "source": [
    "def mi_enumerate(X):\n",
    "    return zip(range(len(X)), X)"
   ]
  },
  {
   "cell_type": "code",
   "execution_count": 81,
   "id": "086d9612-22be-4f54-b294-1dcfd74f190f",
   "metadata": {},
   "outputs": [
    {
     "data": {
      "text/plain": [
       "[(0, 'a'), (1, 's'), (2, 'd'), (3, 'f')]"
      ]
     },
     "execution_count": 81,
     "metadata": {},
     "output_type": "execute_result"
    }
   ],
   "source": [
    "list(mi_enumerate(X))"
   ]
  },
  {
   "cell_type": "code",
   "execution_count": 85,
   "id": "47b39f73-129b-43ee-bea7-06a12015c00c",
   "metadata": {},
   "outputs": [],
   "source": [
    "A=list(enumerate(X))"
   ]
  },
  {
   "cell_type": "code",
   "execution_count": 86,
   "id": "4326350e-f13d-49de-8f6e-d55c4d9b9e14",
   "metadata": {},
   "outputs": [
    {
     "data": {
      "text/plain": [
       "[(0, 'a'), (1, 's'), (2, 'd'), (3, 'f')]"
      ]
     },
     "execution_count": 86,
     "metadata": {},
     "output_type": "execute_result"
    }
   ],
   "source": [
    "A"
   ]
  },
  {
   "cell_type": "code",
   "execution_count": 83,
   "id": "9a19b8d8-f5ae-4e3a-a8fd-bf3b76210b55",
   "metadata": {},
   "outputs": [
    {
     "name": "stdout",
     "output_type": "stream",
     "text": [
      "0 a\n",
      "1 s\n",
      "2 d\n",
      "3 f\n"
     ]
    }
   ],
   "source": [
    "for i,x in mi_enumerate(X):\n",
    "    print(i,x)"
   ]
  },
  {
   "cell_type": "code",
   "execution_count": 84,
   "id": "5db12f8a-5a20-4169-a8e6-09fd9a658ee5",
   "metadata": {},
   "outputs": [
    {
     "name": "stdout",
     "output_type": "stream",
     "text": [
      "0 a\n",
      "1 s\n",
      "2 d\n",
      "3 f\n"
     ]
    }
   ],
   "source": [
    "for i,x in enumerate(X):\n",
    "    print(i,x)"
   ]
  },
  {
   "cell_type": "markdown",
   "id": "af7c6986-7e10-411d-b7e3-8b8ed47b0c75",
   "metadata": {},
   "source": [
    "### Ejercicios\n",
    "\n",
    "1. Crea una función \"unzip\": Le pasas una lista de parejas y quiero que me regrese una pareja de colecciones.\n",
    "2. Crea la función anterior en una sola línea usando * y zip."
   ]
  },
  {
   "cell_type": "code",
   "execution_count": 87,
   "id": "9064c930-024c-406c-a32c-fab9d74afba1",
   "metadata": {},
   "outputs": [],
   "source": [
    "def unzip(lista_de_parejas):\n",
    "    return [x[0] for x in lista_de_parejas],[x[1] for x in lista_de_parejas] "
   ]
  },
  {
   "cell_type": "code",
   "execution_count": 90,
   "id": "baf14547-4008-4b45-a1e1-4700644f6306",
   "metadata": {},
   "outputs": [],
   "source": [
    "Lista_de_parejas=[(0,'a'),(1,'b'),(2,'c')]"
   ]
  },
  {
   "cell_type": "code",
   "execution_count": 92,
   "id": "494a0cde-927d-4413-a723-e0c5a5ebcee0",
   "metadata": {},
   "outputs": [
    {
     "data": {
      "text/plain": [
       "([0, 1, 2], ['a', 'b', 'c'])"
      ]
     },
     "execution_count": 92,
     "metadata": {},
     "output_type": "execute_result"
    }
   ],
   "source": [
    "unzip(Lista_de_parejas)"
   ]
  },
  {
   "cell_type": "code",
   "execution_count": 88,
   "id": "c8f6ad0d-3b3b-44a4-9466-ee08d60467e3",
   "metadata": {},
   "outputs": [
    {
     "data": {
      "text/plain": [
       "([0, 1, 2, 3], ['a', 's', 'd', 'f'])"
      ]
     },
     "execution_count": 88,
     "metadata": {},
     "output_type": "execute_result"
    }
   ],
   "source": [
    "unzip(A)"
   ]
  }
 ],
 "metadata": {
  "kernelspec": {
   "display_name": "Python 3",
   "language": "python",
   "name": "python3"
  },
  "language_info": {
   "codemirror_mode": {
    "name": "ipython",
    "version": 3
   },
   "file_extension": ".py",
   "mimetype": "text/x-python",
   "name": "python",
   "nbconvert_exporter": "python",
   "pygments_lexer": "ipython3",
   "version": "3.8.8"
  }
 },
 "nbformat": 4,
 "nbformat_minor": 5
}
