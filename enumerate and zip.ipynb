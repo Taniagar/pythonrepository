{
 "cells": [
  {
   "cell_type": "markdown",
   "id": "1e0cb1ee-8529-407f-b610-688f2a64e7fc",
   "metadata": {},
   "source": [
    "# Técnicas para tener código más bonito: `enumerate`, `*`, `zip`\n",
    "\n",
    "\n",
    "## Intro\n",
    "En general es **mucho mejor** iterar directamente sobre una lista (string, etc.) que sobre los índices de esa lista. Es decir, es mejor esto:"
   ]
  },
  {
   "cell_type": "code",
   "execution_count": 3,
   "id": "f0b6c221-0b07-4a3b-8ae0-b6dc93d5efbe",
   "metadata": {},
   "outputs": [],
   "source": [
    "X = ['a',1,2]"
   ]
  },
  {
   "cell_type": "code",
   "execution_count": 2,
   "id": "c40c7690-d42b-4bd3-b694-3055e865e901",
   "metadata": {},
   "outputs": [
    {
     "name": "stdout",
     "output_type": "stream",
     "text": [
      "a\n",
      "1\n",
      "2\n"
     ]
    }
   ],
   "source": [
    "for x in X:\n",
    "    print(x)"
   ]
  },
  {
   "cell_type": "markdown",
   "id": "5444a6a3-a76e-4088-bcff-74b7c050e810",
   "metadata": {},
   "source": [
    "Que esto:"
   ]
  },
  {
   "cell_type": "code",
   "execution_count": 4,
   "id": "960804b3-4186-422e-8bf5-1461f1d7e6e9",
   "metadata": {},
   "outputs": [
    {
     "name": "stdout",
     "output_type": "stream",
     "text": [
      "a\n",
      "1\n",
      "2\n"
     ]
    }
   ],
   "source": [
    "for i in range(len(X)):\n",
    "    print(X[i])"
   ]
  },
  {
   "cell_type": "markdown",
   "id": "4651be01-2b5c-4141-9c04-212c6a433c8b",
   "metadata": {},
   "source": [
    "## ¿Por qué podrías preferir los índices?\n",
    "\n",
    "Hay varias razones para usar los índices:\n",
    "\n",
    "1. A veces necesitas el índice, porque lo usas de cierta manera. Por ejemplo:"
   ]
  },
  {
   "cell_type": "code",
   "execution_count": 10,
   "id": "ee62a4b0-edb1-4a5d-b884-ee9389baf4d4",
   "metadata": {},
   "outputs": [],
   "source": [
    "for i in range(len(X)):\n",
    "    X[i] = i**2"
   ]
  },
  {
   "cell_type": "code",
   "execution_count": 6,
   "id": "d25b3d11-41ad-41ad-9b0f-536fbcf9b9d4",
   "metadata": {},
   "outputs": [
    {
     "data": {
      "text/plain": [
       "3"
      ]
     },
     "execution_count": 6,
     "metadata": {},
     "output_type": "execute_result"
    }
   ],
   "source": [
    "len(X)"
   ]
  },
  {
   "cell_type": "code",
   "execution_count": 11,
   "id": "0809b8bd-a9b1-4784-9ebb-b3a0d14c36ac",
   "metadata": {},
   "outputs": [
    {
     "data": {
      "text/plain": [
       "[0, 1, 4]"
      ]
     },
     "execution_count": 11,
     "metadata": {},
     "output_type": "execute_result"
    }
   ],
   "source": [
    "X"
   ]
  },
  {
   "cell_type": "markdown",
   "id": "0c7c6db2-04e5-430a-9f44-5462d54acbff",
   "metadata": {},
   "source": [
    "Es decir, si no usas el índice directamente, seguramente no lo necesitas."
   ]
  },
  {
   "cell_type": "markdown",
   "id": "0ee1ae9f-a6ac-4a15-9b84-d8fa07599a04",
   "metadata": {},
   "source": [
    "2. Otra posible razón es que quieras modificar la lista:"
   ]
  },
  {
   "cell_type": "code",
   "execution_count": 13,
   "id": "668dd532-f14b-43b3-b271-8fe7071099d6",
   "metadata": {},
   "outputs": [],
   "source": [
    "# No funciona como quisiéramos\n",
    "for x in X:\n",
    "    x += 10"
   ]
  },
  {
   "cell_type": "code",
   "execution_count": 14,
   "id": "fdc57124-a23e-4615-9f38-87bf99d93e08",
   "metadata": {},
   "outputs": [
    {
     "data": {
      "text/plain": [
       "[0, 1, 4]"
      ]
     },
     "execution_count": 14,
     "metadata": {},
     "output_type": "execute_result"
    }
   ],
   "source": [
    "X"
   ]
  },
  {
   "cell_type": "code",
   "execution_count": 31,
   "id": "4ee9720f-91fa-4b34-9b07-0239a8c27dfd",
   "metadata": {},
   "outputs": [],
   "source": [
    "# Esto sí funciona!\n",
    "for i in range(len(X)):\n",
    "    X[i] += 10"
   ]
  },
  {
   "cell_type": "code",
   "execution_count": 16,
   "id": "46b4b026-ee72-4558-9f3c-7a66e4a1b8d1",
   "metadata": {},
   "outputs": [
    {
     "data": {
      "text/plain": [
       "[10, 11, 14]"
      ]
     },
     "execution_count": 16,
     "metadata": {},
     "output_type": "execute_result"
    }
   ],
   "source": [
    "X"
   ]
  },
  {
   "cell_type": "markdown",
   "id": "d1fc1cb5-74fd-44a8-8ffe-bc22d555586d",
   "metadata": {},
   "source": [
    "## `enumerate`\n",
    "\n",
    "Hay una mejor manera!"
   ]
  },
  {
   "cell_type": "code",
   "execution_count": 17,
   "id": "a52d76de-e8d5-4403-9d9a-3dbf0b5eaef9",
   "metadata": {},
   "outputs": [
    {
     "name": "stdout",
     "output_type": "stream",
     "text": [
      "10 tiene índice 0\n",
      "11 tiene índice 1\n",
      "14 tiene índice 2\n"
     ]
    }
   ],
   "source": [
    "for i, x in enumerate(X):\n",
    "    print(f\"{x} tiene índice {i}\")"
   ]
  },
  {
   "cell_type": "code",
   "execution_count": 36,
   "id": "9442b331-aa01-4f8c-8d8e-850ec4fb38ca",
   "metadata": {},
   "outputs": [
    {
     "name": "stdout",
     "output_type": "stream",
     "text": [
      "0 0\n",
      "1 1\n",
      "4 2\n"
     ]
    }
   ],
   "source": [
    "for i, x in enumerate(X):\n",
    "    print(x,i)"
   ]
  },
  {
   "cell_type": "code",
   "execution_count": 19,
   "id": "f9cede7d-599c-4253-8d30-c58d2af25fa0",
   "metadata": {},
   "outputs": [
    {
     "data": {
      "text/plain": [
       "[(0, 10), (1, 11), (2, 14)]"
      ]
     },
     "execution_count": 19,
     "metadata": {},
     "output_type": "execute_result"
    }
   ],
   "source": [
    "list(enumerate(X))"
   ]
  },
  {
   "cell_type": "code",
   "execution_count": 20,
   "id": "d6793b04-80a1-42e2-a49b-fd9e80fe8031",
   "metadata": {},
   "outputs": [
    {
     "data": {
      "text/plain": [
       "[0, 1, 2, 3, 4, 5, 6, 7, 8, 9]"
      ]
     },
     "execution_count": 20,
     "metadata": {},
     "output_type": "execute_result"
    }
   ],
   "source": [
    "list(range(10))"
   ]
  },
  {
   "cell_type": "markdown",
   "id": "91b401e8-b69e-4527-860f-7492725b7030",
   "metadata": {},
   "source": [
    "Usar `for i in range(len(X))` básicamente nunca está bien. Siempre es mejor usar `enumerate`. Para modificar un elemento en la lista lo accesas con `[i]`, pero para usarlo simplemente accésalo con x."
   ]
  },
  {
   "cell_type": "code",
   "execution_count": 12,
   "id": "fe355307-b52d-4ee0-94c7-d2e6b6f105a3",
   "metadata": {},
   "outputs": [],
   "source": [
    "for i, x in enumerate(X):\n",
    "    X[i] = (x+1)**2/8\n",
    "   "
   ]
  },
  {
   "cell_type": "code",
   "execution_count": 13,
   "id": "b2f65d26-35a4-4406-acfd-31c21b2f2b78",
   "metadata": {},
   "outputs": [
    {
     "data": {
      "text/plain": [
       "[0.125, 0.5, 3.125]"
      ]
     },
     "execution_count": 13,
     "metadata": {},
     "output_type": "execute_result"
    }
   ],
   "source": [
    "X"
   ]
  },
  {
   "cell_type": "markdown",
   "id": "94e890b1-df22-4f09-a981-c91a82f469d6",
   "metadata": {},
   "source": [
    "## zip\n",
    "\n",
    "zip es una función que toma dos listas y hace como si fuera un \"cierre\" (para iterar)"
   ]
  },
  {
   "cell_type": "code",
   "execution_count": 5,
   "id": "85241267-54fd-4717-9348-bc87b46c5cd7",
   "metadata": {},
   "outputs": [],
   "source": [
    "A = [1,2,3,4,5]\n",
    "B = [\"uno\", \"dos\", \"tres\", \"cuatro\"]"
   ]
  },
  {
   "cell_type": "code",
   "execution_count": 6,
   "id": "c7249ee0-e978-4f3f-88c0-4542628624cf",
   "metadata": {},
   "outputs": [
    {
     "name": "stdout",
     "output_type": "stream",
     "text": [
      "(1, 'uno')\n",
      "(2, 'dos')\n",
      "(3, 'tres')\n",
      "(4, 'cuatro')\n"
     ]
    }
   ],
   "source": [
    "for i in range(min(len(A),len(B))):\n",
    "    print((A[i],B[i]))"
   ]
  },
  {
   "cell_type": "code",
   "execution_count": 7,
   "id": "3bed88f0-c7c0-4eb2-b958-fdaf8ea64c77",
   "metadata": {},
   "outputs": [
    {
     "name": "stdout",
     "output_type": "stream",
     "text": [
      "1 se escribe uno\n",
      "2 se escribe dos\n",
      "3 se escribe tres\n",
      "4 se escribe cuatro\n"
     ]
    }
   ],
   "source": [
    "for x in zip(A,B):\n",
    "    print(f\"{x[0]} se escribe {x[1]}\")"
   ]
  },
  {
   "cell_type": "code",
   "execution_count": 8,
   "id": "06f0f479-d822-489c-9f26-1571af65cd76",
   "metadata": {},
   "outputs": [
    {
     "name": "stdout",
     "output_type": "stream",
     "text": [
      "1 se escribe uno\n",
      "2 se escribe dos\n",
      "3 se escribe tres\n",
      "4 se escribe cuatro\n"
     ]
    }
   ],
   "source": [
    "for a,b in zip(A,B):\n",
    "    print(f\"{a} se escribe {b}\")"
   ]
  },
  {
   "cell_type": "markdown",
   "id": "475ff379-0224-4f65-b0db-e798eec089b7",
   "metadata": {},
   "source": [
    "Por ejemplo, `enumerate` en realidad podría ser visto como un `zip` de un `range` con una colección:"
   ]
  },
  {
   "cell_type": "code",
   "execution_count": 10,
   "id": "2e3e29ff-c988-45c7-80d1-64ebff8d55f9",
   "metadata": {},
   "outputs": [],
   "source": [
    "X=\"asdf\""
   ]
  },
  {
   "cell_type": "code",
   "execution_count": 11,
   "id": "54aa8c79-29db-4be6-9397-386a52ec5fe3",
   "metadata": {},
   "outputs": [],
   "source": [
    "def mi_enumerate(X):\n",
    "    return zip(range(len(X)), X)"
   ]
  },
  {
   "cell_type": "code",
   "execution_count": 12,
   "id": "9a19b8d8-f5ae-4e3a-a8fd-bf3b76210b55",
   "metadata": {},
   "outputs": [
    {
     "name": "stdout",
     "output_type": "stream",
     "text": [
      "0 a\n",
      "1 s\n",
      "2 d\n",
      "3 f\n"
     ]
    }
   ],
   "source": [
    "for i,x in mi_enumerate(X):\n",
    "    print(i,x)"
   ]
  },
  {
   "cell_type": "code",
   "execution_count": 13,
   "id": "5db12f8a-5a20-4169-a8e6-09fd9a658ee5",
   "metadata": {},
   "outputs": [
    {
     "name": "stdout",
     "output_type": "stream",
     "text": [
      "0 a\n",
      "1 s\n",
      "2 d\n",
      "3 f\n"
     ]
    }
   ],
   "source": [
    "for i,x in enumerate(X):\n",
    "    print(i,x)"
   ]
  },
  {
   "cell_type": "markdown",
   "id": "af7c6986-7e10-411d-b7e3-8b8ed47b0c75",
   "metadata": {},
   "source": [
    "### Ejercicios\n",
    "\n",
    "1. Crea una función \"unzip\": Le pasas una lista de parejas y quiero que me regrese una pareja de colecciones.\n",
    "2. Crea la función anterior en una sola línea usando * y zip."
   ]
  },
  {
   "cell_type": "code",
   "execution_count": 1,
   "id": "9064c930-024c-406c-a32c-fab9d74afba1",
   "metadata": {},
   "outputs": [],
   "source": [
    "def unzip(lista_de_parejas):\n",
    "    return [x[0] for x in lista_de_parejas],[x[1] for x in lista_de_parejas] "
   ]
  },
  {
   "cell_type": "code",
   "execution_count": 2,
   "id": "baf14547-4008-4b45-a1e1-4700644f6306",
   "metadata": {},
   "outputs": [],
   "source": [
    "Lista_de_parejas=[(0,'a'),(1,'b'),(2,'c')]"
   ]
  },
  {
   "cell_type": "code",
   "execution_count": 4,
   "id": "c8f6ad0d-3b3b-44a4-9466-ee08d60467e3",
   "metadata": {},
   "outputs": [
    {
     "data": {
      "text/plain": [
       "([0, 1, 2], ['a', 'b', 'c'])"
      ]
     },
     "execution_count": 4,
     "metadata": {},
     "output_type": "execute_result"
    }
   ],
   "source": [
    "unzip(Lista_de_parejas)"
   ]
  }
 ],
 "metadata": {
  "kernelspec": {
   "display_name": "Python 3",
   "language": "python",
   "name": "python3"
  },
  "language_info": {
   "codemirror_mode": {
    "name": "ipython",
    "version": 3
   },
   "file_extension": ".py",
   "mimetype": "text/x-python",
   "name": "python",
   "nbconvert_exporter": "python",
   "pygments_lexer": "ipython3",
   "version": "3.8.8"
  }
 },
 "nbformat": 4,
 "nbformat_minor": 5
}
