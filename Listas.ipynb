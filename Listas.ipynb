{
 "cells": [
  {
   "cell_type": "code",
   "execution_count": 1,
   "id": "a0b8211f-e92d-470a-8d83-62acb522d17a",
   "metadata": {},
   "outputs": [],
   "source": [
    "L=[1,5,7,9,0]"
   ]
  },
  {
   "cell_type": "code",
   "execution_count": 2,
   "id": "11a311b8-3654-4039-a635-575dbdfd045f",
   "metadata": {},
   "outputs": [
    {
     "data": {
      "text/plain": [
       "[1, 5, 7, 9, 0]"
      ]
     },
     "execution_count": 2,
     "metadata": {},
     "output_type": "execute_result"
    }
   ],
   "source": [
    "L"
   ]
  },
  {
   "cell_type": "code",
   "execution_count": 3,
   "id": "5fcf06b8-a960-4403-b2d2-1d979ebdb138",
   "metadata": {},
   "outputs": [
    {
     "data": {
      "text/plain": [
       "1"
      ]
     },
     "execution_count": 3,
     "metadata": {},
     "output_type": "execute_result"
    }
   ],
   "source": [
    "L[0]"
   ]
  },
  {
   "cell_type": "code",
   "execution_count": 4,
   "id": "77fe759d-b014-47ac-b9ce-f141d1c7382f",
   "metadata": {},
   "outputs": [
    {
     "data": {
      "text/plain": [
       "0"
      ]
     },
     "execution_count": 4,
     "metadata": {},
     "output_type": "execute_result"
    }
   ],
   "source": [
    "L[4]"
   ]
  },
  {
   "cell_type": "code",
   "execution_count": 5,
   "id": "68357a34-bda0-41b0-8cf9-b5cc81972c7a",
   "metadata": {},
   "outputs": [
    {
     "ename": "IndexError",
     "evalue": "list index out of range",
     "output_type": "error",
     "traceback": [
      "\u001b[1;31m---------------------------------------------------------------------------\u001b[0m",
      "\u001b[1;31mIndexError\u001b[0m                                Traceback (most recent call last)",
      "\u001b[1;32m<ipython-input-5-7cef68ff5cbc>\u001b[0m in \u001b[0;36m<module>\u001b[1;34m\u001b[0m\n\u001b[1;32m----> 1\u001b[1;33m \u001b[0mL\u001b[0m\u001b[1;33m[\u001b[0m\u001b[1;36m6\u001b[0m\u001b[1;33m]\u001b[0m\u001b[1;33m\u001b[0m\u001b[1;33m\u001b[0m\u001b[0m\n\u001b[0m",
      "\u001b[1;31mIndexError\u001b[0m: list index out of range"
     ]
    }
   ],
   "source": [
    "L[6]"
   ]
  },
  {
   "cell_type": "code",
   "execution_count": 6,
   "id": "94225118-0c4e-4382-ad66-9723ea27b0ae",
   "metadata": {},
   "outputs": [
    {
     "data": {
      "text/plain": [
       "[True, 'hola', 5]"
      ]
     },
     "execution_count": 6,
     "metadata": {},
     "output_type": "execute_result"
    }
   ],
   "source": [
    "L = [True, \"hola\", 5]; L"
   ]
  },
  {
   "cell_type": "code",
   "execution_count": 7,
   "id": "41df1ad5-3c07-48d6-9678-ce99c1f4433e",
   "metadata": {},
   "outputs": [
    {
     "data": {
      "text/plain": [
       "5"
      ]
     },
     "execution_count": 7,
     "metadata": {},
     "output_type": "execute_result"
    }
   ],
   "source": [
    "L[2]"
   ]
  },
  {
   "cell_type": "code",
   "execution_count": 8,
   "id": "83d14bfc-c985-4cb2-964a-d649cf3dadf7",
   "metadata": {},
   "outputs": [
    {
     "data": {
      "text/plain": [
       "3"
      ]
     },
     "execution_count": 8,
     "metadata": {},
     "output_type": "execute_result"
    }
   ],
   "source": [
    "len(L)"
   ]
  },
  {
   "cell_type": "code",
   "execution_count": 9,
   "id": "7f482915-f41d-48db-ab81-ffa3a0876da8",
   "metadata": {},
   "outputs": [
    {
     "data": {
      "text/plain": [
       "4"
      ]
     },
     "execution_count": 9,
     "metadata": {},
     "output_type": "execute_result"
    }
   ],
   "source": [
    "L=[1,2,4,5]\n",
    "len(L)"
   ]
  },
  {
   "cell_type": "code",
   "execution_count": 12,
   "id": "adcab1f8-6a2c-4826-acee-46e9e0ad3d76",
   "metadata": {},
   "outputs": [
    {
     "data": {
      "text/plain": [
       "[1, 7, 9, 8]"
      ]
     },
     "execution_count": 12,
     "metadata": {},
     "output_type": "execute_result"
    }
   ],
   "source": [
    "L=[1,7, 9 ,8]; L"
   ]
  },
  {
   "cell_type": "code",
   "execution_count": 13,
   "id": "dbd757fa-7e1d-4017-8a15-72a8808458e2",
   "metadata": {},
   "outputs": [
    {
     "data": {
      "text/plain": [
       "4"
      ]
     },
     "execution_count": 13,
     "metadata": {},
     "output_type": "execute_result"
    }
   ],
   "source": [
    "len(L)"
   ]
  },
  {
   "cell_type": "markdown",
   "id": "8c5394c9-41f3-4954-9081-e594342ce102",
   "metadata": {},
   "source": [
    " Para tomar el elemento final en la lista le hacemos asi"
   ]
  },
  {
   "cell_type": "code",
   "execution_count": 14,
   "id": "26156b90-1e3c-4686-a094-7bca0c984274",
   "metadata": {},
   "outputs": [
    {
     "data": {
      "text/plain": [
       "8"
      ]
     },
     "execution_count": 14,
     "metadata": {},
     "output_type": "execute_result"
    }
   ],
   "source": [
    "L[len(L)-1]"
   ]
  },
  {
   "cell_type": "code",
   "execution_count": 16,
   "id": "3490ba0f-f616-494f-8180-84155cfc86f1",
   "metadata": {},
   "outputs": [
    {
     "data": {
      "text/plain": [
       "8"
      ]
     },
     "execution_count": 16,
     "metadata": {},
     "output_type": "execute_result"
    }
   ],
   "source": [
    "L[-1]"
   ]
  },
  {
   "cell_type": "code",
   "execution_count": 17,
   "id": "31503a78-169e-45b7-834a-4a6c18edb231",
   "metadata": {},
   "outputs": [
    {
     "data": {
      "text/plain": [
       "9"
      ]
     },
     "execution_count": 17,
     "metadata": {},
     "output_type": "execute_result"
    }
   ],
   "source": [
    "L[-2]"
   ]
  },
  {
   "cell_type": "code",
   "execution_count": 18,
   "id": "b4fa1d88-85e1-42ac-a1ef-94ef788365c2",
   "metadata": {},
   "outputs": [
    {
     "data": {
      "text/plain": [
       "7"
      ]
     },
     "execution_count": 18,
     "metadata": {},
     "output_type": "execute_result"
    }
   ],
   "source": [
    "L[-3]"
   ]
  },
  {
   "cell_type": "code",
   "execution_count": 19,
   "id": "530cec0f-b61e-4237-b5a8-0802864e0331",
   "metadata": {},
   "outputs": [
    {
     "data": {
      "text/plain": [
       "1"
      ]
     },
     "execution_count": 19,
     "metadata": {},
     "output_type": "execute_result"
    }
   ],
   "source": [
    "L[-4]"
   ]
  },
  {
   "cell_type": "code",
   "execution_count": 20,
   "id": "d56edced-d7f0-4f1c-b845-0025e96b69c8",
   "metadata": {},
   "outputs": [
    {
     "ename": "IndexError",
     "evalue": "list index out of range",
     "output_type": "error",
     "traceback": [
      "\u001b[1;31m---------------------------------------------------------------------------\u001b[0m",
      "\u001b[1;31mIndexError\u001b[0m                                Traceback (most recent call last)",
      "\u001b[1;32m<ipython-input-20-6481c767790b>\u001b[0m in \u001b[0;36m<module>\u001b[1;34m\u001b[0m\n\u001b[1;32m----> 1\u001b[1;33m \u001b[0mL\u001b[0m\u001b[1;33m[\u001b[0m\u001b[1;33m-\u001b[0m\u001b[1;36m5\u001b[0m\u001b[1;33m]\u001b[0m\u001b[1;33m\u001b[0m\u001b[1;33m\u001b[0m\u001b[0m\n\u001b[0m",
      "\u001b[1;31mIndexError\u001b[0m: list index out of range"
     ]
    }
   ],
   "source": [
    "L[-5]"
   ]
  },
  {
   "cell_type": "code",
   "execution_count": 2,
   "id": "083df6ed-a051-421c-b0f8-3929950ce1c9",
   "metadata": {},
   "outputs": [],
   "source": [
    "L=[1,3,5,2,7,8,7,8,9,0,0,0,0,9]"
   ]
  },
  {
   "cell_type": "code",
   "execution_count": 23,
   "id": "6bdf9168-c760-41c5-9ec3-ecccf2f8dcbb",
   "metadata": {},
   "outputs": [],
   "source": [
    "L.sort()"
   ]
  },
  {
   "cell_type": "code",
   "execution_count": 24,
   "id": "809a9e1d-7d6a-4ab0-87df-f763d91cce93",
   "metadata": {},
   "outputs": [
    {
     "data": {
      "text/plain": [
       "[0, 0, 0, 0, 1, 2, 3, 5, 7, 7, 8, 8, 9, 9]"
      ]
     },
     "execution_count": 24,
     "metadata": {},
     "output_type": "execute_result"
    }
   ],
   "source": [
    "L"
   ]
  },
  {
   "cell_type": "code",
   "execution_count": 7,
   "id": "11dd3ffd-fc64-4d42-9a7b-444387293199",
   "metadata": {},
   "outputs": [],
   "source": [
    "K=['negro', 'verde', 'morado', 'amarillo', 'azul']\n",
    "K.sort()"
   ]
  },
  {
   "cell_type": "code",
   "execution_count": 8,
   "id": "647d2b6a-1d2e-4304-8c0e-212fbe45302d",
   "metadata": {},
   "outputs": [
    {
     "data": {
      "text/plain": [
       "['amarillo', 'azul', 'morado', 'negro', 'verde']"
      ]
     },
     "execution_count": 8,
     "metadata": {},
     "output_type": "execute_result"
    }
   ],
   "source": [
    "K"
   ]
  },
  {
   "cell_type": "code",
   "execution_count": 5,
   "id": "8eb9341b-a8b1-4c9d-94f4-4aaaa705b556",
   "metadata": {},
   "outputs": [],
   "source": [
    "L.append(67)"
   ]
  },
  {
   "cell_type": "code",
   "execution_count": 6,
   "id": "2389eb9b-7194-4f68-a819-3f3aeb17cbaf",
   "metadata": {},
   "outputs": [
    {
     "data": {
      "text/plain": [
       "[1, 3, 5, 2, 7, 8, 7, 8, 9, 0, 0, 0, 0, 9, 67]"
      ]
     },
     "execution_count": 6,
     "metadata": {},
     "output_type": "execute_result"
    }
   ],
   "source": [
    "L"
   ]
  },
  {
   "cell_type": "code",
   "execution_count": 161,
   "id": "b2c31350-4a6b-416e-a335-12d1ad2202e4",
   "metadata": {},
   "outputs": [],
   "source": [
    "L=[4,1,9]"
   ]
  },
  {
   "cell_type": "code",
   "execution_count": 162,
   "id": "57510f74-be15-4002-abdb-71de50c67877",
   "metadata": {},
   "outputs": [],
   "source": [
    "L.insert(1,{2,5})"
   ]
  },
  {
   "cell_type": "code",
   "execution_count": 163,
   "id": "7344cc80-d854-4de4-92c4-765466b3dd2a",
   "metadata": {},
   "outputs": [
    {
     "data": {
      "text/plain": [
       "[4, {2, 5}, 1, 9]"
      ]
     },
     "execution_count": 163,
     "metadata": {},
     "output_type": "execute_result"
    }
   ],
   "source": [
    "L"
   ]
  },
  {
   "cell_type": "code",
   "execution_count": 58,
   "id": "81125c37-2af7-4353-89f7-7d20ca93643a",
   "metadata": {},
   "outputs": [],
   "source": [
    "L = [1,2,3,6,9,4]\n",
    "M = [a**2 for a in L]"
   ]
  },
  {
   "cell_type": "code",
   "execution_count": 59,
   "id": "e3e1f9a1-7d79-447e-bc76-10d2f06a5f9d",
   "metadata": {},
   "outputs": [
    {
     "data": {
      "text/plain": [
       "[1, 4, 9, 36, 81, 16]"
      ]
     },
     "execution_count": 59,
     "metadata": {},
     "output_type": "execute_result"
    }
   ],
   "source": [
    "M"
   ]
  },
  {
   "cell_type": "code",
   "execution_count": 67,
   "id": "6c2b48c8-4575-47c5-90b1-e6fb0473423e",
   "metadata": {},
   "outputs": [
    {
     "data": {
      "text/plain": [
       "[1, 2, 3, 6, 0, 4]"
      ]
     },
     "execution_count": 67,
     "metadata": {},
     "output_type": "execute_result"
    }
   ],
   "source": [
    "L[4]=0; L"
   ]
  },
  {
   "cell_type": "markdown",
   "id": "d9ee2c4c-e76d-4eb7-8666-bd32df98f51d",
   "metadata": {},
   "source": [
    "Las \"tuplas\" se ponen con paréntesis. La diferencia es que no puedes modificarlas una vez creadas."
   ]
  },
  {
   "cell_type": "code",
   "execution_count": 5,
   "id": "466c3e14-6710-477d-ade0-02baadb8cce2",
   "metadata": {},
   "outputs": [
    {
     "data": {
      "text/plain": [
       "(1, 3, 9, 9)"
      ]
     },
     "execution_count": 5,
     "metadata": {},
     "output_type": "execute_result"
    }
   ],
   "source": [
    "tupla=(1,3,9,9); tupla"
   ]
  },
  {
   "cell_type": "code",
   "execution_count": 66,
   "id": "d7a2b88d-e8bc-48eb-99a2-0484025108fb",
   "metadata": {},
   "outputs": [
    {
     "ename": "TypeError",
     "evalue": "'tuple' object does not support item assignment",
     "output_type": "error",
     "traceback": [
      "\u001b[1;31m---------------------------------------------------------------------------\u001b[0m",
      "\u001b[1;31mTypeError\u001b[0m                                 Traceback (most recent call last)",
      "\u001b[1;32m<ipython-input-66-954c3c810e2d>\u001b[0m in \u001b[0;36m<module>\u001b[1;34m\u001b[0m\n\u001b[1;32m----> 1\u001b[1;33m \u001b[0mtupla\u001b[0m\u001b[1;33m[\u001b[0m\u001b[1;36m2\u001b[0m\u001b[1;33m]\u001b[0m\u001b[1;33m=\u001b[0m\u001b[1;36m6\u001b[0m\u001b[1;33m\u001b[0m\u001b[1;33m\u001b[0m\u001b[0m\n\u001b[0m",
      "\u001b[1;31mTypeError\u001b[0m: 'tuple' object does not support item assignment"
     ]
    }
   ],
   "source": [
    "tupla[2]=6"
   ]
  },
  {
   "cell_type": "code",
   "execution_count": 72,
   "id": "741d0d85-9294-4633-94a3-387e28c7bbc3",
   "metadata": {},
   "outputs": [],
   "source": [
    "L=[(1,1),(2,2),(1,3),(5,5),(2,3),(2.5,4.5)]"
   ]
  },
  {
   "cell_type": "code",
   "execution_count": 26,
   "id": "faa68eb0-e0f4-45f1-9a29-21089a1de3a5",
   "metadata": {},
   "outputs": [
    {
     "data": {
      "text/plain": [
       "range(0, 10)"
      ]
     },
     "execution_count": 26,
     "metadata": {},
     "output_type": "execute_result"
    }
   ],
   "source": [
    "k=range(10); k"
   ]
  },
  {
   "cell_type": "code",
   "execution_count": 77,
   "id": "ed6aae14-646f-450a-b2a5-dcfaae35eea0",
   "metadata": {},
   "outputs": [
    {
     "data": {
      "text/plain": [
       "[0, 1, 2, 3, 4, 5, 6, 7, 8, 9]"
      ]
     },
     "execution_count": 77,
     "metadata": {},
     "output_type": "execute_result"
    }
   ],
   "source": [
    "list(range(10))"
   ]
  },
  {
   "cell_type": "code",
   "execution_count": 78,
   "id": "0d564593-5b16-4ea5-be4d-02c268c5df09",
   "metadata": {},
   "outputs": [
    {
     "data": {
      "text/plain": [
       "[5, 6, 7, 8, 9]"
      ]
     },
     "execution_count": 78,
     "metadata": {},
     "output_type": "execute_result"
    }
   ],
   "source": [
    "list(range(5,10))"
   ]
  },
  {
   "cell_type": "code",
   "execution_count": 27,
   "id": "f8e149e4-8a68-4eb2-b519-391436fdfaf0",
   "metadata": {},
   "outputs": [
    {
     "data": {
      "text/plain": [
       "[5, 6, 7, 8, 9]"
      ]
     },
     "execution_count": 27,
     "metadata": {},
     "output_type": "execute_result"
    }
   ],
   "source": [
    "[x for x in range(5,10)]"
   ]
  },
  {
   "cell_type": "code",
   "execution_count": 179,
   "id": "371563b6-3523-49ac-8fb6-3ae9e85def97",
   "metadata": {},
   "outputs": [
    {
     "name": "stdout",
     "output_type": "stream",
     "text": [
      "0\n",
      "1\n",
      "2\n",
      "3\n",
      "4\n"
     ]
    }
   ],
   "source": [
    " for i in range(5):\n",
    "    print(i)"
   ]
  },
  {
   "cell_type": "code",
   "execution_count": 86,
   "id": "8032b787-9599-49e8-a33c-e96a01b00b2c",
   "metadata": {},
   "outputs": [
    {
     "data": {
      "text/plain": [
       "[0, 2, 4, 6, 8]"
      ]
     },
     "execution_count": 86,
     "metadata": {},
     "output_type": "execute_result"
    }
   ],
   "source": [
    "[x for x in range(10) if x % 2 == 0]"
   ]
  },
  {
   "cell_type": "code",
   "execution_count": 2,
   "id": "4e3fc42d-6bc1-4976-bd63-cf115ffd0e17",
   "metadata": {},
   "outputs": [],
   "source": [
    "import random"
   ]
  },
  {
   "cell_type": "code",
   "execution_count": 9,
   "id": "8c75c38c-ecd2-48e2-ace0-220b10814dd7",
   "metadata": {},
   "outputs": [],
   "source": [
    "L = [random.random() for i in range(10)]"
   ]
  },
  {
   "cell_type": "code",
   "execution_count": 10,
   "id": "46bb8b90-285a-43c7-a419-5c806fd9d535",
   "metadata": {},
   "outputs": [
    {
     "data": {
      "text/plain": [
       "[0.671764950095144,\n",
       " 0.3626670784565664,\n",
       " 0.9826092133652417,\n",
       " 0.7735663821126377,\n",
       " 0.5538464004777328,\n",
       " 0.7342862159047272,\n",
       " 0.8660129344103836,\n",
       " 0.00731299144740738,\n",
       " 0.9252328567265728,\n",
       " 0.1937474316096156]"
      ]
     },
     "execution_count": 10,
     "metadata": {},
     "output_type": "execute_result"
    }
   ],
   "source": [
    "L"
   ]
  },
  {
   "cell_type": "code",
   "execution_count": 13,
   "id": "f69e9102-ec77-4c89-a1c8-03a857d7df9c",
   "metadata": {},
   "outputs": [
    {
     "name": "stdout",
     "output_type": "stream",
     "text": [
      "Comienza el PC\n"
     ]
    },
    {
     "data": {
      "text/plain": [
       "5"
      ]
     },
     "execution_count": 13,
     "metadata": {},
     "output_type": "execute_result"
    }
   ],
   "source": [
    "# ¿Quién comienza?\n",
    "comienza = random.randint(0, 1)\n",
    "if comienza == 0:\n",
    "    print('Comienza el jugador')\n",
    "else:\n",
    "    print('Comienza el PC')\n",
    "# Número aleatorio del parchís\n",
    "numero = random.randint(1, 6)\n",
    "numero"
   ]
  },
  {
   "cell_type": "code",
   "execution_count": 5,
   "id": "37a6d300-1240-4319-946e-9f46bb11a2e6",
   "metadata": {},
   "outputs": [
    {
     "name": "stdin",
     "output_type": "stream",
     "text": [
      " 8\n"
     ]
    },
    {
     "data": {
      "text/plain": [
       "[1, 8, 7, 8, 7, 5, 3, 8, 7]"
      ]
     },
     "execution_count": 5,
     "metadata": {},
     "output_type": "execute_result"
    }
   ],
   "source": [
    "n=int(input())\n",
    "L=[random.randint(1,n) for i in range(n+1)]; L"
   ]
  },
  {
   "cell_type": "code",
   "execution_count": 94,
   "id": "69600731-e692-4ce4-a16b-3206274d9de1",
   "metadata": {},
   "outputs": [
    {
     "data": {
      "text/plain": [
       "[[1, 2, 3], [4, 5, 6], [8], []]"
      ]
     },
     "execution_count": 94,
     "metadata": {},
     "output_type": "execute_result"
    }
   ],
   "source": [
    "L = [[1,2,3],[4,5,6],[8],[]]; L"
   ]
  },
  {
   "cell_type": "code",
   "execution_count": 95,
   "id": "36ddadf6-e0fa-4637-9059-879aded4ce38",
   "metadata": {},
   "outputs": [
    {
     "data": {
      "text/plain": [
       "[1, 2, 3]"
      ]
     },
     "execution_count": 95,
     "metadata": {},
     "output_type": "execute_result"
    }
   ],
   "source": [
    "L[0]"
   ]
  },
  {
   "cell_type": "code",
   "execution_count": 97,
   "id": "0a2a9b81-08b6-4336-9226-f2edaca3840a",
   "metadata": {},
   "outputs": [],
   "source": [
    "# Considera el siguiente codigo:\n",
    "a = 5\n",
    "b = a\n",
    "b = b+2"
   ]
  },
  {
   "cell_type": "code",
   "execution_count": 98,
   "id": "9cf58ef6-e3fa-4ff7-bd29-b7d9defd9204",
   "metadata": {},
   "outputs": [
    {
     "data": {
      "text/plain": [
       "5"
      ]
     },
     "execution_count": 98,
     "metadata": {},
     "output_type": "execute_result"
    }
   ],
   "source": [
    "a"
   ]
  },
  {
   "cell_type": "code",
   "execution_count": 119,
   "id": "94e63611-d32c-403a-a7d8-96022471a202",
   "metadata": {},
   "outputs": [],
   "source": [
    "# La respuesta es facil, pues a vale 5, porque cuando modificamos a b no se modifica a\n",
    "\n",
    "# Pero ahora considera lo siguiente:\n",
    "\n",
    "L = [0,1,2,3,4,5,6,7,8,9]\n",
    "\n",
    "#M = L\n",
    "\n",
    "#M[4] = 999"
   ]
  },
  {
   "cell_type": "code",
   "execution_count": 107,
   "id": "3320d29c-c782-4116-874a-98e5952ef4b7",
   "metadata": {},
   "outputs": [
    {
     "data": {
      "text/plain": [
       "999"
      ]
     },
     "execution_count": 107,
     "metadata": {},
     "output_type": "execute_result"
    }
   ],
   "source": [
    "# Ahora cuanto vale L[4]?\n",
    "# La respuesta sorprende:\n",
    "L[4]"
   ]
  },
  {
   "cell_type": "code",
   "execution_count": 108,
   "id": "ab4b1750-ca6e-420c-9a38-5da570acde6e",
   "metadata": {},
   "outputs": [
    {
     "data": {
      "text/plain": [
       "[0, 1, 2, 3, 999, 5, 6, 7, 8, 9]"
      ]
     },
     "execution_count": 108,
     "metadata": {},
     "output_type": "execute_result"
    }
   ],
   "source": [
    "L"
   ]
  },
  {
   "cell_type": "code",
   "execution_count": 110,
   "id": "66d9a658-0c2c-4ccf-baf6-f0475f1f82ba",
   "metadata": {},
   "outputs": [],
   "source": [
    "import copy"
   ]
  },
  {
   "cell_type": "code",
   "execution_count": 122,
   "id": "a06caac3-3c1f-43b6-af0e-cba057ef3c19",
   "metadata": {},
   "outputs": [],
   "source": [
    "# Lo que ocurre es que L y M son \"apuntadores\" a un pedazo de memoria. Cuando pongo M = L, lo que estoy haciendo es decir que M y L apuntan al mismo lugar en la memoria. Cuando modifico M, entonces, tambien se modifica L\n",
    "\n",
    "# copy\n",
    "\n",
    "# Si queremos hacer una copia de verdad de L, tenemos que usar el comando copy:\n",
    "M = copy.copy(L)"
   ]
  },
  {
   "cell_type": "code",
   "execution_count": 124,
   "id": "efdd6ac8-b6ce-4ab9-a54f-56077af44d92",
   "metadata": {},
   "outputs": [],
   "source": [
    "M[4]=999"
   ]
  },
  {
   "cell_type": "code",
   "execution_count": 115,
   "id": "ef56c7d9-cb63-40a9-abaa-5d9b4439c339",
   "metadata": {},
   "outputs": [
    {
     "data": {
      "text/plain": [
       "[0, 1, 2, 3, 999, 5, 6, 7, 8, 9]"
      ]
     },
     "execution_count": 115,
     "metadata": {},
     "output_type": "execute_result"
    }
   ],
   "source": [
    "M"
   ]
  },
  {
   "cell_type": "code",
   "execution_count": 126,
   "id": "ee7c16cc-6236-4e47-96da-88379937f2c4",
   "metadata": {},
   "outputs": [
    {
     "data": {
      "text/plain": [
       "[0, 1, 2, 3, 4, 5, 6, 7, 8, 9]"
      ]
     },
     "execution_count": 126,
     "metadata": {},
     "output_type": "execute_result"
    }
   ],
   "source": [
    "L"
   ]
  },
  {
   "cell_type": "code",
   "execution_count": 133,
   "id": "06357588-63f3-4745-b236-691506534bf1",
   "metadata": {},
   "outputs": [],
   "source": [
    "# Ahora, que creen que pase si tenemos esto:\n",
    "L = [1,2,[1,2,4,6,2],[1,2,1]]\n",
    "M = copy.copy(L)"
   ]
  },
  {
   "cell_type": "code",
   "execution_count": 134,
   "id": "0df991ec-5ef7-46aa-8619-03845ba0d1cb",
   "metadata": {},
   "outputs": [
    {
     "data": {
      "text/plain": [
       "[1, 2, [1, 2, 4, 6, 2], [1, 2, 1]]"
      ]
     },
     "execution_count": 134,
     "metadata": {},
     "output_type": "execute_result"
    }
   ],
   "source": [
    "L"
   ]
  },
  {
   "cell_type": "code",
   "execution_count": 129,
   "id": "2f680947-f1a6-4fc8-b106-e611b0d0ef4a",
   "metadata": {},
   "outputs": [
    {
     "data": {
      "text/plain": [
       "[1, 2, [1, 2, 4, 6, 2], [1, 2, 1]]"
      ]
     },
     "execution_count": 129,
     "metadata": {},
     "output_type": "execute_result"
    }
   ],
   "source": [
    "M"
   ]
  },
  {
   "cell_type": "code",
   "execution_count": 135,
   "id": "191d60ce-133a-41e1-a859-40d3f8fa43af",
   "metadata": {},
   "outputs": [],
   "source": [
    "M[2][1] = 5000"
   ]
  },
  {
   "cell_type": "code",
   "execution_count": 136,
   "id": "161223c1-7659-4429-8c3d-9924cb867d40",
   "metadata": {},
   "outputs": [
    {
     "data": {
      "text/plain": [
       "[1, 2, [1, 5000, 4, 6, 2], [1, 2, 1]]"
      ]
     },
     "execution_count": 136,
     "metadata": {},
     "output_type": "execute_result"
    }
   ],
   "source": [
    "M"
   ]
  },
  {
   "cell_type": "code",
   "execution_count": 137,
   "id": "629c1c16-a8f5-4113-bbeb-120f52f7aec9",
   "metadata": {},
   "outputs": [
    {
     "data": {
      "text/plain": [
       "[1, 2, [1, 5000, 4, 6, 2], [1, 2, 1]]"
      ]
     },
     "execution_count": 137,
     "metadata": {},
     "output_type": "execute_result"
    }
   ],
   "source": [
    "L"
   ]
  },
  {
   "cell_type": "code",
   "execution_count": 138,
   "id": "35486680-1cb1-4f0d-aefa-ab317cd76962",
   "metadata": {},
   "outputs": [
    {
     "name": "stdout",
     "output_type": "stream",
     "text": [
      "[1, 2, [1, 2, 4, 6, 2], [1, 2, 1]]\n",
      "[1, 2, [1, 5000, 4, 6, 2], [1, 2, 1]]\n"
     ]
    }
   ],
   "source": [
    "# Para copiar bien bien hay que utilizar el comando \"deepcopy\":\n",
    "L = [1,2,[1,2,4,6,2],[1,2,1]]\n",
    "M = copy.deepcopy(L)\n",
    "\n",
    "M[2][1] = 5000\n",
    "print(L)\n",
    "print(M)"
   ]
  },
  {
   "cell_type": "markdown",
   "id": "8dd3b483-04d0-4a4b-9959-a5737629ff09",
   "metadata": {},
   "source": [
    "### Ejercicios\n",
    "\n",
    "1. Crea una lista con los números PARES entre el 100 y el 200\n",
    "2. Crea una lista con los números del 1 al 200 que NO sean múltiplos de 3 ni de 5. Es decir, [1,2,4,7,...]\n",
    "3. Crea una lista con todas las parejas de números naturales menores a 10.\n",
    "4. Crea una lista con todas las parejas (a,b) tales que a|b y 0≤a≤b<10"
   ]
  },
  {
   "cell_type": "markdown",
   "id": "3e8209a5-10b6-4b04-ba5f-802554758d19",
   "metadata": {},
   "source": [
    "#### Ejercicio 1"
   ]
  },
  {
   "cell_type": "code",
   "execution_count": 144,
   "id": "1785227a-c976-439e-bf8a-d7f8f97565d0",
   "metadata": {},
   "outputs": [
    {
     "data": {
      "text/plain": [
       "[100,\n",
       " 102,\n",
       " 104,\n",
       " 106,\n",
       " 108,\n",
       " 110,\n",
       " 112,\n",
       " 114,\n",
       " 116,\n",
       " 118,\n",
       " 120,\n",
       " 122,\n",
       " 124,\n",
       " 126,\n",
       " 128,\n",
       " 130,\n",
       " 132,\n",
       " 134,\n",
       " 136,\n",
       " 138,\n",
       " 140,\n",
       " 142,\n",
       " 144,\n",
       " 146,\n",
       " 148,\n",
       " 150,\n",
       " 152,\n",
       " 154,\n",
       " 156,\n",
       " 158,\n",
       " 160,\n",
       " 162,\n",
       " 164,\n",
       " 166,\n",
       " 168,\n",
       " 170,\n",
       " 172,\n",
       " 174,\n",
       " 176,\n",
       " 178,\n",
       " 180,\n",
       " 182,\n",
       " 184,\n",
       " 186,\n",
       " 188,\n",
       " 190,\n",
       " 192,\n",
       " 194,\n",
       " 196,\n",
       " 198]"
      ]
     },
     "execution_count": 144,
     "metadata": {},
     "output_type": "execute_result"
    }
   ],
   "source": [
    "L=[x for x in range(100,200) if x % 2 == 0]; L"
   ]
  },
  {
   "cell_type": "code",
   "execution_count": 145,
   "id": "da8b6902-0fe2-4d1f-9af7-ef9c1ef92dd7",
   "metadata": {},
   "outputs": [
    {
     "data": {
      "text/plain": [
       "50"
      ]
     },
     "execution_count": 145,
     "metadata": {},
     "output_type": "execute_result"
    }
   ],
   "source": [
    "len(L)"
   ]
  },
  {
   "cell_type": "code",
   "execution_count": 23,
   "id": "419458b1-41d0-4fed-8ed1-6f661ad3703a",
   "metadata": {},
   "outputs": [],
   "source": [
    "L = [583,132,4,13,23,24,24,53,563,4567,537,546,735,7,456]"
   ]
  },
  {
   "cell_type": "code",
   "execution_count": 18,
   "id": "eeaba82c-2e67-4f4f-82e1-d6a69c8ea4c6",
   "metadata": {},
   "outputs": [
    {
     "data": {
      "text/plain": [
       "[4, 7, 13, 23, 24, 24, 53, 132, 456, 537, 546, 563, 583, 735, 4567]"
      ]
     },
     "execution_count": 18,
     "metadata": {},
     "output_type": "execute_result"
    }
   ],
   "source": [
    "L.sort(); L"
   ]
  },
  {
   "cell_type": "code",
   "execution_count": 19,
   "id": "d014526a-7839-49b1-bb51-97e69c53cf87",
   "metadata": {},
   "outputs": [
    {
     "data": {
      "text/plain": [
       "[4567, 735, 583, 563, 546, 537, 456, 132, 53, 24, 24, 23, 13, 7, 4]"
      ]
     },
     "execution_count": 19,
     "metadata": {},
     "output_type": "execute_result"
    }
   ],
   "source": [
    "L.reverse(); L"
   ]
  },
  {
   "cell_type": "code",
   "execution_count": 20,
   "id": "57dad698-2bf1-4e8f-991a-f5218cd1d2db",
   "metadata": {},
   "outputs": [],
   "source": [
    "L.sort(key=lambda x : x%10)"
   ]
  },
  {
   "cell_type": "code",
   "execution_count": 21,
   "id": "e5b473fc-8324-44b7-993c-c90dfa2a72c9",
   "metadata": {},
   "outputs": [
    {
     "data": {
      "text/plain": [
       "[132, 583, 563, 53, 23, 13, 24, 24, 4, 735, 546, 456, 4567, 537, 7]"
      ]
     },
     "execution_count": 21,
     "metadata": {},
     "output_type": "execute_result"
    }
   ],
   "source": [
    "L"
   ]
  },
  {
   "cell_type": "code",
   "execution_count": 24,
   "id": "dd83204f-2330-4e0c-a747-912515555339",
   "metadata": {},
   "outputs": [
    {
     "data": {
      "text/plain": [
       "15"
      ]
     },
     "execution_count": 24,
     "metadata": {},
     "output_type": "execute_result"
    }
   ],
   "source": [
    "len(L)"
   ]
  }
 ],
 "metadata": {
  "kernelspec": {
   "display_name": "Python 3",
   "language": "python",
   "name": "python3"
  },
  "language_info": {
   "codemirror_mode": {
    "name": "ipython",
    "version": 3
   },
   "file_extension": ".py",
   "mimetype": "text/x-python",
   "name": "python",
   "nbconvert_exporter": "python",
   "pygments_lexer": "ipython3",
   "version": "3.8.8"
  }
 },
 "nbformat": 4,
 "nbformat_minor": 5
}
