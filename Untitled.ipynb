{
 "cells": [
  {
   "cell_type": "code",
   "execution_count": 10,
   "id": "2d584ae2-1130-460b-bd04-850e6b29967a",
   "metadata": {},
   "outputs": [],
   "source": [
    "from pathlib import Path"
   ]
  },
  {
   "cell_type": "code",
   "execution_count": 11,
   "id": "67991885-3d9b-4d0e-bfd2-6cda492a8049",
   "metadata": {},
   "outputs": [
    {
     "data": {
      "text/plain": [
       "WindowsPath('Carpeta')"
      ]
     },
     "execution_count": 11,
     "metadata": {},
     "output_type": "execute_result"
    }
   ],
   "source": [
    "path = Path(\"Carpeta\")\n",
    "path"
   ]
  },
  {
   "cell_type": "code",
   "execution_count": 12,
   "id": "0531f3bf-4871-48c8-bc81-30e87435e049",
   "metadata": {},
   "outputs": [],
   "source": [
    "path.mkdir(parents=True,exist_ok=True)"
   ]
  },
  {
   "cell_type": "code",
   "execution_count": 13,
   "id": "c8b5fdff-99c0-4191-bc72-048173f92034",
   "metadata": {},
   "outputs": [
    {
     "data": {
      "text/plain": [
       "WindowsPath('Carpeta/untitled2.txt')"
      ]
     },
     "execution_count": 13,
     "metadata": {},
     "output_type": "execute_result"
    }
   ],
   "source": [
    "path = Path(\"Carpeta/untitled2.txt\")\n",
    "path"
   ]
  },
  {
   "cell_type": "code",
   "execution_count": 14,
   "id": "f0171b21-86ff-4808-b822-fa0a3d6e0d9a",
   "metadata": {},
   "outputs": [
    {
     "data": {
      "text/plain": [
       "False"
      ]
     },
     "execution_count": 14,
     "metadata": {},
     "output_type": "execute_result"
    }
   ],
   "source": [
    "#Existe?\n",
    "path.exists()"
   ]
  },
  {
   "cell_type": "code",
   "execution_count": 15,
   "id": "078efc6d-36fc-4a3b-a11d-b077cd8b64c8",
   "metadata": {},
   "outputs": [],
   "source": [
    "#Crear si no existe\n",
    "path.touch()"
   ]
  },
  {
   "cell_type": "code",
   "execution_count": 16,
   "id": "99fdea4e-2c80-4ac6-85a4-237405436102",
   "metadata": {},
   "outputs": [
    {
     "data": {
      "text/plain": [
       "True"
      ]
     },
     "execution_count": 16,
     "metadata": {},
     "output_type": "execute_result"
    }
   ],
   "source": [
    "path.exists()"
   ]
  },
  {
   "cell_type": "code",
   "execution_count": 17,
   "id": "de14b7f1-4f08-4eeb-bf7f-7611c101beb3",
   "metadata": {},
   "outputs": [],
   "source": [
    "directorio = Path(\"Carpeta/\")"
   ]
  },
  {
   "cell_type": "code",
   "execution_count": 18,
   "id": "70ba1c02-006a-4f3a-b8a6-3f17c570b050",
   "metadata": {},
   "outputs": [],
   "source": [
    "archivo = directorio/\"ccm.png\""
   ]
  },
  {
   "cell_type": "code",
   "execution_count": 19,
   "id": "62e8194a-d60e-4892-8d02-0a8c57c307b8",
   "metadata": {},
   "outputs": [
    {
     "data": {
      "text/plain": [
       "WindowsPath('Carpeta/ccm.png')"
      ]
     },
     "execution_count": 19,
     "metadata": {},
     "output_type": "execute_result"
    }
   ],
   "source": [
    "archivo"
   ]
  },
  {
   "cell_type": "code",
   "execution_count": 20,
   "id": "c500cbc0-b250-4e78-a1e6-176301155f3a",
   "metadata": {},
   "outputs": [
    {
     "data": {
      "text/plain": [
       "False"
      ]
     },
     "execution_count": 20,
     "metadata": {},
     "output_type": "execute_result"
    }
   ],
   "source": [
    "archivo.exists()"
   ]
  },
  {
   "cell_type": "code",
   "execution_count": 21,
   "id": "54f93091-467f-4240-adcb-f8babe9761d5",
   "metadata": {},
   "outputs": [
    {
     "data": {
      "text/plain": [
       "'ccm.png'"
      ]
     },
     "execution_count": 21,
     "metadata": {},
     "output_type": "execute_result"
    }
   ],
   "source": [
    "archivo.name"
   ]
  },
  {
   "cell_type": "code",
   "execution_count": null,
   "id": "5c7f4a04-196f-4e6c-81f5-5d06ee9ab906",
   "metadata": {},
   "outputs": [],
   "source": []
  }
 ],
 "metadata": {
  "kernelspec": {
   "display_name": "Python 3",
   "language": "python",
   "name": "python3"
  },
  "language_info": {
   "codemirror_mode": {
    "name": "ipython",
    "version": 3
   },
   "file_extension": ".py",
   "mimetype": "text/x-python",
   "name": "python",
   "nbconvert_exporter": "python",
   "pygments_lexer": "ipython3",
   "version": "3.8.8"
  }
 },
 "nbformat": 4,
 "nbformat_minor": 5
}
